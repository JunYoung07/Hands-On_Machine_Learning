{
  "cells": [
    {
      "cell_type": "markdown",
      "metadata": {
        "id": "view-in-github",
        "colab_type": "text"
      },
      "source": [
        "<a href=\"https://colab.research.google.com/github/JunYoung07/Hands-On_Machine_Learning/blob/main/2_Classification.ipynb\" target=\"_parent\"><img src=\"https://colab.research.google.com/assets/colab-badge.svg\" alt=\"Open In Colab\"/></a>"
      ]
    },
    {
      "cell_type": "markdown",
      "metadata": {
        "id": "lKJ-0W0Nf8H3"
      },
      "source": [
        "# Chapter3. 분류 (Classification)"
      ]
    },
    {
      "cell_type": "markdown",
      "metadata": {
        "id": "20TYcT8jgXlI"
      },
      "source": [
        "## 3-1. MNIST 데이터 셋\n",
        "* 70,000개의 작은 숫자 이미지\n",
        "* 각 이미지마다 어떤 숫자를 나타내는 지 레이블되어 있음"
      ]
    },
    {
      "cell_type": "code",
      "execution_count": 1,
      "metadata": {
        "id": "Bn-Osz2xg8L6"
      },
      "outputs": [],
      "source": [
        "# 공통 모듈 임포트\n",
        "import numpy as np\n",
        "import os\n",
        "\n",
        "# 노트북 실행 결과를 동일하게 유지하기 위해\n",
        "np.random.seed(42)\n",
        "\n",
        "# 깔끔한 그래프 출력\n",
        "%matplotlib inline\n",
        "import matplotlib as mpl\n",
        "import matplotlib.pyplot as plt\n",
        "mpl.rc('axes', labelsize=14)\n",
        "mpl.rc('xtick', labelsize=12)\n",
        "mpl.rc('ytick', labelsize=12)\n",
        "\n",
        "# 그림을 저장할 위치\n",
        "PROJECT_ROOT_DIR = \".\"\n",
        "CHAPTER_ID = \"classification\"\n",
        "IMAGES_PATH = os.path.join(PROJECT_ROOT_DIR, \"images\", CHAPTER_ID)\n",
        "os.makedirs(IMAGES_PATH, exist_ok=True)\n",
        "\n",
        "def save_fig(fig_id, tight_layout=True, fig_extension=\"png\", resolution=300):\n",
        "    path = os.path.join(IMAGES_PATH, fig_id + \".\" + fig_extension)\n",
        "    print(\"그림 저장:\", fig_id)\n",
        "    if tight_layout:\n",
        "        plt.tight_layout()\n",
        "    plt.savefig(path, format=fig_extension, dpi=resolution)"
      ]
    },
    {
      "cell_type": "markdown",
      "metadata": {
        "id": "t1KKeXP6igyT"
      },
      "source": [
        "* 사이킷런에서 읽어 들인 데이터셋들은 일반적으로 비슷한 딕셔너리 구조를 가진다.\n",
        "    * 데이터셋을 설명하는 **DESCR 키**\n",
        "    * 샘플이 하나의 행, 특성이 하나의 열로 구성된 배열을 가진 **data 키**\n",
        "    * 레이블 배열을 담은 **target 키**"
      ]
    },
    {
      "cell_type": "code",
      "execution_count": 2,
      "metadata": {
        "colab": {
          "base_uri": "https://localhost:8080/"
        },
        "id": "hX58XBRJixNf",
        "outputId": "ef2d79fb-faa7-4558-bc51-46ed846de6bf"
      },
      "outputs": [
        {
          "output_type": "execute_result",
          "data": {
            "text/plain": [
              "dict_keys(['data', 'target', 'frame', 'categories', 'feature_names', 'target_names', 'DESCR', 'details', 'url'])"
            ]
          },
          "metadata": {},
          "execution_count": 2
        }
      ],
      "source": [
        "# MNIST 데이터셋 내려받기\n",
        "from sklearn.datasets import fetch_openml\n",
        "mnist = fetch_openml('mnist_784', version=1, as_frame=False)\n",
        "mnist.keys()"
      ]
    },
    {
      "cell_type": "code",
      "execution_count": 3,
      "metadata": {
        "colab": {
          "base_uri": "https://localhost:8080/"
        },
        "id": "qm9EO4KQjCGo",
        "outputId": "4dcd274a-634d-463b-9caa-55767104b4d3"
      },
      "outputs": [
        {
          "output_type": "execute_result",
          "data": {
            "text/plain": [
              "(70000, 784)"
            ]
          },
          "metadata": {},
          "execution_count": 3
        }
      ],
      "source": [
        "X, y = mnist[\"data\"], mnist[\"target\"]\n",
        "X.shape     # 2차원 배열 (70000장의 샘플(row), 784개의 특성(columns))"
      ]
    },
    {
      "cell_type": "code",
      "execution_count": 4,
      "metadata": {
        "colab": {
          "base_uri": "https://localhost:8080/"
        },
        "id": "PUA0QAlCjcUS",
        "outputId": "a9a2cb33-55d4-41a5-fbf7-14d55c77518d"
      },
      "outputs": [
        {
          "output_type": "execute_result",
          "data": {
            "text/plain": [
              "(70000,)"
            ]
          },
          "metadata": {},
          "execution_count": 4
        }
      ],
      "source": [
        "y.shape     # 각각의 샘플의 레이블을 담고 있다."
      ]
    },
    {
      "cell_type": "code",
      "execution_count": 5,
      "metadata": {
        "colab": {
          "base_uri": "https://localhost:8080/",
          "height": 248
        },
        "id": "ilTVEs4kjdBK",
        "outputId": "25ba13c4-8eab-4b88-cb99-95588d27c528"
      },
      "outputs": [
        {
          "output_type": "display_data",
          "data": {
            "text/plain": [
              "<Figure size 432x288 with 1 Axes>"
            ],
            "image/png": "[encoded data removed]"
          },
          "metadata": {
            "needs_background": "light"
          }
        }
      ],
      "source": [
        "# 데이터 셋의 이미지 확인\n",
        "import matplotlib as mlt\n",
        "import matplotlib.pyplot as plt\n",
        "\n",
        "some_digit = X[0]\n",
        "some_digit_image = some_digit.reshape(28, 28)   # 첫번째 그림의 1차원 특성 784개를 2차원 28*28로 표현\n",
        "\n",
        "plt.imshow(some_digit_image, cmap=\"binary\")\n",
        "plt.axis(\"off\")\n",
        "plt.show()"
      ]
    },
    {
      "cell_type": "code",
      "execution_count": 6,
      "metadata": {
        "colab": {
          "base_uri": "https://localhost:8080/",
          "height": 36
        },
        "id": "1SrEoSnnlQNU",
        "outputId": "136f4e84-7924-44c8-c6c2-c00dfb914be8"
      },
      "outputs": [
        {
          "output_type": "execute_result",
          "data": {
            "text/plain": [
              "'5'"
            ],
            "application/vnd.google.colaboratory.intrinsic+json": {
              "type": "string"
            }
          },
          "metadata": {},
          "execution_count": 6
        }
      ],
      "source": [
        "y[0]"
      ]
    },
    {
      "cell_type": "code",
      "execution_count": 7,
      "metadata": {
        "id": "3ltfkGRElncC"
      },
      "outputs": [],
      "source": [
        "# 레이블을 문자열에서 정수로 변환 (대부분의 머신러닝 알고리즘은 숫자를 기대한다.)\n",
        "y = y.astype(np.uint8)  "
      ]
    },
    {
      "cell_type": "code",
      "execution_count": 8,
      "metadata": {
        "id": "BA9VaWcacqoA"
      },
      "outputs": [],
      "source": [
        "def plot_digit(data):\n",
        "    image = data.reshape(28, 28)\n",
        "    plt.imshow(image, cmap = mpl.cm.binary,\n",
        "               interpolation=\"nearest\")\n",
        "    plt.axis(\"off\")"
      ]
    },
    {
      "cell_type": "code",
      "execution_count": 9,
      "metadata": {
        "id": "gAx-edXocqxy"
      },
      "outputs": [],
      "source": [
        "# 숫자 그림을 위한 추가 함수\n",
        "def plot_digits(instances, images_per_row=10, **options):\n",
        "    size = 28\n",
        "    images_per_row = min(len(instances), images_per_row)\n",
        "    # n_rows = ceil(len(instances) / images_per_row)\n",
        "    n_rows = (len(instances) - 1) // images_per_row + 1\n",
        "\n",
        "    # 필요하면 그리드 끝을 채우기 위해 빈 이미지를 추가합니다:\n",
        "    n_empty = n_rows * images_per_row - len(instances)\n",
        "    padded_instances = np.concatenate([instances, np.zeros((n_empty, size * size))], axis=0)\n",
        "\n",
        "    # 배열의 크기를 바꾸어 28×28 이미지를 담은 그리드로 구성합니다:\n",
        "    image_grid = padded_instances.reshape((n_rows, images_per_row, size, size))\n",
        "\n",
        "    # 축 0(이미지 그리드의 수직축)과 2(이미지의 수직축)를 합치고 축 1과 3(두 수평축)을 합칩니다. \n",
        "    # 먼저 transpose()를 사용해 결합하려는 축을 옆으로 이동한 다음 합칩니다:\n",
        "    big_image = image_grid.transpose(0, 2, 1, 3).reshape(n_rows * size,\n",
        "                                                         images_per_row * size)\n",
        "    # 하나의 큰 이미지를 얻었으므로 출력하면 됩니다:\n",
        "    plt.imshow(big_image, cmap = mpl.cm.binary, **options)\n",
        "    plt.axis(\"off\")"
      ]
    },
    {
      "cell_type": "markdown",
      "metadata": {
        "id": "i-7SFNnylsEe"
      },
      "source": [
        "* MNIST는 이미 훈련세트와 테스트 세트로 나누어둠\n",
        "* 훈련세트의 경우 이미 섞여 있어 모든 교차 검증 폴드를 비슷하게 만든다."
      ]
    },
    {
      "cell_type": "code",
      "execution_count": 10,
      "metadata": {
        "id": "UzRrAP8nnOOg"
      },
      "outputs": [],
      "source": [
        "X_train, X_test, y_train, y_test = X[:60000], X[60000:], y[:60000], y[60000:]"
      ]
    },
    {
      "cell_type": "markdown",
      "metadata": {
        "id": "Ngk7iLx2nmta"
      },
      "source": [
        "## 3-2. 이진 분류기 훈련\n"
      ]
    },
    {
      "cell_type": "markdown",
      "metadata": {
        "id": "uDvQjDtRnsuP"
      },
      "source": [
        "* 숫자 5만 식별하기 '5-감지기'\n",
        "    * '5'\n",
        "    * '5 아님'\n",
        "* 두 개의 클래스로 구분하는 **이진 분류기**"
      ]
    },
    {
      "cell_type": "code",
      "execution_count": 11,
      "metadata": {
        "id": "tMbrUlzwn4kp"
      },
      "outputs": [],
      "source": [
        "# 타깃 벡터 생성\n",
        "y_train_5 = (y_train == 5)  # 5는 True고, 다른 숫자는 모두 False\n",
        "y_test_t = (y_test == 5)"
      ]
    },
    {
      "cell_type": "markdown",
      "metadata": {
        "id": "93wuPvjSxBSk"
      },
      "source": [
        "### 3-2-1. 확률적 경사 하강법 (**SGD**)\n",
        "* Stochastic Gradient Descent \n",
        "* 한 번에 하나씩 훈련 샘플을 독립적으로 처리한다. (온라인 학습에 잘 맞는다)\n"
      ]
    },
    {
      "cell_type": "code",
      "execution_count": 12,
      "metadata": {
        "colab": {
          "base_uri": "https://localhost:8080/"
        },
        "id": "FNXeyUQRxcXD",
        "outputId": "6bba5a89-38a3-4441-88e1-08d3e6064be0"
      },
      "outputs": [
        {
          "output_type": "execute_result",
          "data": {
            "text/plain": [
              "SGDClassifier(random_state=42)"
            ]
          },
          "metadata": {},
          "execution_count": 12
        }
      ],
      "source": [
        "from sklearn.linear_model import SGDClassifier\n",
        "\n",
        "sgd_clf = SGDClassifier(max_iter=1000, tol=1e-3, random_state=42)   # 훈련 시에 무작위성을 사용한다.\n",
        "sgd_clf.fit(X_train, y_train_5)"
      ]
    },
    {
      "cell_type": "code",
      "execution_count": 13,
      "metadata": {
        "colab": {
          "base_uri": "https://localhost:8080/"
        },
        "id": "C0Gbnm9Pxq9e",
        "outputId": "3437cbd4-46aa-4e0a-fe81-87cd0a6f353c"
      },
      "outputs": [
        {
          "output_type": "execute_result",
          "data": {
            "text/plain": [
              "array([ True])"
            ]
          },
          "metadata": {},
          "execution_count": 13
        }
      ],
      "source": [
        "# 숫자 5 이미지 감지\n",
        "sgd_clf.predict([some_digit])  "
      ]
    },
    {
      "cell_type": "code",
      "execution_count": 14,
      "metadata": {
        "colab": {
          "base_uri": "https://localhost:8080/"
        },
        "id": "i-l3rDBtyZjV",
        "outputId": "318d2114-06dd-4fff-c1bf-b82b6ddcf7aa"
      },
      "outputs": [
        {
          "output_type": "execute_result",
          "data": {
            "text/plain": [
              "array([0.87365, 0.85835, 0.8689 ])"
            ]
          },
          "metadata": {},
          "execution_count": 14
        }
      ],
      "source": [
        "# 성능 측정\n",
        "from sklearn.model_selection import cross_val_score\n",
        "cross_val_score(sgd_clf, X_train, y_train, cv=3, scoring=\"accuracy\")"
      ]
    },
    {
      "cell_type": "markdown",
      "metadata": {
        "id": "oSeepPFxx2Pi"
      },
      "source": [
        "## 3-3. 성능 측정"
      ]
    },
    {
      "cell_type": "markdown",
      "metadata": {
        "id": "r038NnaAyB3Q"
      },
      "source": [
        "### 3-3-1. 교차 검증을 사용한 정확도 측정\n",
        "* 사이킷런이 제공하는 기능보다 교차 검증 과정을 더 많이 제어해야 하는 경우 교차 검증 기능을 직접 구현한다."
      ]
    },
    {
      "cell_type": "code",
      "execution_count": 15,
      "metadata": {
        "colab": {
          "base_uri": "https://localhost:8080/"
        },
        "id": "1nAHY9agyWeK",
        "outputId": "c8e3d895-4a2d-4caf-9f91-695d1c8c33fe"
      },
      "outputs": [
        {
          "output_type": "stream",
          "name": "stdout",
          "text": [
            "0.9669\n",
            "0.91625\n",
            "0.96785\n"
          ]
        }
      ],
      "source": [
        "from sklearn.model_selection import StratifiedKFold\n",
        "from sklearn.base import clone\n",
        "\n",
        "skfolds = StratifiedKFold(n_splits=3, random_state=42, shuffle=True)\n",
        "\n",
        "for train_index, test_index in skfolds.split(X_train, y_train_5):\n",
        "    clone_clf = clone(sgd_clf)\n",
        "    X_train_folds = X_train[train_index]\n",
        "    y_train_folds = y_train_5[train_index]\n",
        "    X_test_fold = X_train[test_index]\n",
        "    y_test_fold = y_train_5[test_index]\n",
        "\n",
        "    clone_clf.fit(X_train_folds, y_train_folds)\n",
        "    y_pred = clone_clf.predict(X_test_fold)\n",
        "    n_correct = sum(y_pred == y_test_fold)\n",
        "    print(n_correct / len(y_pred))"
      ]
    },
    {
      "cell_type": "code",
      "execution_count": 16,
      "metadata": {
        "id": "Blh5vmDdIm2B"
      },
      "outputs": [],
      "source": [
        "# 모든 이미지를 '5 아님'클래스로 분류하는 더미 분류기\n",
        "from sklearn.base import BaseEstimator\n",
        "\n",
        "class Never5Classifier(BaseEstimator):\n",
        "    def fit(self, X, y=None):\n",
        "        return self\n",
        "    def predict(self, X):\n",
        "        return np.zeros((len(X), 1), dtype=bool)"
      ]
    },
    {
      "cell_type": "code",
      "execution_count": 17,
      "metadata": {
        "colab": {
          "base_uri": "https://localhost:8080/"
        },
        "id": "x6wV_C3zJIUq",
        "outputId": "ed4d3b51-24f5-4f50-dc26-eb3d989237bd"
      },
      "outputs": [
        {
          "output_type": "execute_result",
          "data": {
            "text/plain": [
              "array([0.91125, 0.90855, 0.90915])"
            ]
          },
          "metadata": {},
          "execution_count": 17
        }
      ],
      "source": [
        "never_5_clf = Never5Classifier()\n",
        "cross_val_score(never_5_clf, X_train, y_train_5, cv=3, scoring=\"accuracy\")"
      ]
    },
    {
      "cell_type": "markdown",
      "metadata": {
        "id": "YY013o43JTgp"
      },
      "source": [
        "> 이미지의 10%정도가  숫자 5이므로 무조건 90프로 이상의 성능을 가진다. 따라서 정확도를 분류기의 성능 지표로 선호하지 않는다."
      ]
    },
    {
      "cell_type": "markdown",
      "metadata": {
        "id": "0omOiYcaJl0k"
      },
      "source": [
        "### 3-3-2. 오차 행렬\n"
      ]
    },
    {
      "cell_type": "markdown",
      "metadata": {
        "id": "gy4BZoYUJrO_"
      },
      "source": [
        "* 분류기 성능 평가 지표\n",
        "* 클래스 A의 샘플이 클래스 B로 분류된 횟수를 세는 것\n",
        "* 실제 타깃과 비교할 수 있도록 먼저 예측값을 만들어야 한다."
      ]
    },
    {
      "cell_type": "code",
      "execution_count": 18,
      "metadata": {
        "id": "INRUy8PoK1tT"
      },
      "outputs": [],
      "source": [
        "# 예측값 생성\n",
        "from sklearn.model_selection import cross_val_predict\n",
        "\n",
        "y_train_pred = cross_val_predict(sgd_clf, X_train, y_train_5, cv=3) # cross_val_score()함수처럼 K-겹 교차 검증을 수행한다."
      ]
    },
    {
      "cell_type": "markdown",
      "metadata": {
        "id": "fRCZ2q14LkfR"
      },
      "source": [
        "* **오차 행렬**\n",
        "    * 오차행렬의 행은 **실제 클래스**이고 열은 **예측한 클래스**\n",
        "    * 첫번째 행은 '5 아님', 두번째 행은 '5'\n",
        "    * 첫번째 열은 음성, 두번째 열은 양성  \n",
        "\n",
        "![ScreenShot](https://formal.hknu.ac.kr/handson-ml2/slides/images/homl03-02.png)"
      ]
    },
    {
      "cell_type": "markdown",
      "metadata": {
        "id": "79cvWvehNSAZ"
      },
      "source": [
        "|Classify|Predicted Negative|Predicted Positive|\n",
        "|-----|:---:|:---:|\n",
        "|Negative Class|TN|FP|\n",
        "|Positive Class|FN|TP|"
      ]
    },
    {
      "cell_type": "code",
      "execution_count": 19,
      "metadata": {
        "colab": {
          "base_uri": "https://localhost:8080/"
        },
        "id": "exvJHnrPLBtz",
        "outputId": "096e4170-57cd-4786-94cf-d289fd90f9eb"
      },
      "outputs": [
        {
          "output_type": "execute_result",
          "data": {
            "text/plain": [
              "array([[53892,   687],\n",
              "       [ 1891,  3530]])"
            ]
          },
          "metadata": {},
          "execution_count": 19
        }
      ],
      "source": [
        "# 오차행렬 생성\n",
        "from sklearn.metrics import confusion_matrix\n",
        "confusion_matrix(y_train_5, y_train_pred)"
      ]
    },
    {
      "cell_type": "code",
      "execution_count": 20,
      "metadata": {
        "colab": {
          "base_uri": "https://localhost:8080/"
        },
        "id": "WCErwCbVNMai",
        "outputId": "1129693e-a9d5-4dcb-f2bb-6e0c6898dc14"
      },
      "outputs": [
        {
          "output_type": "execute_result",
          "data": {
            "text/plain": [
              "array([[54579,     0],\n",
              "       [    0,  5421]])"
            ]
          },
          "metadata": {},
          "execution_count": 20
        }
      ],
      "source": [
        "# 완벽한 분류기의 경우\n",
        "y_train_perfect_predictions = y_train_5\n",
        "confusion_matrix(y_train_5, y_train_perfect_predictions)"
      ]
    },
    {
      "cell_type": "markdown",
      "metadata": {
        "id": "m_xqW61ENZvX"
      },
      "source": [
        "* **양성 예측의 정확도**\n",
        "    * **정밀도**\n",
        "$$정밀도 = \\frac{TP}{TP+FP}$$\n",
        "    * $TP$는 진짜 양성의 수, $FP$는 거짓 양성의 수\n",
        "    * **재현율**\n",
        "        * 정밀도는 다른 모든 양성 샘플을 무시하기 때문에 한계가 있다.\n",
        "    * **민감도**, **진짜 양성 비율**\n",
        "$$재현율 = \\frac{TP}{TP + FN}$$"
      ]
    },
    {
      "cell_type": "markdown",
      "metadata": {
        "id": "2qmYRnM5QoB3"
      },
      "source": [
        "### 3-3-3. 정밀도와 재현율"
      ]
    },
    {
      "cell_type": "markdown",
      "metadata": {
        "id": "JX2tu8O0QsO0"
      },
      "source": [
        "* 사이킷런에서 제공하는 함수 사용\n",
        "```\n",
        "precision_score # 정밀도\n",
        "recall_score  # 재현율\n",
        "```"
      ]
    },
    {
      "cell_type": "code",
      "execution_count": 21,
      "metadata": {
        "colab": {
          "base_uri": "https://localhost:8080/"
        },
        "id": "26PBlEUzRd3k",
        "outputId": "167e10a3-895a-4d23-cc73-2f4698b16ba6"
      },
      "outputs": [
        {
          "output_type": "execute_result",
          "data": {
            "text/plain": [
              "0.8370879772350012"
            ]
          },
          "metadata": {},
          "execution_count": 21
        }
      ],
      "source": [
        "from sklearn.metrics import precision_score, recall_score\n",
        "precision_score(y_train_5, y_train_pred)    # 정밀도 측정"
      ]
    },
    {
      "cell_type": "code",
      "execution_count": 22,
      "metadata": {
        "colab": {
          "base_uri": "https://localhost:8080/"
        },
        "id": "llYA2iHDRxTD",
        "outputId": "fa74d81b-f53b-4fed-e367-cbd12b27bce7"
      },
      "outputs": [
        {
          "output_type": "execute_result",
          "data": {
            "text/plain": [
              "0.6511713705958311"
            ]
          },
          "metadata": {},
          "execution_count": 22
        }
      ],
      "source": [
        "recall_score(y_train_5, y_train_pred)"
      ]
    },
    {
      "cell_type": "markdown",
      "metadata": {
        "id": "Y8pvDu2BR6Dt"
      },
      "source": [
        "#### $F_1$점수\n",
        "* 정밀도와 재현율을 하나의 숫자로 만든다.\n",
        "* 정밀도와 재현율의 **조화 평균**(harmonic mean)  \n",
        "\n",
        "$$F_1 = \\frac{2}{\\frac{1}{정밀도}+\\frac{1}{재현율}} = 2 \\times \\frac{정밀도 * 재현율}{정밀도 \\times 재현율} = \\frac{TP}{TP + \\frac{FN + FP}{2}}$$\n",
        "```\n",
        "f1_score # f1점수 계산\n",
        "```\n",
        "* 정밀도와 재현율이 비슷한 분류기에서는 $F_1$점수가 높다\n",
        "* **정밀도/재현율 트레이드오프**\n",
        "    * 상황에 따라 정밀도가 높은 경우와 재현율이 높은 경우를 골라서 사용해야 한다.\n",
        "        * 어린 아이를 위한 안전한 동영상 (높은 정밀도)\n",
        "        * 좀도둑을 잡아내는 분류기 (높은 재현율)"
      ]
    },
    {
      "cell_type": "code",
      "execution_count": 23,
      "metadata": {
        "colab": {
          "base_uri": "https://localhost:8080/"
        },
        "id": "8gAR2jM3TLeo",
        "outputId": "c14a04d0-d4f8-4749-a823-e7930c604c60"
      },
      "outputs": [
        {
          "output_type": "execute_result",
          "data": {
            "text/plain": [
              "0.7325171197343846"
            ]
          },
          "metadata": {},
          "execution_count": 23
        }
      ],
      "source": [
        "from sklearn.metrics import f1_score\n",
        "f1_score(y_train_5, y_train_pred)"
      ]
    },
    {
      "cell_type": "markdown",
      "metadata": {
        "id": "U6IvUjgdUK_f"
      },
      "source": [
        "### 3-3-4. 정밀도/재현율 트레이드오프\n",
        "* 정밀도와 재현율 상호 반비례\n",
        "* 정밀도와 재현율 사이의 적절한 비율 찾기"
      ]
    },
    {
      "cell_type": "markdown",
      "metadata": {
        "id": "VGzigDRnUSFf"
      },
      "source": [
        "#### SGDClassifier\n",
        "* **결정함수**(decision function)을 통해 샘플의 점수를 계산\n",
        "    * 이 점수가 **임계값**보다 크면 양성, 아니면 음성\n",
        "![ScreenShot](https://formal.hknu.ac.kr/handson-ml2/slides/images/homl03-03.png)\n",
        "* 임계값이 커질수록:\n",
        "    * 정밀도 올라감\n",
        "    * 재현율 떨어짐\n",
        "* 사이킷런에서는 임계값을 직접 지정할 수는 없지만 예측에 사용한 점수는 확인할 수 있다."
      ]
    },
    {
      "cell_type": "code",
      "execution_count": 24,
      "metadata": {
        "colab": {
          "base_uri": "https://localhost:8080/"
        },
        "id": "5puFIdWIWL_1",
        "outputId": "deb7dc7a-b958-473c-ece7-8ea38a5f5ddc"
      },
      "outputs": [
        {
          "output_type": "execute_result",
          "data": {
            "text/plain": [
              "array([2164.22030239])"
            ]
          },
          "metadata": {},
          "execution_count": 24
        }
      ],
      "source": [
        "# 샘플의 점수 얻기 \n",
        "y_scores = sgd_clf.decision_function([some_digit])\n",
        "y_scores"
      ]
    },
    {
      "cell_type": "code",
      "execution_count": 25,
      "metadata": {
        "colab": {
          "base_uri": "https://localhost:8080/"
        },
        "id": "pvFsPDXKWagi",
        "outputId": "511c7d37-291d-4855-ddbc-adbef0887c0e"
      },
      "outputs": [
        {
          "output_type": "execute_result",
          "data": {
            "text/plain": [
              "array([ True])"
            ]
          },
          "metadata": {},
          "execution_count": 25
        }
      ],
      "source": [
        "threshold = 0   # 임계값 = 0\n",
        "y_some_digit_pred = (y_scores > threshold)\n",
        "y_some_digit_pred"
      ]
    },
    {
      "cell_type": "code",
      "execution_count": 26,
      "metadata": {
        "colab": {
          "base_uri": "https://localhost:8080/"
        },
        "id": "3Vzz_RekWhA2",
        "outputId": "ef9233bc-634c-422e-bd88-82ec9ed8020b"
      },
      "outputs": [
        {
          "output_type": "execute_result",
          "data": {
            "text/plain": [
              "array([False])"
            ]
          },
          "metadata": {},
          "execution_count": 26
        }
      ],
      "source": [
        "threshold = 8000    # 임계값 = 8000\n",
        "y_some_digit_pred = (y_scores > threshold)\n",
        "y_some_digit_pred"
      ]
    },
    {
      "cell_type": "markdown",
      "metadata": {
        "id": "wTMD--naXTiC"
      },
      "source": [
        "#### 적절한 임계값 선택"
      ]
    },
    {
      "cell_type": "code",
      "execution_count": 27,
      "metadata": {
        "id": "EbdNaG_bXkbd"
      },
      "outputs": [],
      "source": [
        "# 훈련센트의 모든 샘플의 점수 구하기\n",
        "y_scores = cross_val_predict(sgd_clf, X_train, y_train_5, cv=3,\n",
        "                             method=\"decision_function\")    # 결정 점수 반환"
      ]
    },
    {
      "cell_type": "code",
      "execution_count": 28,
      "metadata": {
        "id": "CG43WlweXzKN"
      },
      "outputs": [],
      "source": [
        "# 가능한 모든 임계값에 대해 정밀도와 재현율 계산\n",
        "from sklearn.metrics import precision_recall_curve\n",
        "\n",
        "precisions, recalls, thresholds = precision_recall_curve(y_train_5, y_scores)"
      ]
    },
    {
      "cell_type": "code",
      "execution_count": 29,
      "metadata": {
        "colab": {
          "base_uri": "https://localhost:8080/",
          "height": 292
        },
        "id": "SyuAnq9MYKxG",
        "outputId": "509eb1d5-ef7e-4815-ce60-213a7a230959"
      },
      "outputs": [
        {
          "output_type": "display_data",
          "data": {
            "text/plain": [
              "<Figure size 576x288 with 1 Axes>"
            ],
            "image/png": "[encoded data removed]"
          },
          "metadata": {
            "needs_background": "light"
          }
        }
      ],
      "source": [
        "def plot_precision_recall_vs_threshold(precisions, recalls, thresholds):\n",
        "    plt.plot(thresholds, precisions[:-1], \"b--\", label=\"Precision\")\n",
        "    plt.plot(thresholds, recalls[:-1], \"g-\", label=\"Recall\")\n",
        "    plt.legend(loc=\"center right\", fontsize=16)\n",
        "    plt.xlabel(\"Threshold\", fontsize=16)\n",
        "    plt.grid(True)\n",
        "    plt.axis([-50000, 50000, 0, 1])\n",
        "\n",
        "recall_90_precision = recalls[np.argmax(precisions >= 0.90)]\n",
        "threshold_90_precision = thresholds[np.argmax(precisions >= 0.90)]\n",
        "\n",
        "plt.figure(figsize=(8, 4))\n",
        "plot_precision_recall_vs_threshold(precisions, recalls, thresholds)\n",
        "plt.show()"
      ]
    },
    {
      "cell_type": "markdown",
      "metadata": {
        "id": "_I8M17M0ZBzq"
      },
      "source": [
        "> 임계값을 올리더라도 정밀도가 가끔 낮아질 때가 있다."
      ]
    },
    {
      "cell_type": "code",
      "execution_count": 30,
      "metadata": {
        "colab": {
          "base_uri": "https://localhost:8080/"
        },
        "id": "trX9qAxFai9E",
        "outputId": "cf642a84-29fb-4dab-c43a-821bbbc753f9"
      },
      "outputs": [
        {
          "output_type": "execute_result",
          "data": {
            "text/plain": [
              "True"
            ]
          },
          "metadata": {},
          "execution_count": 30
        }
      ],
      "source": [
        "(y_train_pred == (y_scores > 0)).all()"
      ]
    },
    {
      "cell_type": "code",
      "execution_count": 31,
      "metadata": {
        "colab": {
          "base_uri": "https://localhost:8080/",
          "height": 401
        },
        "id": "bhU5cO-zasrX",
        "outputId": "2e3332c0-6b27-43c1-aa95-d261e28ebe55"
      },
      "outputs": [
        {
          "output_type": "display_data",
          "data": {
            "text/plain": [
              "<Figure size 576x432 with 1 Axes>"
            ],
            "image/png": "[encoded data removed]"
          },
          "metadata": {
            "needs_background": "light"
          }
        }
      ],
      "source": [
        "def plot_precision_vs_recall(precisions, recalls):\n",
        "    plt.plot(recalls, precisions, \"b-\", linewidth=2)\n",
        "    plt.xlabel(\"Recall\", fontsize=16)\n",
        "    plt.ylabel(\"Precision\", fontsize=16)\n",
        "    plt.axis([0, 1, 0, 1])\n",
        "    plt.grid(True)\n",
        "\n",
        "plt.figure(figsize=(8, 6))\n",
        "plot_precision_vs_recall(precisions, recalls)\n",
        "plt.show()"
      ]
    },
    {
      "cell_type": "markdown",
      "metadata": {
        "id": "0pV5Tpp4bRhX"
      },
      "source": [
        "> 재현율 80%인 지점에서 정밀도가 급격히 감소한다."
      ]
    },
    {
      "cell_type": "code",
      "execution_count": 32,
      "metadata": {
        "colab": {
          "base_uri": "https://localhost:8080/"
        },
        "id": "Hs5f8IA5cFPF",
        "outputId": "e3d62789-6ee6-404d-deb6-7f02d5b92492"
      },
      "outputs": [
        {
          "output_type": "execute_result",
          "data": {
            "text/plain": [
              "3370.0194991439557"
            ]
          },
          "metadata": {},
          "execution_count": 32
        }
      ],
      "source": [
        "threshold_90_precision = thresholds[np.argmax(precisions >= 0.90)]\n",
        "threshold_90_precision"
      ]
    },
    {
      "cell_type": "code",
      "execution_count": 33,
      "metadata": {
        "colab": {
          "base_uri": "https://localhost:8080/"
        },
        "id": "YAgtg4r0cObU",
        "outputId": "a9381337-2775-41c3-b2a8-494aa41f845a"
      },
      "outputs": [
        {
          "output_type": "execute_result",
          "data": {
            "text/plain": [
              "0.9000345901072293"
            ]
          },
          "metadata": {},
          "execution_count": 33
        }
      ],
      "source": [
        "y_train_pred_90 = (y_scores >= threshold_90_precision)\n",
        "precision_score(y_train_5, y_train_pred_90)"
      ]
    },
    {
      "cell_type": "code",
      "execution_count": 34,
      "metadata": {
        "colab": {
          "base_uri": "https://localhost:8080/"
        },
        "id": "BKJicgnmcakU",
        "outputId": "2da8763c-3325-4a4f-b24c-5c5f1ebccd59"
      },
      "outputs": [
        {
          "output_type": "execute_result",
          "data": {
            "text/plain": [
              "0.4799852425751706"
            ]
          },
          "metadata": {},
          "execution_count": 34
        }
      ],
      "source": [
        "recall_score(y_train_5, y_train_pred_90)"
      ]
    },
    {
      "cell_type": "markdown",
      "metadata": {
        "id": "oLSia43CceGD"
      },
      "source": [
        "### 3-3-5. ROC 곡선"
      ]
    },
    {
      "cell_type": "markdown",
      "metadata": {
        "id": "KWI-6gFXc_Hm"
      },
      "source": [
        "* **수신기 조작 특성**(ROC)\n",
        "    * 정밀도/재현율 곡선과 매우 비슷하지만, 정림도에 대한 재현율 곡선은 아니다.\n",
        "* **거짓 양성 비율**(FPR)에 대한 **진짜 양성 비율**(TPR)의 곡선\n",
        "    * FPR: 양성으로 잘못 분류된 음성 샘플의 비율\n",
        "        * 1에서 **진짜 음성 비율**(TNR)을 뺀 값\n",
        "    * TNR: **특이도**라고 불리며, 음성으로 정확하게 분류한 음성 샘플의 비율\n",
        "* **민감도**(재현율)에 대한 **1-특이도**그래프  \n",
        "$$FPR = \\frac{FP}{FP + TN} = 1 - \\frac{TN}{FP + TN} = 1 - TNR$$"
      ]
    },
    {
      "cell_type": "code",
      "execution_count": 35,
      "metadata": {
        "id": "aRBPEFq8eGVf"
      },
      "outputs": [],
      "source": [
        "# 여러 임계값에서의 TPR과 FPR 계산\n",
        "from sklearn.metrics import roc_curve\n",
        "\n",
        "fpr, tpr, threshold = roc_curve(y_train_5, y_scores)"
      ]
    },
    {
      "cell_type": "code",
      "execution_count": 36,
      "metadata": {
        "colab": {
          "base_uri": "https://localhost:8080/",
          "height": 401
        },
        "id": "Vbha0f2weS5d",
        "outputId": "a01cabd4-9008-48e4-e3fe-4e10af9ed309"
      },
      "outputs": [
        {
          "output_type": "display_data",
          "data": {
            "text/plain": [
              "<Figure size 576x432 with 1 Axes>"
            ],
            "image/png": "[encoded data removed]"
          },
          "metadata": {
            "needs_background": "light"
          }
        }
      ],
      "source": [
        "# TPR에 대한 FPR곡선 그리기\n",
        "def plot_roc_curve(fpr, tpr, label=None):\n",
        "    plt.plot(fpr, tpr, linewidth=2, label=label)\n",
        "    plt.plot([0, 1], [0, 1], 'k--') # 대각 점선\n",
        "    plt.axis([0, 1, 0, 1])\n",
        "    plt.xlabel('False Positive Rate (Fall-Out)', fontsize=16)\n",
        "    plt.ylabel('True Positive Rate (Recall)', fontsize=16)\n",
        "    plt.grid(True)\n",
        "\n",
        "plt.figure(figsize=(8, 6))\n",
        "plot_roc_curve(fpr, tpr)\n",
        "plt.show()"
      ]
    },
    {
      "cell_type": "markdown",
      "metadata": {
        "id": "33UGuSuXfBER"
      },
      "source": [
        "* 재현율(TPR)이 높을수록 분류기가 만들어내는 거짓 양성(FPR)이 늘어난다.\n",
        "* 좋은 분류기는 점선에서 최대한 멀리 떨어져있어야 한다."
      ]
    },
    {
      "cell_type": "markdown",
      "metadata": {
        "id": "z0MA407ifmNp"
      },
      "source": [
        "#### 곡선 아래의 면적 (AUC)"
      ]
    },
    {
      "cell_type": "markdown",
      "metadata": {
        "id": "wJQropuSfyqg"
      },
      "source": [
        "* 분류기 비교 지표\n",
        "    * 완벽한 분류기는 ROC의 AUC가 1\n",
        "    * 완전한 랜덥 분류기는 0.5\n"
      ]
    },
    {
      "cell_type": "code",
      "execution_count": 37,
      "metadata": {
        "colab": {
          "base_uri": "https://localhost:8080/"
        },
        "id": "EkoL4ESmf_BS",
        "outputId": "869cb029-d766-40bb-c582-e944ba8ea236"
      },
      "outputs": [
        {
          "output_type": "execute_result",
          "data": {
            "text/plain": [
              "0.9604938554008616"
            ]
          },
          "metadata": {},
          "execution_count": 37
        }
      ],
      "source": [
        "from sklearn.metrics import roc_auc_score\n",
        "roc_auc_score(y_train_5, y_scores)"
      ]
    },
    {
      "cell_type": "markdown",
      "metadata": {
        "id": "4HyqQMGxgHES"
      },
      "source": [
        "#### ROC 곡선 VS. PR 곡선\n",
        "* ROC 곡선\n",
        "* PR 곡선\n",
        "    * 양성 클래스가 드물거나 거짓 음성보다 거짓 양성이 중요한 경우\n",
        "    * 분류기의 성능 개선 여지가 얼마나 되는지 잘 보여준다."
      ]
    },
    {
      "cell_type": "markdown",
      "metadata": {
        "id": "D-1xl14uhBc_"
      },
      "source": [
        "#### RandomForestClassifier VS. SGDClassifier\n",
        "* 랜덤 포레스트 분류기에서 훈련 세트의 샘플에 대한 점수를 얻는 방법\n",
        "```\n",
        "predict_proba()\n",
        "```\n",
        "* 샘플이 행, 클래스가 열이고 샘플이 주어진 클래스에 속할 확률을 담은 배열을 반환"
      ]
    },
    {
      "cell_type": "code",
      "execution_count": 38,
      "metadata": {
        "id": "rtu55KODhzyJ"
      },
      "outputs": [],
      "source": [
        "from sklearn.ensemble import RandomForestClassifier\n",
        "\n",
        "forest_clf = RandomForestClassifier(random_state=42)\n",
        "y_probas_forest = cross_val_predict(forest_clf, X_train, y_train_5, cv=3,\n",
        "                                    method=\"predict_proba\")"
      ]
    },
    {
      "cell_type": "code",
      "execution_count": 39,
      "metadata": {
        "id": "nfZJ5PYqiGF6"
      },
      "outputs": [],
      "source": [
        "# roc_curve(): 레이블과 점수를 기대\n",
        "y_scores_forest = y_probas_forest[:, 1] # 양성 클래스에 대한 확률을 점수로 사용\n",
        "fpr_forest, tpr_forest, thresholds_forest = roc_curve(y_train_5, y_scores_forest)"
      ]
    },
    {
      "cell_type": "code",
      "execution_count": 40,
      "metadata": {
        "colab": {
          "base_uri": "https://localhost:8080/",
          "height": 292
        },
        "id": "oqUuxIamie7b",
        "outputId": "df5893f9-01ab-45a7-9772-1ca5f2c3bd2b"
      },
      "outputs": [
        {
          "output_type": "display_data",
          "data": {
            "text/plain": [
              "<Figure size 432x288 with 1 Axes>"
            ],
            "image/png": "[encoded data removed]"
          },
          "metadata": {
            "needs_background": "light"
          }
        }
      ],
      "source": [
        "# ROC 곡선 그리기\n",
        "plt.plot(fpr, tpr, \"b:\", label=\"SGD\")\n",
        "plot_roc_curve(fpr_forest, tpr_forest, \"RandomForest\")\n",
        "plt.legend(loc=\"lower right\")\n",
        "plt.show()"
      ]
    },
    {
      "cell_type": "markdown",
      "metadata": {
        "id": "g_1OZPsRiw6i"
      },
      "source": [
        "> ROC 곡선 비교: 랜덤 포레스트 분류기가 SGD 분류기보다 AUC의 값이 크기 때문에 더 좋은 분류기이다."
      ]
    },
    {
      "cell_type": "code",
      "execution_count": 41,
      "metadata": {
        "colab": {
          "base_uri": "https://localhost:8080/"
        },
        "id": "9EtrwfFUi6jq",
        "outputId": "57a83f73-6de6-4603-89da-23c18360b7bf"
      },
      "outputs": [
        {
          "output_type": "execute_result",
          "data": {
            "text/plain": [
              "0.9983436731328145"
            ]
          },
          "metadata": {},
          "execution_count": 41
        }
      ],
      "source": [
        "roc_auc_score(y_train_5, y_scores_forest)"
      ]
    },
    {
      "cell_type": "markdown",
      "metadata": {
        "id": "mtaaMmFOi-LT"
      },
      "source": [
        "## 3-4. 다중 분류\n",
        "* **multiclass classifier**는 둘 이상의 클래스를 구별할 수 있다.\n",
        "    * SGD 분류기\n",
        "    * 랜덤 포레스트 분류기\n",
        "    * 나이브 베이즈\n",
        "    * ...\n",
        "* 이진 분류기를 여러 개 사용해 다중 클래스를 분류하는 기법도 있다.\n",
        "    * 로지스틱 회귀\n",
        "    * 서포트 벡터 머신 분류기\n",
        "    * ...\n",
        "    * 각 분류기의 결정 점수 중 가장 높은 것을 클래스로 선택\n",
        "        * 일대다(OvR 또는 OvA)\n",
        "    * 각 숫자의 조합마다 이진 분류기를 훈련시킨다.\n",
        "        * 일대일(OvO)\n",
        "            * 분류기 훈련에 전체 훈련 세트 중 구별할 두 클래스에 해당하는 샘플만 필요"
      ]
    },
    {
      "cell_type": "code",
      "execution_count": 42,
      "metadata": {
        "colab": {
          "base_uri": "https://localhost:8080/"
        },
        "id": "dJ1zM5GtlIxb",
        "outputId": "2aee3388-61f6-481e-f81b-0f9768a0e145"
      },
      "outputs": [
        {
          "output_type": "execute_result",
          "data": {
            "text/plain": [
              "array([5], dtype=uint8)"
            ]
          },
          "metadata": {},
          "execution_count": 42
        }
      ],
      "source": [
        "# 다중 클래스 분류 작업에 이진 분류 알고리즘을 선택하면 사이킷런은 자동으로 알고리즘에 따라 OvR 또는 OvO를 실행\n",
        "from sklearn.svm import SVC\n",
        "svm_clf = SVC()\n",
        "svm_clf.fit(X_train, y_train)   # 다중 분류이브로, y_train_5를 사용하지 않는다.\n",
        "svm_clf.predict([some_digit])"
      ]
    },
    {
      "cell_type": "markdown",
      "metadata": {
        "id": "nx1FM-5aleRi"
      },
      "source": [
        "* 내부에서 OvO전략을 사용해 45개의 이진 분류기를 훈련\n",
        "* 각각의 결정 점수 중 점수가 가장 높은 클래스를 선택"
      ]
    },
    {
      "cell_type": "code",
      "execution_count": 43,
      "metadata": {
        "colab": {
          "base_uri": "https://localhost:8080/"
        },
        "id": "xV6O7TGUmIGt",
        "outputId": "dc856e4f-e8e8-4da7-fe56-f265342324fc"
      },
      "outputs": [
        {
          "output_type": "execute_result",
          "data": {
            "text/plain": [
              "array([[ 1.72501977,  2.72809088,  7.2510018 ,  8.3076379 , -0.31087254,\n",
              "         9.3132482 ,  1.70975103,  2.76765202,  6.23049537,  4.84771048]])"
            ]
          },
          "metadata": {},
          "execution_count": 43
        }
      ],
      "source": [
        "some_digit_scores = svm_clf.decision_function([some_digit]) # 샘플당 10개의 점수 반환\n",
        "some_digit_scores   # 가장 높은 점수가 속한 클래스가 예측값"
      ]
    },
    {
      "cell_type": "code",
      "execution_count": 44,
      "metadata": {
        "colab": {
          "base_uri": "https://localhost:8080/"
        },
        "id": "iGhGOqjOmPWC",
        "outputId": "2d285b49-da93-4ab7-f88b-c232179af730"
      },
      "outputs": [
        {
          "output_type": "execute_result",
          "data": {
            "text/plain": [
              "5"
            ]
          },
          "metadata": {},
          "execution_count": 44
        }
      ],
      "source": [
        "np.argmax(some_digit_scores)    # 최댓값의 첫번째 인덱스 반환"
      ]
    },
    {
      "cell_type": "code",
      "execution_count": 45,
      "metadata": {
        "colab": {
          "base_uri": "https://localhost:8080/"
        },
        "id": "4MSeBhUgmSSA",
        "outputId": "bc8cb645-c2d1-40c6-c62f-c42f2fe1a4ec"
      },
      "outputs": [
        {
          "output_type": "execute_result",
          "data": {
            "text/plain": [
              "array([0, 1, 2, 3, 4, 5, 6, 7, 8, 9], dtype=uint8)"
            ]
          },
          "metadata": {},
          "execution_count": 45
        }
      ],
      "source": [
        "svm_clf.classes_"
      ]
    },
    {
      "cell_type": "code",
      "execution_count": 46,
      "metadata": {
        "colab": {
          "base_uri": "https://localhost:8080/"
        },
        "id": "kIWnTR-1mUQS",
        "outputId": "aa0bf2b0-75fb-4817-a707-26099bd9203c"
      },
      "outputs": [
        {
          "output_type": "execute_result",
          "data": {
            "text/plain": [
              "5"
            ]
          },
          "metadata": {},
          "execution_count": 46
        }
      ],
      "source": [
        "svm_clf.classes_[5]"
      ]
    },
    {
      "cell_type": "markdown",
      "metadata": {
        "id": "9sMc7S5Gm-d6"
      },
      "source": [
        "```\n",
        "# sklearn 전략\n",
        "OneVsOneClassifier   # OvO전략 선택\n",
        "OneVsRestClassifier   # OvR전략 선택\n",
        "```"
      ]
    },
    {
      "cell_type": "code",
      "execution_count": 47,
      "metadata": {
        "colab": {
          "base_uri": "https://localhost:8080/"
        },
        "id": "P87GU6xTnS2a",
        "outputId": "02808ebb-9100-4c4d-a82f-b9474ed5eeee"
      },
      "outputs": [
        {
          "output_type": "execute_result",
          "data": {
            "text/plain": [
              "array([5], dtype=uint8)"
            ]
          },
          "metadata": {},
          "execution_count": 47
        }
      ],
      "source": [
        "from sklearn.multiclass import OneVsRestClassifier\n",
        "ovr_clf = OneVsRestClassifier(SVC())\n",
        "ovr_clf.fit(X_train, y_train)\n",
        "ovr_clf.predict([some_digit])"
      ]
    },
    {
      "cell_type": "code",
      "execution_count": 48,
      "metadata": {
        "colab": {
          "base_uri": "https://localhost:8080/"
        },
        "id": "LsAT_ozvnfYf",
        "outputId": "6a7c7f9c-6620-4f89-afdf-6646cc4d8cee"
      },
      "outputs": [
        {
          "output_type": "execute_result",
          "data": {
            "text/plain": [
              "10"
            ]
          },
          "metadata": {},
          "execution_count": 48
        }
      ],
      "source": [
        "len(ovr_clf.estimators_)"
      ]
    },
    {
      "cell_type": "code",
      "execution_count": 49,
      "metadata": {
        "colab": {
          "base_uri": "https://localhost:8080/"
        },
        "id": "Nc4mPIibobIM",
        "outputId": "00a6cd2a-3eae-4151-9288-0a39e52fd7df"
      },
      "outputs": [
        {
          "output_type": "execute_result",
          "data": {
            "text/plain": [
              "array([3], dtype=uint8)"
            ]
          },
          "metadata": {},
          "execution_count": 49
        }
      ],
      "source": [
        "sgd_clf.fit(X_train, y_train)\n",
        "sgd_clf.predict([some_digit])"
      ]
    },
    {
      "cell_type": "code",
      "execution_count": 50,
      "metadata": {
        "colab": {
          "base_uri": "https://localhost:8080/"
        },
        "id": "ARyviFtXoiNM",
        "outputId": "3099a142-21a8-45de-c3fd-a265feaba31c"
      },
      "outputs": [
        {
          "output_type": "execute_result",
          "data": {
            "text/plain": [
              "array([[-31893.03095419, -34419.69069632,  -9530.63950739,\n",
              "          1823.73154031, -22320.14822878,  -1385.80478895,\n",
              "        -26188.91070951, -16147.51323997,  -4604.35491274,\n",
              "        -12050.767298  ]])"
            ]
          },
          "metadata": {},
          "execution_count": 50
        }
      ],
      "source": [
        "sgd_clf.decision_function([some_digit])"
      ]
    },
    {
      "cell_type": "code",
      "execution_count": 51,
      "metadata": {
        "colab": {
          "base_uri": "https://localhost:8080/"
        },
        "id": "nrbMU-QUomft",
        "outputId": "842c33f1-af2c-455d-cd99-2e1c1b9a7055"
      },
      "outputs": [
        {
          "output_type": "execute_result",
          "data": {
            "text/plain": [
              "array([0.87365, 0.85835, 0.8689 ])"
            ]
          },
          "metadata": {},
          "execution_count": 51
        }
      ],
      "source": [
        "cross_val_score(sgd_clf, X_train, y_train, cv=3, scoring=\"accuracy\")"
      ]
    },
    {
      "cell_type": "code",
      "execution_count": 52,
      "metadata": {
        "colab": {
          "base_uri": "https://localhost:8080/"
        },
        "id": "uUpcbXydosUx",
        "outputId": "7f82558d-892f-4cd5-c982-5e0e7c9d8749"
      },
      "outputs": [
        {
          "output_type": "execute_result",
          "data": {
            "text/plain": [
              "array([0.8983, 0.891 , 0.9018])"
            ]
          },
          "metadata": {},
          "execution_count": 52
        }
      ],
      "source": [
        "from sklearn.preprocessing import StandardScaler\n",
        "scaler = StandardScaler()\n",
        "X_train_scaled = scaler.fit_transform(X_train.astype(np.float64))   # 입력 스케일 조정\n",
        "cross_val_score(sgd_clf, X_train_scaled, y_train, cv=3, scoring=\"accuracy\")"
      ]
    },
    {
      "cell_type": "markdown",
      "metadata": {
        "id": "nhblLUOYpA0V"
      },
      "source": [
        "## 3-5. 에러 분석"
      ]
    },
    {
      "cell_type": "markdown",
      "metadata": {
        "id": "bvMCTozuW3-q"
      },
      "source": [
        "* 가능성이 높은 모델을 찾은 뒤, 이 모델의 성능을 향상시킬 방법 모색\n",
        "* 만들어진 에러의 종류 분석\n",
        "    1. cross_val_predict()\n",
        "    2. 오차행렬 출력"
      ]
    },
    {
      "cell_type": "code",
      "execution_count": 53,
      "metadata": {
        "colab": {
          "base_uri": "https://localhost:8080/"
        },
        "id": "czKV6v8qXgLK",
        "outputId": "e442e9db-7426-40e4-9186-65191fa533b3"
      },
      "outputs": [
        {
          "output_type": "execute_result",
          "data": {
            "text/plain": [
              "array([[5577,    0,   22,    5,    8,   43,   36,    6,  225,    1],\n",
              "       [   0, 6400,   37,   24,    4,   44,    4,    7,  212,   10],\n",
              "       [  27,   27, 5220,   92,   73,   27,   67,   36,  378,   11],\n",
              "       [  22,   17,  117, 5227,    2,  203,   27,   40,  403,   73],\n",
              "       [  12,   14,   41,    9, 5182,   12,   34,   27,  347,  164],\n",
              "       [  27,   15,   30,  168,   53, 4444,   75,   14,  535,   60],\n",
              "       [  30,   15,   42,    3,   44,   97, 5552,    3,  131,    1],\n",
              "       [  21,   10,   51,   30,   49,   12,    3, 5684,  195,  210],\n",
              "       [  17,   63,   48,   86,    3,  126,   25,   10, 5429,   44],\n",
              "       [  25,   18,   30,   64,  118,   36,    1,  179,  371, 5107]])"
            ]
          },
          "metadata": {},
          "execution_count": 53
        }
      ],
      "source": [
        "y_train_pred = cross_val_predict(sgd_clf, X_train_scaled, y_train, cv=3)\n",
        "conf_mx = confusion_matrix(y_train, y_train_pred)\n",
        "conf_mx"
      ]
    },
    {
      "cell_type": "code",
      "execution_count": 54,
      "metadata": {
        "colab": {
          "base_uri": "https://localhost:8080/",
          "height": 295
        },
        "id": "-zIny4QeXyu9",
        "outputId": "fb964cc9-5457-449e-9d2a-7dd80e930d22"
      },
      "outputs": [
        {
          "output_type": "execute_result",
          "data": {
            "text/plain": [
              "<function matplotlib.pyplot.show(*args, **kw)>"
            ]
          },
          "metadata": {},
          "execution_count": 54
        },
        {
          "output_type": "display_data",
          "data": {
            "text/plain": [
              "<Figure size 288x288 with 1 Axes>"
            ],
            "image/png": "[encoded data removed]"
          },
          "metadata": {
            "needs_background": "light"
          }
        }
      ],
      "source": [
        "# 오차행렬을 이미지로 표현하기\n",
        "plt.matshow(conf_mx, cmap=plt.cm.gray)\n",
        "plt.show"
      ]
    },
    {
      "cell_type": "markdown",
      "metadata": {
        "id": "bF4o92gOX7ox"
      },
      "source": [
        "* 주대각선이 모두 밝으므로 이미지가 올바르게 분류되고 있음\n",
        "* 숫자 5가 어둡다\n",
        "    * 데이터셋의 숫자 이미지 5가 더 적다\n",
        "    * 분류기가 숫자 5를 다른 숫자만큼 잘 분류하지 못한다.\n",
        "    * 두 가지 모두의 경우를 살펴본다\n"
      ]
    },
    {
      "cell_type": "code",
      "execution_count": 55,
      "metadata": {
        "id": "OVBdxl9lZU46"
      },
      "outputs": [],
      "source": [
        "# 오차 행렬의 각 값을 대응되는 클래스의 이미지 개수로 나누어 에러 비율을 비교한다.\n",
        "rows_sums = conf_mx.sum(axis=1, keepdims=True)  # axis=1 -> 행을 더한다다 \n",
        "norm_conf_mx = conf_mx / rows_sums"
      ]
    },
    {
      "cell_type": "code",
      "execution_count": 56,
      "metadata": {
        "colab": {
          "base_uri": "https://localhost:8080/",
          "height": 278
        },
        "id": "liQ4ChQCaM25",
        "outputId": "db517629-609d-4d49-8245-de626ef690ef"
      },
      "outputs": [
        {
          "output_type": "display_data",
          "data": {
            "text/plain": [
              "<Figure size 288x288 with 1 Axes>"
            ],
            "image/png": "[encoded data removed]"
          },
          "metadata": {
            "needs_background": "light"
          }
        }
      ],
      "source": [
        "# 주대각선만 0으로 채워 그래프를 그린다\n",
        "np.fill_diagonal(norm_conf_mx, 0)\n",
        "plt.matshow(norm_conf_mx, cmap=plt.cm.gray)\n",
        "plt.show()"
      ]
    },
    {
      "cell_type": "markdown",
      "metadata": {
        "id": "Ie4i8VnUabk1"
      },
      "source": [
        "* 클래스 8열이 밝다\n",
        "    * 많은 이미지가 8로 잘못 분류되고 있다.\n",
        "* 클래스 8행이 어둡다\n",
        "    * 실제 8이 적절히 8로 분류되었다.\n",
        "* 3과 5가 서로 많이 혼동되고 있다."
      ]
    },
    {
      "cell_type": "markdown",
      "metadata": {
        "id": "yBhSPsO-awmK"
      },
      "source": [
        "#### 오차 행렬 분석 (성능 향상 방안)\n",
        "* 8로 잘못 분류되는 것을 줄인다.\n",
        "    * 8처럼 보이는(실제 8은 아닌) 숫자의 훈련 데이터를 더 많이 모아 실제 8과 구분하도록 분류기 학습\n",
        "    * 동심원을 세는 알고리즘 (8은 2개 6은 1개 0은 1개 ...)\n",
        "* 개개의 에러를 분석해보면 분류기가 무슨 일을 하고, 왜 잘못되었는지에 대해 통찰을 얻을 수 있진만, 더 어렵고 시간이 오래 걸린다"
      ]
    },
    {
      "cell_type": "code",
      "execution_count": 57,
      "metadata": {
        "id": "LT0thG3-bch1"
      },
      "outputs": [],
      "source": [
        "# cl_a, cl_b = 3, 5\n",
        "# X_aa = X_train[(y_train == cl_a) & (y_train_pred == cl_a)]\n",
        "# X_ab = X_train[(y_train == cl_a) & (y_train_pred == cl_b)]\n",
        "# X_ba = X_train[(y_train == cl_b) & (y_train_pred == cl_a)]\n",
        "# X_bb = X_train[(y_train == cl_b) & (y_train_pred == cl_b)]\n",
        "\n",
        "# plt.figure(figsize=(8,8))\n",
        "# plt.subplot(221); plot_digits(X_aa[:25], images_per_row=5)\n",
        "# plt.subplot(222); plot_digits(X_ab[:25], images_per_row=5)\n",
        "# plt.subplot(223); plot_digits(X_ba[:25], images_per_row=5)\n",
        "# plt.subplot(224); plot_digits(X_bb[:25], images_per_row=5)\n",
        "# plt.show()"
      ]
    },
    {
      "cell_type": "markdown",
      "metadata": {
        "id": "qMMljZmscvUw"
      },
      "source": [
        "* 3과 5의 구분이 어려운 이유\n",
        "    * 선형모델인 SGD분류기를 사용\n",
        "    * 픽셀마다 가중치를 적용하여 단순히 픽셀 강도에만 의존하기 때문\n",
        "* 이미지의 위치나 회전 방향에 매우 민감하다\n",
        "    * 이미지를 중앙에 위치시키고 회전되어 있지 않도록 전처리한다."
      ]
    },
    {
      "cell_type": "markdown",
      "metadata": {
        "id": "A3E6lgq0dUHn"
      },
      "source": [
        "## 3-6. 다중 레이블 분류"
      ]
    },
    {
      "cell_type": "markdown",
      "metadata": {
        "id": "OxaABD2tdqRu"
      },
      "source": [
        "* 샘플마다 여러 개의 클래스 출력"
      ]
    },
    {
      "cell_type": "markdown",
      "metadata": {
        "id": "FWeaIZMIduI0"
      },
      "source": [
        "### 얼굴 인식 분류기\n",
        "* 한 사진에 여러 사람이 포함된 경우, 인식된 사람마다 하나씩 꼬리표(tag)를 붙여야 함\n",
        "* 앨리스, 밥, 찰리의 포함여부를 확인 할 때, 밥이 없는 경우\n",
        "    * ```[True, False, True]```출력"
      ]
    },
    {
      "cell_type": "markdown",
      "metadata": {
        "id": "uGcnnBQMd5-E"
      },
      "source": [
        "### 숫자 분류\n",
        "* 7 이상인지 여부와 함께 홀수 여부도 동시 출력\n",
        "* 5가 입력될 때:\n",
        "    * ```[False, True]```출력"
      ]
    },
    {
      "cell_type": "code",
      "execution_count": 58,
      "metadata": {
        "colab": {
          "base_uri": "https://localhost:8080/"
        },
        "id": "z4eYWX06eSgY",
        "outputId": "3b755368-9d4c-477c-ee8a-13e63e129851"
      },
      "outputs": [
        {
          "output_type": "execute_result",
          "data": {
            "text/plain": [
              "KNeighborsClassifier()"
            ]
          },
          "metadata": {},
          "execution_count": 58
        }
      ],
      "source": [
        "# k-최근점 이웃분류기 숫자분류기\n",
        "from sklearn.neighbors import KNeighborsClassifier  # 다중 레이블 분류 지원\n",
        "\n",
        "y_train_large = (y_train >= 7)  # 7보다 큰 값\n",
        "y_train_odd = (y_train % 2 == 1)    # 홀수 값값\n",
        "y_multilabel = np.c_[y_train_large, y_train_odd]\n",
        "\n",
        "knn_clf = KNeighborsClassifier()\n",
        "knn_clf.fit(X_train, y_multilabel)"
      ]
    },
    {
      "cell_type": "code",
      "execution_count": 59,
      "metadata": {
        "colab": {
          "base_uri": "https://localhost:8080/"
        },
        "id": "Jxh2nnGmewuC",
        "outputId": "78fc8d14-5d84-4601-f9ca-b4a03ccc1103"
      },
      "outputs": [
        {
          "output_type": "execute_result",
          "data": {
            "text/plain": [
              "array([[False,  True]])"
            ]
          },
          "metadata": {},
          "execution_count": 59
        }
      ],
      "source": [
        "knn_clf.predict([some_digit])"
      ]
    },
    {
      "cell_type": "markdown",
      "metadata": {
        "id": "O9yK35yJfxf6"
      },
      "source": [
        "### 다중 레이블 분류기 평가 방법\n",
        "* 모든 레이블의 가중치가 같다고 가정: 각 레이블의 $F_1$점수를 구하고 평균 점수 계산\n",
        "* 가중치: 레이블에 클래스의 지지도(즉, 다킷 레이블에 속한 샘플 수)를 가중치로 사용 가능"
      ]
    },
    {
      "cell_type": "code",
      "execution_count": 60,
      "metadata": {
        "colab": {
          "base_uri": "https://localhost:8080/"
        },
        "id": "i1kfgPHAfKSL",
        "outputId": "b45b8e65-fee6-4363-ef1c-29fad2173e26"
      },
      "outputs": [
        {
          "output_type": "execute_result",
          "data": {
            "text/plain": [
              "0.976410265560605"
            ]
          },
          "metadata": {},
          "execution_count": 60
        }
      ],
      "source": [
        "# F1점수 평균 구하기\n",
        "y_train_knn_pred = cross_val_predict(knn_clf, X_train, y_multilabel, cv=3)\n",
        "f1_score(y_multilabel, y_train_knn_pred, average=\"macro\")"
      ]
    },
    {
      "cell_type": "markdown",
      "metadata": {
        "id": "wyhvK8krfkVK"
      },
      "source": [
        "## 3-7. 다중 출력 분류"
      ]
    },
    {
      "cell_type": "markdown",
      "metadata": {
        "id": "i8cYU-NegG_o"
      },
      "source": [
        "* **다중 출력 다중 클래스 분류**(multioutput-mlticlass classification)\n",
        "* 다중 레이블 분류에서 한 레이블이 다중 클래스가 될 수 있도록 일반화 (즉, 값을 2개 이상 가진다)\n"
      ]
    },
    {
      "cell_type": "code",
      "execution_count": 61,
      "metadata": {
        "id": "usmkSl4FhPbX"
      },
      "outputs": [],
      "source": [
        "noise = np.random.randint(0, 100, (len(X_train), 784))\n",
        "X_train_mod = X_train + noise\n",
        "noise = np.random.randint(0, 100, (len(X_test), 784))\n",
        "X_test_mod = X_test + noise\n",
        "y_train_mod = X_train\n",
        "y_test_mod = X_test"
      ]
    },
    {
      "cell_type": "code",
      "execution_count": 62,
      "metadata": {
        "colab": {
          "base_uri": "https://localhost:8080/",
          "height": 183
        },
        "id": "RksObH63hx_3",
        "outputId": "b5e0ffd1-4b20-48e8-d87a-149f2224bf1b"
      },
      "outputs": [
        {
          "output_type": "display_data",
          "data": {
            "text/plain": [
              "<Figure size 432x288 with 2 Axes>"
            ],
            "image/png": "[encoded data removed]"
          },
          "metadata": {
            "needs_background": "light"
          }
        }
      ],
      "source": [
        "some_index = 0\n",
        "plt.subplot(121); plot_digit(X_test_mod[some_index])\n",
        "plt.subplot(122); plot_digit(y_test_mod[some_index])\n",
        "plt.show()"
      ]
    },
    {
      "cell_type": "code",
      "execution_count": 63,
      "metadata": {
        "colab": {
          "base_uri": "https://localhost:8080/",
          "height": 248
        },
        "id": "xbM4W6zlh_XL",
        "outputId": "e3e8168c-28cb-4c39-bded-8bc2c6b54136"
      },
      "outputs": [
        {
          "output_type": "display_data",
          "data": {
            "text/plain": [
              "<Figure size 432x288 with 1 Axes>"
            ],
            "image/png": "[encoded data removed]"
          },
          "metadata": {
            "needs_background": "light"
          }
        }
      ],
      "source": [
        "# 이미지 잡음 제거하기\n",
        "knn_clf.fit(X_train_mod, y_train_mod)\n",
        "clean_digit = knn_clf.predict([X_test_mod[some_index]])\n",
        "plot_digit(clean_digit)"
      ]
    }
  ],
  "metadata": {
    "colab": {
      "collapsed_sections": [],
      "provenance": [],
      "authorship_tag": "ABX9TyMRyHiUN63M8ZH4KQ51NzxK",
      "include_colab_link": true
    },
    "kernelspec": {
      "display_name": "Python 3",
      "name": "python3"
    },
    "language_info": {
      "name": "python"
    }
  },
  "nbformat": 4,
  "nbformat_minor": 0
}