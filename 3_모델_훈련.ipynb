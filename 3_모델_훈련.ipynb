{
  "nbformat": 4,
  "nbformat_minor": 0,
  "metadata": {
    "colab": {
      "provenance": [],
      "toc_visible": true,
      "authorship_tag": "ABX9TyM4qNr/NSwx7+alDf47Pl1T",
      "include_colab_link": true
    },
    "kernelspec": {
      "name": "python3",
      "display_name": "Python 3"
    },
    "language_info": {
      "name": "python"
    }
  },
  "cells": [
    {
      "cell_type": "markdown",
      "metadata": {
        "id": "view-in-github",
        "colab_type": "text"
      },
      "source": [
        "<a href=\"https://colab.research.google.com/github/JunYoung07/Hands-On_Machine_Learning/blob/main/3_%EB%AA%A8%EB%8D%B8_%ED%9B%88%EB%A0%A8.ipynb\" target=\"_parent\"><img src=\"https://colab.research.google.com/assets/colab-badge.svg\" alt=\"Open In Colab\"/></a>"
      ]
    },
    {
      "cell_type": "markdown",
      "source": [
        "# Chapter4. 모델 훈련 (Model Training)"
      ],
      "metadata": {
        "id": "D_t7M-MkH9E3"
      }
    },
    {
      "cell_type": "markdown",
      "source": [
        "* 적절한 모델, 올바른 훈련 알고리즘, 작업에 맞는 좋은 하이퍼파라미터를 찾을 수 있다.\n",
        "* 작동 원리를 이해하고 있으면 디버깅이나 에러를 효율적으로 분석하는 데 도움이 된다.\n"
      ],
      "metadata": {
        "id": "DZeGcAfNIohZ"
      }
    },
    {
      "cell_type": "markdown",
      "source": [
        "## 4-1. 선형 회귀\n",
        "* 선형 회귀 모델\n",
        "    * 수학적으로 모델 파라미터 구하기\n",
        "    * 경사하강법 적용 모델 훈련\n",
        "        * 배치 경사 하강법\n",
        "        * 미니배치 경사 하강법\n",
        "        * 확률적 경사하강법"
      ],
      "metadata": {
        "id": "LnjYBEP-Mj5o"
      }
    },
    {
      "cell_type": "markdown",
      "source": [
        "#### 선형 회귀 모델 함수\n",
        "* 한개의 특성 $x_1$을 사용하는 $i$번째 훈련 샘플에 대한 예측값  \n",
        "$$\\hat{y}^{(i)} = \\theta_0 + \\theta_1 x_1^{i}  $$\n",
        "* n $≥$ 1개의 특성을 사용하는 $i$번째 훈련 샘플에 대한 예측값\n",
        "$$\\hat{y}^{(i)} = \\theta_0 + \\theta_1 x_1^{(i)} + ⋯ + \\theta_n x_n^{(i)}$$\n",
        "    * $\\hat{y}$은 예측값\n",
        "    * $n$은 특성의 수\n",
        "    * $x_i$는 $i$번째 특성값\n",
        "    * $\\theta_j$는 $j$번째 모델 파라미터(편향 $\\theta_0$과 특성의 가중치 $\\theta_1, \\theta_2, ⋯, \\theta_n$을 포함한다.) "
      ],
      "metadata": {
        "id": "C2WLjyLBM5Ih"
      }
    },
    {
      "cell_type": "markdown",
      "source": [
        "#### 선형 회귀 모델의 예측(벡터 형태)\n",
        "$$\\hat{y} = h_\\theta(x) = \\theta x$$  \n",
        "* $\\theta$는 편향과 특성 가중치를 담은 모델의 파라미터 벡터  \n",
        "* $x$는 샘플의 특성 벡터 $x_0$는 항상 1이다\n",
        "* $h_\\theta$는 $\\theta$를 사용한 가설함수\n",
        "\n",
        "#### 파이썬 넘파이 2차원 어레이 표현\n",
        "|데이터|행렬 기호|수학 행렬 모양(shape)|넘파이 어레이 모양|\n",
        "|---:|---:|---:|---:|\n",
        "|레이블, 예측값|$y, \\hat{y}$|m$×$ 1|(m, 1)|\n",
        "|가중치|$\\theta$|(n + 1) $×$ 1|(n+1, 1)|\n",
        "|훈련 세트|$𝐗$|m $×$ n|(m, n)|\n",
        "|훈련 세트(수정)|$𝐗_b$|m $×$ (n + 1)|(m, n+1)|"
      ],
      "metadata": {
        "id": "4bphCyJFOZgX"
      }
    },
    {
      "cell_type": "markdown",
      "source": [
        "#### 비용함수: 평균 제곱 오차(MSE)\n",
        "* 선형 회귀 모델을 구한 뒤 모델 훈련\n",
        "     * 모델 훈련이란 모델이 훈련 세트에 가장 잘 맞도록 모델 파라미터를 설정하는 것\n",
        "* MSE를 활용한 선형 회귀 모델 성능 평가\n",
        "$$MSE(𝐗, h_\\theta) = \\frac{1}{m}\\displaystyle\\sum_{i=1}^{m}(\\theta^Tx^{(i)} - y^{(i)})^2$$\n",
        "* 간단한 표현:\n",
        "$$ MSE(\\theta) := MSE(𝐗, h_\\theta)$$\n"
      ],
      "metadata": {
        "id": "JWlSk5jUTJTy"
      }
    },
    {
      "cell_type": "markdown",
      "source": [
        "#### 목표: 비용함수 최소화\n",
        "* 이유: $𝐗, m, x_b, y^{(i)}$은 모두 주어진 상수값들임\n",
        "* 목표: $MSE(\\theta)$가 최소가 되도록하는 $\\theta$(모델 파라미터) 찾기\n",
        "* 두가지 방법\n",
        "    * 방법 1: 정규방정식 또는 특이값 분해(SVD)활용\n",
        "        * 드물지만 수학적으로 비용함수를 최소화하는 $\\theta$값을 직접 계산할 수 있는 경우 활용\n",
        "        * 계산복잡도가 $O(n^2)$이상인 행렬 연산을 수행\n",
        "        * 따라서 특성 수($n$)이 큰 경우 메모리 관리 및 시간복잡도 문제때문에 비효율적\n",
        "    * 방법 2: 경사하강법\n",
        "        * 특성 수가 매우 크거나 훈련 샘플이 너무 많아 메모리에 모두 담을 수 없을 때 적합\n",
        "        * 일반적으로 선형 회귀 모델 훈련에 적용되는 기법"
      ],
      "metadata": {
        "id": "2pP8qX3lVVd3"
      }
    },
    {
      "cell_type": "markdown",
      "source": [
        "### 4-1-1. 정규방정식\n",
        "* 비용 함수를 최소화하는 $\\theta$값을 찾기 위한 **해석적인 방법** (결과를 바로 얻을 수 있는 수학 공식)\n",
        "$$\\hat{\\theta} = (𝐗^T𝐗)^{-1}𝐗^Ty$$\n",
        "    * $\\hat{\\theta}$은 비용 함수를 최소화하는 $\\theta$값\n",
        "    * $y$는 $y^{(1)}$부터 $y^{(m)}$까지 포함하는 타깃 벡터"
      ],
      "metadata": {
        "id": "4M6y7ELSVxm7"
      }
    },
    {
      "cell_type": "code",
      "source": [
        "import numpy as np\n",
        "import os\n",
        "\n",
        "np.random.seed(42)\n",
        "\n",
        "%matplotlib inline\n",
        "import matplotlib as mpl\n",
        "import matplotlib.pyplot as plt\n",
        "mpl.rc('axes', labelsize=14)\n",
        "mpl.rc('xtick', labelsize=12)\n",
        "mpl.rc('ytick', labelsize=12)"
      ],
      "metadata": {
        "id": "KrS21P0EW1Tm"
      },
      "execution_count": 43,
      "outputs": []
    },
    {
      "cell_type": "code",
      "source": [
        "# 유사선형 데이터 생성\n",
        "X = 2 * np.random.rand(100, 1)  # 0~1의 균일 분포 표준정규분포 난수를 matrix array(100, 1)로 생성\n",
        "y = 4 + 3 * X + np.random.randn(100, 1) # 평균0, 표준편차 1의 가우시안 표준정규분포 난수를 amtrix array(100, 1)로 생성"
      ],
      "metadata": {
        "id": "6updhDBNXxKQ"
      },
      "execution_count": 44,
      "outputs": []
    },
    {
      "cell_type": "code",
      "source": [
        "plt.plot(X, y, \"b.\")\n",
        "plt.xlabel(\"$x_1$\", fontsize=18)\n",
        "plt.ylabel(\"$y$\", rotation = 0, fontsize=18)\n",
        "plt.axis([0, 2, 0, 15])\n",
        "plt.show"
      ],
      "metadata": {
        "colab": {
          "base_uri": "https://localhost:8080/",
          "height": 309
        },
        "id": "5FcRduXTX8tM",
        "outputId": "74ff9b51-7eb7-4d58-eb20-ad5a2c481a87"
      },
      "execution_count": 45,
      "outputs": [
        {
          "output_type": "execute_result",
          "data": {
            "text/plain": [
              "<function matplotlib.pyplot.show(*args, **kw)>"
            ]
          },
          "metadata": {},
          "execution_count": 45
        },
        {
          "output_type": "display_data",
          "data": {
            "text/plain": [
              "<Figure size 432x288 with 1 Axes>"
            ],
            "image/png": "[encoded data removed]"
          },
          "metadata": {
            "needs_background": "light"
          }
        }
      ]
    },
    {
      "cell_type": "code",
      "source": [
        "# 정규방정식을 사용해 theta계산\n",
        "# np.linalg.inv(): 역행렬 계산\n",
        "# np.linalg.dot(): 점곱 계산\n",
        "X_b = np.c_[np.ones((100, 1)), X]   # 모든 샘플에 x0 = 1 추가\n",
        "theta_best = np.linalg.inv(X_b.T.dot(X_b)).dot(X_b.T).dot(y)\n",
        "X_b"
      ],
      "metadata": {
        "id": "yMzfAmrkYJpl",
        "colab": {
          "base_uri": "https://localhost:8080/"
        },
        "outputId": "28dd9812-6d8e-4836-d290-990f5e3fcf69"
      },
      "execution_count": 46,
      "outputs": [
        {
          "output_type": "execute_result",
          "data": {
            "text/plain": [
              "array([[1.        , 0.74908024],\n",
              "       [1.        , 1.90142861],\n",
              "       [1.        , 1.46398788],\n",
              "       [1.        , 1.19731697],\n",
              "       [1.        , 0.31203728],\n",
              "       [1.        , 0.31198904],\n",
              "       [1.        , 0.11616722],\n",
              "       [1.        , 1.73235229],\n",
              "       [1.        , 1.20223002],\n",
              "       [1.        , 1.41614516],\n",
              "       [1.        , 0.04116899],\n",
              "       [1.        , 1.9398197 ],\n",
              "       [1.        , 1.66488528],\n",
              "       [1.        , 0.42467822],\n",
              "       [1.        , 0.36364993],\n",
              "       [1.        , 0.36680902],\n",
              "       [1.        , 0.60848449],\n",
              "       [1.        , 1.04951286],\n",
              "       [1.        , 0.86389004],\n",
              "       [1.        , 0.58245828],\n",
              "       [1.        , 1.22370579],\n",
              "       [1.        , 0.27898772],\n",
              "       [1.        , 0.5842893 ],\n",
              "       [1.        , 0.73272369],\n",
              "       [1.        , 0.91213997],\n",
              "       [1.        , 1.57035192],\n",
              "       [1.        , 0.39934756],\n",
              "       [1.        , 1.02846888],\n",
              "       [1.        , 1.18482914],\n",
              "       [1.        , 0.09290083],\n",
              "       [1.        , 1.2150897 ],\n",
              "       [1.        , 0.34104825],\n",
              "       [1.        , 0.13010319],\n",
              "       [1.        , 1.89777107],\n",
              "       [1.        , 1.93126407],\n",
              "       [1.        , 1.6167947 ],\n",
              "       [1.        , 0.60922754],\n",
              "       [1.        , 0.19534423],\n",
              "       [1.        , 1.36846605],\n",
              "       [1.        , 0.88030499],\n",
              "       [1.        , 0.24407647],\n",
              "       [1.        , 0.99035382],\n",
              "       [1.        , 0.06877704],\n",
              "       [1.        , 1.8186408 ],\n",
              "       [1.        , 0.51755996],\n",
              "       [1.        , 1.32504457],\n",
              "       [1.        , 0.62342215],\n",
              "       [1.        , 1.04013604],\n",
              "       [1.        , 1.09342056],\n",
              "       [1.        , 0.36970891],\n",
              "       [1.        , 1.93916926],\n",
              "       [1.        , 1.55026565],\n",
              "       [1.        , 1.87899788],\n",
              "       [1.        , 1.7896547 ],\n",
              "       [1.        , 1.19579996],\n",
              "       [1.        , 1.84374847],\n",
              "       [1.        , 0.176985  ],\n",
              "       [1.        , 0.39196572],\n",
              "       [1.        , 0.09045458],\n",
              "       [1.        , 0.65066066],\n",
              "       [1.        , 0.77735458],\n",
              "       [1.        , 0.54269806],\n",
              "       [1.        , 1.65747502],\n",
              "       [1.        , 0.71350665],\n",
              "       [1.        , 0.56186902],\n",
              "       [1.        , 1.08539217],\n",
              "       [1.        , 0.28184845],\n",
              "       [1.        , 1.60439396],\n",
              "       [1.        , 0.14910129],\n",
              "       [1.        , 1.97377387],\n",
              "       [1.        , 1.54448954],\n",
              "       [1.        , 0.39743136],\n",
              "       [1.        , 0.01104423],\n",
              "       [1.        , 1.63092286],\n",
              "       [1.        , 1.41371469],\n",
              "       [1.        , 1.45801434],\n",
              "       [1.        , 1.54254069],\n",
              "       [1.        , 0.1480893 ],\n",
              "       [1.        , 0.71693146],\n",
              "       [1.        , 0.23173812],\n",
              "       [1.        , 1.72620685],\n",
              "       [1.        , 1.24659625],\n",
              "       [1.        , 0.66179605],\n",
              "       [1.        , 0.1271167 ],\n",
              "       [1.        , 0.62196464],\n",
              "       [1.        , 0.65036664],\n",
              "       [1.        , 1.45921236],\n",
              "       [1.        , 1.27511494],\n",
              "       [1.        , 1.77442549],\n",
              "       [1.        , 0.94442985],\n",
              "       [1.        , 0.23918849],\n",
              "       [1.        , 1.42648957],\n",
              "       [1.        , 1.5215701 ],\n",
              "       [1.        , 1.1225544 ],\n",
              "       [1.        , 1.54193436],\n",
              "       [1.        , 0.98759119],\n",
              "       [1.        , 1.04546566],\n",
              "       [1.        , 0.85508204],\n",
              "       [1.        , 0.05083825],\n",
              "       [1.        , 0.21578285]])"
            ]
          },
          "metadata": {},
          "execution_count": 46
        }
      ]
    },
    {
      "cell_type": "code",
      "source": [
        "theta_best"
      ],
      "metadata": {
        "colab": {
          "base_uri": "https://localhost:8080/"
        },
        "id": "hnqYMdaDZMoj",
        "outputId": "832bf4c5-b372-4218-f302-8f8d53e8ab07"
      },
      "execution_count": 47,
      "outputs": [
        {
          "output_type": "execute_result",
          "data": {
            "text/plain": [
              "array([[4.21509616],\n",
              "       [2.77011339]])"
            ]
          },
          "metadata": {},
          "execution_count": 47
        }
      ]
    },
    {
      "cell_type": "code",
      "source": [
        "X_new = np.array([[0], [2]])\n",
        "X_new_b = np.c_[np.ones((2, 1)), X_new]\n",
        "y_predict = X_new_b.dot(theta_best)\n",
        "y_predict   # X가 0과 2일때의 예측값"
      ],
      "metadata": {
        "colab": {
          "base_uri": "https://localhost:8080/"
        },
        "id": "_4CLPhyMZ_k8",
        "outputId": "a21d9338-742b-40b1-c447-3ff45b4c4447"
      },
      "execution_count": 48,
      "outputs": [
        {
          "output_type": "execute_result",
          "data": {
            "text/plain": [
              "array([[4.21509616],\n",
              "       [9.75532293]])"
            ]
          },
          "metadata": {},
          "execution_count": 48
        }
      ]
    },
    {
      "cell_type": "code",
      "source": [
        "plt.plot(X_new, y_predict, \"r-\")\n",
        "plt.plot(X, y, \"b.\")\n",
        "plt.axis([0, 2, 0, 15])\n",
        "plt.show()"
      ],
      "metadata": {
        "colab": {
          "base_uri": "https://localhost:8080/",
          "height": 268
        },
        "id": "Ux2fxvZfZOCz",
        "outputId": "09cc0101-e546-4dcd-a944-fbca60475954"
      },
      "execution_count": 49,
      "outputs": [
        {
          "output_type": "display_data",
          "data": {
            "text/plain": [
              "<Figure size 432x288 with 1 Axes>"
            ],
            "image/png": "[encoded data removed]"
          },
          "metadata": {
            "needs_background": "light"
          }
        }
      ]
    },
    {
      "cell_type": "code",
      "source": [
        "plt.plot(X_new, y_predict, \"r-\", linewidth=2, label=\"Prediction\")\n",
        "plt.plot(X, y, \"b.\")\n",
        "plt.xlabel(\"$X_1$\", fontsize=18)\n",
        "plt.ylabel(\"$y$\", rotation=0, fontsize=18)\n",
        "plt.legend(loc=\"upper left\", fontsize=14)\n",
        "plt.axis([0, 2, 0, 15])\n",
        "plt.show"
      ],
      "metadata": {
        "id": "eYnzdLsbZ7h8",
        "colab": {
          "base_uri": "https://localhost:8080/",
          "height": 311
        },
        "outputId": "442c6dbc-9910-4321-ee73-9884069eedde"
      },
      "execution_count": 50,
      "outputs": [
        {
          "output_type": "execute_result",
          "data": {
            "text/plain": [
              "<function matplotlib.pyplot.show(*args, **kw)>"
            ]
          },
          "metadata": {},
          "execution_count": 50
        },
        {
          "output_type": "display_data",
          "data": {
            "text/plain": [
              "<Figure size 432x288 with 1 Axes>"
            ],
            "image/png": "[encoded data removed]"
          },
          "metadata": {
            "needs_background": "light"
          }
        }
      ]
    },
    {
      "cell_type": "markdown",
      "source": [
        "#### 사이킷런에서 선형 회귀 수행하기"
      ],
      "metadata": {
        "id": "2rwI9UVjCHtH"
      }
    },
    {
      "cell_type": "code",
      "source": [
        "from sklearn.linear_model import LinearRegression\n",
        "\n",
        "lin_reg = LinearRegression()\n",
        "lin_reg.fit(X, y)\n",
        "lin_reg.intercept_, lin_reg.coef_"
      ],
      "metadata": {
        "colab": {
          "base_uri": "https://localhost:8080/"
        },
        "id": "M3r9DHxuCOWC",
        "outputId": "d1b7a067-b6dc-4c0c-d5f1-773ae48b231a"
      },
      "execution_count": 51,
      "outputs": [
        {
          "output_type": "execute_result",
          "data": {
            "text/plain": [
              "(array([4.21509616]), array([[2.77011339]]))"
            ]
          },
          "metadata": {},
          "execution_count": 51
        }
      ]
    },
    {
      "cell_type": "code",
      "source": [
        "lin_reg.predict(X_new)"
      ],
      "metadata": {
        "colab": {
          "base_uri": "https://localhost:8080/"
        },
        "id": "yAcvB8P1CkZ6",
        "outputId": "1d9512e7-612a-43db-8550-7609265faaaf"
      },
      "execution_count": 52,
      "outputs": [
        {
          "output_type": "execute_result",
          "data": {
            "text/plain": [
              "array([[4.21509616],\n",
              "       [9.75532293]])"
            ]
          },
          "metadata": {},
          "execution_count": 52
        }
      ]
    },
    {
      "cell_type": "code",
      "source": [
        "# Linearregression 클래스는 scipy.linalg.lstsq()함수를 사용하므로 이 함수를 직접 사용할 수 있다.\n",
        "theta_best_svd, residuals, rank, s = np.linalg.lstsq(X_b, y, rcond=1e-6)\n",
        "theta_best_svd"
      ],
      "metadata": {
        "colab": {
          "base_uri": "https://localhost:8080/"
        },
        "id": "rrpbu_ACCyVv",
        "outputId": "3b92e121-9d1a-4d5a-ef3e-b9283f6d29c8"
      },
      "execution_count": 53,
      "outputs": [
        {
          "output_type": "execute_result",
          "data": {
            "text/plain": [
              "array([[4.21509616],\n",
              "       [2.77011339]])"
            ]
          },
          "metadata": {},
          "execution_count": 53
        }
      ]
    },
    {
      "cell_type": "code",
      "source": [
        "# np.linalg.pinv()를 사용해 유사역행렬을 직접 계산\n",
        "np.linalg.pinv(X_b).dot(y)"
      ],
      "metadata": {
        "id": "GAHeLmdWDWgq",
        "colab": {
          "base_uri": "https://localhost:8080/"
        },
        "outputId": "4b8ab7a3-7224-4dd3-ed12-5c7a440c2875"
      },
      "execution_count": 54,
      "outputs": [
        {
          "output_type": "execute_result",
          "data": {
            "text/plain": [
              "array([[4.21509616],\n",
              "       [2.77011339]])"
            ]
          },
          "metadata": {},
          "execution_count": 54
        }
      ]
    },
    {
      "cell_type": "markdown",
      "source": [
        "### 4-1-2. 계산 복잡도\n",
        "* 정규방정식은 $(n+1)×(n+1)$크기의 역행렬을 계산\n",
        "    * 일반적으로 $O(n^{2.4})$에서 $O(n^3)$사이의 계산복잡도\n",
        "* 특성의 수가 2배로 늘어난경우 계산시간이 5.3~8배 증가한다.\n",
        "* 사이킷런의 `LinearRegression`은 $O(n^2)$만큼의 시간복잡도를 가짐\n",
        "* 선형회귀모델은 예측의 속도가 매우 빠르다\n",
        "    * 예측 계산복잡도는 샘플 수와 특성 수에 선형적"
      ],
      "metadata": {
        "id": "GvukVL5da_p_"
      }
    },
    {
      "cell_type": "markdown",
      "source": [
        "## 4-2. 경사 하강법(Gradient descent)\n",
        "* 특성이 매우 많고 훈련 샘플이 너무 많아 메모리에 모두 담을 수 없는 경우\n",
        "    * 훈련 세트를 이용한 훈련 과정 중에 가중치 등과 같은 **파라미터를 조금씩 반복적으로 조정**\n",
        "    * 조정 기준: 비용 함수의 크기 줄이기\n",
        "* 최적 학습 모델\n",
        "    * 비용함수를 최소화하는 또는 효용함수를 최대화하는 파라미터를 사용하는 모델\n",
        "* **파라미터**\n",
        "    * 예측값을 생성하는 함수로 구현되는 학습 모델에 사용되는 파라미터\n",
        "* **하이퍼파라미터**\n",
        "    * 학습 모델을 지정할 때 사용되는 값\n",
        "    * 학습률, 배치 크기, 에포크, 허용오차, ...\n",
        "        * 에포크(epoch): 훈련 세트 전체를 대상으로 훈련하는 단계\n",
        "            * 에포크 수: 전체 훈련 세트를 몇 번 반복 학습할 지 결정\n",
        "        * 배치(batch) 크기: 파라미터를 업데이트하기 위해, 즉 그레이디언트 벡터를 계산하기 위해 필요한 훈련 샘플 수\n",
        "        * 허용오차(tolerance): 비용함수의 그레이디언트 벡터의 크기가 허용오차보다 작아지면 학습 종료\n",
        "* **비용함수**\n",
        "    * 모델이 얼마나 나쁜지를 계산해주는 함수\n",
        "    * 최적 학습 모델은 비용함수가 최소가 되도록 하는 모델\n",
        "* **전역 최솟값**\n",
        "    * 비용함수가 가질 수 있는 최솟값\n",
        "* **그레이디언트 벡터**\n",
        "    * 다변수 함수의 미분값\n",
        "    * 여러 개의 값으로 이루어진 벡터로 계산됨\n",
        "    * (그레이디언트)벡터는 방향과 크기에 대한 정보 제공\n",
        "    * 그레이디언트가 가리키는 방향의 반대 방향으로 움직여야 가장 빠르게 전역최솟값에 접근  \n",
        "$$\\nabla_\\theta \\textrm{MSE}(\\theta) =\n",
        "\\begin{bmatrix}\n",
        "    \\frac{\\partial}{\\partial \\theta_0} \\textrm{MSE}(\\theta) \\\\\n",
        "    \\frac{\\partial}{\\partial \\theta_1} \\textrm{MSE}(\\theta) \\\\\n",
        "    \\vdots \\\\\n",
        "    \\frac{\\partial}{\\partial \\theta_n} \\textrm{MSE}(\\theta)\n",
        "\\end{bmatrix} =\n",
        "\\frac{2}{m}\\, \\mathbf{X}_b^T\\, (\\mathbf{X}_b\\, \\theta - \\mathbf y)$$\n",
        "* **학습률**\n",
        "    * 훈련 과정에서의 비용함수 파라미터 조정 비율\n",
        "* **스텝**(step)\n",
        "    * 지정된 배치 크기의 샘플을 학습한 후에 파라미터를 조정하는 단계\n",
        "    * 훈련 세트의 크기가 1000이고 배치 크기가 10이면, 하나의 에포크 기간동안 총 100번의 스텝이 실행됨\n",
        "    * 스텝 크기 = (훈련 샘플 수)/(배치 크기)\n",
        "    * 경우에 따라 배치 크기 대신에 스텝 크기가 하이퍼파라미터로 주어짐\n",
        "* **학습률과 모델 학습**\n",
        "    * $\\theta$를 임의의 값으로 지정한 후 훈련 시작\n",
        "    * 아래 단계를 $\\theta$가 특정 값에 지정된 오차범위 내로 수렴할 때까지 반복\n",
        "        1. (배치 크기로)지정된 수의 훈련 샘플을 이용하여 학습\n",
        "        2. 학습 후 $MSE(\\theta)$계산\n",
        "        3. 이전 $\\theta$에서 그레이디언트 백터와 학습률을 곱한 값 빼기  \n",
        "$$\\theta^{(\\text{new})} = \\theta^{(\\text{old})}\\, -\\, \\eta\\cdot \\nabla_\\theta \\textrm{MSE}(\\theta^{(\\text{old})})$$\n",
        "![ScreenShot](https://formal.hknu.ac.kr/handson-ml2/slides/images/ch04/homl04-01.png)\n",
        "> 모델 파라미터가 무작위하게 초기화된 후 반복적으로 수정되어 비용 함수를 최소화 한다.\n",
        "* **에포크와 허용오차**\n",
        "    * 에포크 수는 크게 설정한 후 허용오차를 지정하여 학습시간 제한 필요\n",
        "    * 이유: 포물선의 최솟점에 가까워질 수록 그레이디언트 벡터의 크기가 0에 수렴\n",
        "    * 허용오차와 에포크 수는 서로 반비례의 관계\n",
        "        * 즉, 오차를 1/10으로 줄이려면 에포크 수를 10배 늘려야 한다."
      ],
      "metadata": {
        "id": "I-ctVgJJb8k0"
      }
    },
    {
      "cell_type": "markdown",
      "source": [
        "* 경사 하강법에서 중요한 파라미터는 스텝의 크기로, **학습률** 하이퍼파라미터로 결정\n",
        "1. 학습률이 너무 작은 경우\n",
        "    * 알고리즘이 수렴하기 위해 반복을 많이 진행 -> 시간이 오래 걸린다.\n",
        "![Screenshot](https://formal.hknu.ac.kr/handson-ml2/slides/images/ch04/homl04-02.png)\n",
        "2. 학습률이 너무 큰 경우\n",
        "    * 비용함수가 수렴하지 않음\n",
        "![ScreenShot](https://formal.hknu.ac.kr/handson-ml2/slides/images/ch04/homl04-03.png)\n",
        "3. 비용 함수의 모양이 특이한 경우\n",
        "    * **전역최솟값**보다 덜 좋은 **지역최솟값**에 수렴한다\n",
        "![ScreenShot](https://formal.hknu.ac.kr/handson-ml2/slides/images/ch04/homl04-04.png)\n",
        "> 경사 하강법을 사용할 때는 반드시 모든 특성이 같은 스케일을 갖도록 만들어야 한다. (사이킷런 `StandardScaler`사용)"
      ],
      "metadata": {
        "id": "JvbhY-3egu8X"
      }
    },
    {
      "cell_type": "markdown",
      "source": [
        "#### 선형 회귀를 위한 MSE 비용함수\n",
        "* 선형회귀의 비용함수는 곡선 위의 임의의 두 점을 선택해 선을 그어도 곡선을 가로지르지 않는 볼록함수\n",
        "    * 지역 최솟값이 존재하지 않으며 전역 최솟값만 존재한다.\n",
        "* 학습률이 너무 크지 않으면 언젠가는 전역 최솟값에 수렴한다.\n"
      ],
      "metadata": {
        "id": "e5PPEyjIiC0o"
      }
    },
    {
      "cell_type": "markdown",
      "source": [
        "### 4-2-1. 배치 경사 하강법\n",
        "* 각 모델 파라미터 $\\theta_j$에 대해 비용 함수의 그레이디언트를 계산\n",
        "    * **편도함수**: $\\theta_j$가 조금 변경될 때 비용 함수가 얼마나 바뀌는 지 계산해야 함\n"
      ],
      "metadata": {
        "id": "_IR5pYSbkWch"
      }
    },
    {
      "cell_type": "code",
      "source": [
        "eta = 0.1  # 학습률\n",
        "n_iterations = 1000\n",
        "m = 100\n",
        "\n",
        "theta = np.random.randn(2,1)  # 랜덤 초기화\n",
        "\n",
        "for iteration in range(n_iterations):\n",
        "    gradients = 2/m * X_b.T.dot(X_b.dot(theta) - y)\n",
        "    theta = theta - eta * gradients"
      ],
      "metadata": {
        "id": "7vMUIoiAlXR6"
      },
      "execution_count": 55,
      "outputs": []
    },
    {
      "cell_type": "code",
      "source": [
        "theta"
      ],
      "metadata": {
        "colab": {
          "base_uri": "https://localhost:8080/"
        },
        "id": "zZqMHuX3mpKu",
        "outputId": "5705c1b0-f402-4f96-c8be-c95abc57e001"
      },
      "execution_count": 56,
      "outputs": [
        {
          "output_type": "execute_result",
          "data": {
            "text/plain": [
              "array([[4.21509616],\n",
              "       [2.77011339]])"
            ]
          },
          "metadata": {},
          "execution_count": 56
        }
      ]
    },
    {
      "cell_type": "code",
      "source": [
        "X_new_b.dot(theta)"
      ],
      "metadata": {
        "colab": {
          "base_uri": "https://localhost:8080/"
        },
        "id": "fkU6wX8-mpzQ",
        "outputId": "a213eb21-404b-4f83-cf6c-716c71f520b9"
      },
      "execution_count": 57,
      "outputs": [
        {
          "output_type": "execute_result",
          "data": {
            "text/plain": [
              "array([[4.21509616],\n",
              "       [9.75532293]])"
            ]
          },
          "metadata": {},
          "execution_count": 57
        }
      ]
    },
    {
      "cell_type": "code",
      "source": [
        "# 학습률에 따른 수렴 그래프 그리기\n",
        "theta_path_bgd = []\n",
        "\n",
        "def plot_gradient_descent(theta, eta, theta_path=None):\n",
        "    m = len(X_b)\n",
        "    plt.plot(X, y, \"b.\")\n",
        "    n_iterations = 1000\n",
        "    for iteration in range(n_iterations):\n",
        "        if iteration < 10:\n",
        "            y_predict = X_new_b.dot(theta)\n",
        "            style = 'r-' if iteration > 0 else 'r--'\n",
        "            plt.plot(X_new, y_predict, style)\n",
        "        gradients = 2/m * X_b.T.dot(X_b.dot(theta) - y)\n",
        "        theta = theta - eta * gradients\n",
        "        if theta_path is not None:\n",
        "            theta_path.append(theta)\n",
        "    plt.xlabel(\"$x_1$\", fontsize=18)\n",
        "    plt.axis([0, 2, 0, 15])\n",
        "    plt.title(r\"$\\eta = {}$\".format(eta), fontsize=16)"
      ],
      "metadata": {
        "id": "Hb-3HW8sosqh"
      },
      "execution_count": 58,
      "outputs": []
    },
    {
      "cell_type": "code",
      "source": [
        "np.random.seed(42)\n",
        "theta = np.random.randn(2, 1)\n",
        "\n",
        "plt.figure(figsize=(10, 4))\n",
        "plt.subplot(131); plot_gradient_descent(theta, eta=0.02)\n",
        "plt.ylabel(\"$y$\", rotation=0, fontsize=18)\n",
        "plt.subplot(132); plot_gradient_descent(theta, eta=0.1, theta_path=theta_path_bgd)\n",
        "plt.subplot(133); plot_gradient_descent(theta, eta=0.5)\n",
        "plt.show"
      ],
      "metadata": {
        "colab": {
          "base_uri": "https://localhost:8080/",
          "height": 329
        },
        "id": "o6uwbPYwpo8H",
        "outputId": "12563e36-988a-4393-90ae-fc16ad044513"
      },
      "execution_count": 59,
      "outputs": [
        {
          "output_type": "execute_result",
          "data": {
            "text/plain": [
              "<function matplotlib.pyplot.show(*args, **kw)>"
            ]
          },
          "metadata": {},
          "execution_count": 59
        },
        {
          "output_type": "display_data",
          "data": {
            "text/plain": [
              "<Figure size 720x288 with 3 Axes>"
            ],
            "image/png": "[encoded data removed]"
          },
          "metadata": {
            "needs_background": "light"
          }
        }
      ]
    },
    {
      "cell_type": "markdown",
      "source": [
        "* 학습률이 0.02인 경우:\n",
        "    * 학습률이 너무 낮음\n",
        "    * 알고리즘은 최적점에 도달하지만, 시간이 오래 걸림\n",
        "* 학습률이 0.5인 경우\n",
        "    * 학습률이 높음\n",
        "    * 알고리즘이 스텝마다 최적점에서 점점 더 멀어져 발산한다.\n",
        "* 적절한 학습률을 찾기 위해\n",
        "    * 그리드 탐색을 사용한다.\n",
        "        * 수렴하는 데 너무 오래 걸리는 모델을 막기 위해 반복 횟수를 제한\n",
        "        "
      ],
      "metadata": {
        "id": "zhj1wJBDqEe1"
      }
    },
    {
      "cell_type": "markdown",
      "source": [
        "### 4-2-2. 확률적 경사 하강법\n",
        "* 배치 경사 하강법은 매 스텝에서 전체 훈련 세트를 사용해 그레이디언트를 계산한다는 한계를 가짐 (훈련 세트가 매우 커지면 매우 느리다)\n",
        "* **확률적 경사 하강법**은 매 스텝에서 하나의 샘플을 무작위로 선택하고 그 하나에 대해서만 그레이디언트를 계산\n",
        "* **장점**\n",
        "    * 매우 큰 훈련 세트를 다룰 수 있다\n",
        "        * 외부 메모리(out-of-core)학습을 활용할 수 있음\n",
        "    * 학습 과정이 매우 빠름\n",
        "    * 파라미터 조정이 불안정 할 수 있기 때문에 지역 최솟값에 상대적으로 덜 민감\n",
        "* **단점**\n",
        "    * 학습 과정에서 파라미터의 동요가 심할 수 있음\n",
        "    * 경우에 따라 전역 최솟값에 수렴하지 못하고 계속해서 발산할 가능성도 높음"
      ],
      "metadata": {
        "id": "2O9oR4Yhq75U"
      }
    },
    {
      "cell_type": "markdown",
      "source": [
        "* **학습 스케쥴**\n",
        "    * 요동치는 파라미터를 제어하기 위해 학습률을 학습 과정 동안 천천히 줄어들게 만들 수 있음\n",
        "    * 주의 사항\n",
        "        * 학습률이 너무 빠리 줄어들면, 지역 최솟값에 갇힐 수 있음\n",
        "        * 학습류링 너무 느리게 줄어들면 전역 최솟값에 제대로 수렴하지 못하고 맴돌 수 있음\n",
        "    * 학습 스케쥴(learning schedule)\n",
        "        * 에포크, 훈련 샘플 수, 학습되는 샘플의 인덱스에 따른 학습률 지정"
      ],
      "metadata": {
        "id": "Hac3ZWpBrxck"
      }
    },
    {
      "cell_type": "code",
      "source": [
        "n_epochs = 50\n",
        "t0, t1 = 5, 50\n",
        "\n",
        "def learning_schedule(t):\n",
        "    return t0/(t + t1)\n",
        "\n",
        "theta = np.random.randn(2,1)\n",
        "\n",
        "for epoch in range(n_epochs):\n",
        "    for i in range(m):\n",
        "        random_index = np.random.randint(m)\n",
        "        xi = X_b[random_index:random_index+1]\n",
        "        yi = y[random_index:random_index+1]\n",
        "        gradients = 2 * xi.T.dot(xi.dot(theta) - yi)\n",
        "        eta = learning_schedule(epoch * m + i)\n",
        "        theta = theta - eta * gradients"
      ],
      "metadata": {
        "id": "2HzdpvaQt0tM"
      },
      "execution_count": 60,
      "outputs": []
    },
    {
      "cell_type": "code",
      "source": [
        "theta"
      ],
      "metadata": {
        "colab": {
          "base_uri": "https://localhost:8080/"
        },
        "id": "TGJptDYguY2D",
        "outputId": "3f397d8e-2e28-46d6-a5ec-ebd75d8ed474"
      },
      "execution_count": 61,
      "outputs": [
        {
          "output_type": "execute_result",
          "data": {
            "text/plain": [
              "array([[4.20742938],\n",
              "       [2.74264448]])"
            ]
          },
          "metadata": {},
          "execution_count": 61
        }
      ]
    },
    {
      "cell_type": "code",
      "source": [
        "theta_path_sgd = []\n",
        "m = len(X_b)\n",
        "np.random.seed(42)"
      ],
      "metadata": {
        "id": "ZR03j94itCMN"
      },
      "execution_count": 62,
      "outputs": []
    },
    {
      "cell_type": "code",
      "source": [
        "n_epochs = 50\n",
        "t0, t1 = 5, 50  # 학습 스케줄 하이퍼파라미터\n",
        "\n",
        "def learning_schedule(t):\n",
        "    return t0 / (t + t1)\n",
        "\n",
        "theta = np.random.randn(2,1)  # 랜덤 초기화\n",
        "\n",
        "for epoch in range(n_epochs):\n",
        "    for i in range(m):\n",
        "        if epoch == 0 and i < 20:                    \n",
        "            y_predict = X_new_b.dot(theta)           \n",
        "            style = \"r-\" if i > 0 else \"r--\"         \n",
        "            plt.plot(X_new, y_predict, style)     \n",
        "        random_index = np.random.randint(m)\n",
        "        xi = X_b[random_index:random_index+1]\n",
        "        yi = y[random_index:random_index+1]\n",
        "        gradients = 2 * xi.T.dot(xi.dot(theta) - yi)\n",
        "        eta = learning_schedule(epoch * m + i)\n",
        "        theta = theta - eta * gradients\n",
        "        theta_path_sgd.append(theta)             \n",
        "\n",
        "plt.plot(X, y, \"b.\")                             \n",
        "plt.xlabel(\"$x_1$\", fontsize=18)                   \n",
        "plt.ylabel(\"$y$\", rotation=0, fontsize=18)         \n",
        "plt.axis([0, 2, 0, 15])                            \n",
        "                     \n",
        "plt.show()                                           "
      ],
      "metadata": {
        "colab": {
          "base_uri": "https://localhost:8080/",
          "height": 290
        },
        "id": "8HuckDBDtHVF",
        "outputId": "eaf93c15-78f2-408d-e486-31d10cba7a60"
      },
      "execution_count": 63,
      "outputs": [
        {
          "output_type": "display_data",
          "data": {
            "text/plain": [
              "<Figure size 432x288 with 1 Axes>"
            ],
            "image/png": "[encoded data removed]"
          },
          "metadata": {
            "needs_background": "light"
          }
        }
      ]
    },
    {
      "cell_type": "code",
      "source": [
        "theta"
      ],
      "metadata": {
        "colab": {
          "base_uri": "https://localhost:8080/"
        },
        "id": "72lnHxsEunKQ",
        "outputId": "2aa568f4-4138-41b4-f964-aef9c71d0b9a"
      },
      "execution_count": 64,
      "outputs": [
        {
          "output_type": "execute_result",
          "data": {
            "text/plain": [
              "array([[4.21076011],\n",
              "       [2.74856079]])"
            ]
          },
          "metadata": {},
          "execution_count": 64
        }
      ]
    },
    {
      "cell_type": "markdown",
      "source": [
        "* **사이킷 런의 `SGDRegressor`**\n",
        "    * 경사 하강법 지원\n",
        "    * 사용되는 하이퍼파라미터\n",
        "        * `max_iter`: 에포크 수 제한\n",
        "        * `tol`: 허용 오차\n",
        "        * `eta=0.1`: `SGDRegressor`가 사용하는 학습 스케줄 함수에 사용되는 매개 변수. 일종의 학습률\n",
        "        * `penalty`: 규제 사용 여부"
      ],
      "metadata": {
        "id": "4ilc1-h_silM"
      }
    },
    {
      "cell_type": "code",
      "source": [
        "from sklearn.linear_model import SGDRegressor\n",
        "\n",
        "sgd_reg = SGDRegressor(max_iter=1000, tol=1e-3, penalty=None, eta0=0.1, random_state=42)\n",
        "sgd_reg.fit(X, y.ravel())"
      ],
      "metadata": {
        "colab": {
          "base_uri": "https://localhost:8080/"
        },
        "id": "5siBha1DtADk",
        "outputId": "f4fd9803-6e19-4eaa-ca93-53d3ec9de93c"
      },
      "execution_count": 65,
      "outputs": [
        {
          "output_type": "execute_result",
          "data": {
            "text/plain": [
              "SGDRegressor(eta0=0.1, penalty=None, random_state=42)"
            ]
          },
          "metadata": {},
          "execution_count": 65
        }
      ]
    },
    {
      "cell_type": "code",
      "source": [
        "sgd_reg.intercept_, sgd_reg.coef_"
      ],
      "metadata": {
        "colab": {
          "base_uri": "https://localhost:8080/"
        },
        "id": "-0LtlYPUvAAf",
        "outputId": "af5844ee-c51f-41a3-960b-7306a79106e4"
      },
      "execution_count": 66,
      "outputs": [
        {
          "output_type": "execute_result",
          "data": {
            "text/plain": [
              "(array([4.24365286]), array([2.8250878]))"
            ]
          },
          "metadata": {},
          "execution_count": 66
        }
      ]
    },
    {
      "cell_type": "markdown",
      "source": [
        "### 4-2-3. 미니배치 경사 하강법\n",
        "* **미니배치**라 부르는 임의의 작은 샘플 세트에 대해 그레이디언트 계산\n",
        "* **장점**\n",
        "    * 배치 크기를 어느 정도 크게 하면 확률적 경사 하강법(SGD)보다 파라미터의 움직임이 덜 불규칙적\n",
        "    * 배치 경사 하강법보다 빠르게 학습\n",
        "    * 학습 스케줄 사용가능\n",
        "* **단점**\n",
        "    * SGD에 비해 지역 최솟값에 수렴할 위험도 커짐"
      ],
      "metadata": {
        "id": "Sf8lkfo9vGXT"
      }
    },
    {
      "cell_type": "code",
      "source": [
        "theta_path_mgd = []\n",
        "\n",
        "n_ierations = 50\n",
        "minibatch_size = 20\n",
        "\n",
        "np.random.seed(42)\n",
        "theta = np.random.randn(2,1)\n",
        "\n",
        "t0, t1 = 200, 1000\n",
        "def learning_schedule(t):\n",
        "    return t0 / (t+t1)\n",
        "\n",
        "t=0\n",
        "for epoch in range(n_iterations):\n",
        "    shuffled_indices = np.random.permutation(m)\n",
        "    X_b_shuffled = X_b[shuffled_indices]\n",
        "    y_shuffled = y[shuffled_indices]\n",
        "    for i in range(0, m, minibatch_size):\n",
        "        t += 1\n",
        "        xi = X_b_shuffled[i:i+minibatch_size]\n",
        "        yi = y_shuffled[i:i+minibatch_size]\n",
        "        gradients = 2/minibatch_size * xi.T.dot(xi.dot(theta) - yi)\n",
        "        eta = learning_schedule(t)\n",
        "        theta = theta - eta * gradients\n",
        "        theta_path_mgd.append(theta)"
      ],
      "metadata": {
        "id": "gBB-5b-8nvFo"
      },
      "execution_count": 67,
      "outputs": []
    },
    {
      "cell_type": "code",
      "source": [
        "theta"
      ],
      "metadata": {
        "colab": {
          "base_uri": "https://localhost:8080/"
        },
        "id": "vZ_VuVw9pCLp",
        "outputId": "ba5f0011-330d-42fd-89a5-ed5ba7a18753"
      },
      "execution_count": 68,
      "outputs": [
        {
          "output_type": "execute_result",
          "data": {
            "text/plain": [
              "array([[4.20887719],\n",
              "       [2.76284597]])"
            ]
          },
          "metadata": {},
          "execution_count": 68
        }
      ]
    },
    {
      "cell_type": "code",
      "source": [
        "theta_path_bgd = np.array(theta_path_bgd)\n",
        "theta_path_sgd = np.array(theta_path_sgd)\n",
        "theta_path_mgd = np.array(theta_path_mgd)\n",
        "\n",
        "plt.figure(figsize=(7,4))\n",
        "plt.plot(theta_path_sgd[:, 0], theta_path_sgd[:, 1], \"r-s\", linewidth=1, label=\"Stochastic\")\n",
        "plt.plot(theta_path_mgd[:, 0], theta_path_mgd[:, 1], \"g-+\", linewidth=2, label=\"Mini-batch\")\n",
        "plt.plot(theta_path_bgd[:, 0], theta_path_bgd[:, 1], \"b-o\", linewidth=3, label=\"Batch\")\n",
        "plt.legend(loc=\"upper left\", fontsize=16)\n",
        "plt.xlabel(r\"$\\theta_0$\", fontsize=20)\n",
        "plt.ylabel(r\"$\\theta_1$\", fontsize=20, rotation=0)\n",
        "plt.axis([2.5, 4.5, 2.3, 3.9])\n",
        "plt.show()"
      ],
      "metadata": {
        "id": "9_PaWhwopEkl",
        "colab": {
          "base_uri": "https://localhost:8080/",
          "height": 295
        },
        "outputId": "b2deaf7c-4723-4c29-b26f-6e7ddfa6f593"
      },
      "execution_count": 69,
      "outputs": [
        {
          "output_type": "display_data",
          "data": {
            "text/plain": [
              "<Figure size 504x288 with 1 Axes>"
            ],
            "image/png": "[encoded data removed]"
          },
          "metadata": {
            "needs_background": "light"
          }
        }
      ]
    },
    {
      "cell_type": "markdown",
      "source": [
        "## 선형 회귀 알고리즘 비교\n",
        "|알고리즘|많은 샘플 수|외부 메모리 학습|많은 특성 수|하이퍼 파라미터 수|스케일 조정|사이킷런 지원|\n",
        "|:---:|:---:|:---:|:---:|:---:|:---:|:---:|\n",
        "|정규방정식|빠름|지원 안됨|느림|0|불필요|지원 없음|\n",
        "|SVD|빠름|지원 안됨|느림|0|불필요|Linear Regression|\n",
        "|배치 GD|느림|지원 안됨|빠름|2|필요|LogisticRegression|\n",
        "|SGD|빠름|지원|빠름|>=2|필요|SGDRegressor|\n",
        "|미니배치 GD|빠름|지원|빠름|>=2|필요|지원 없음|"
      ],
      "metadata": {
        "id": "aqy7u80bsPkO"
      }
    },
    {
      "cell_type": "markdown",
      "source": [
        "## 4-3. 다항 회귀\n",
        "* 비선형 데이터를 학습하는 데 선형 모델을 사용할 수 있다\n",
        "* 다항 회귀 기본 아이디어\n",
        "    * 특성 조합 활용\n",
        "    * 각 특성의 거듭제곱을 새로운 특성으로 추가\n",
        "    * 확장된 특성을 포함한 데이터셋에 선형 모델을 훈련"
      ],
      "metadata": {
        "id": "pZXbhAQUqPi-"
      }
    },
    {
      "cell_type": "code",
      "source": [
        "# 2차 방정식 비선형 데이터 회귀\n",
        "import numpy as np\n",
        "import numpy.random as rnd\n",
        "\n",
        "np.random.seed(42)\n",
        "\n",
        "m= 100\n",
        "X = 6*np.random.rand(m, 1) - 3\n",
        "y = 0.5 * X**2 + X + 2 + np.random.randn(m, 1)\n",
        "\n",
        "plt.plot(X, y, 'b.')\n",
        "plt.xlabel(\"$X_1$\", fontsize=18)\n",
        "plt.ylabel(\"$y$\", rotation=0, fontsize=18)\n",
        "plt.axis([-3, 3, 0, 10])\n",
        "plt.show()"
      ],
      "metadata": {
        "colab": {
          "base_uri": "https://localhost:8080/",
          "height": 297
        },
        "id": "Kv5PmS00t3B6",
        "outputId": "6658d0e1-2d52-47bf-a062-0bff046e603a"
      },
      "execution_count": 70,
      "outputs": [
        {
          "output_type": "display_data",
          "data": {
            "text/plain": [
              "<Figure size 432x288 with 1 Axes>"
            ],
            "image/png": "[encoded data removed]"
          },
          "metadata": {
            "needs_background": "light"
          }
        }
      ]
    },
    {
      "cell_type": "code",
      "source": [
        "# 훈련 세트에 있는 각 특성을 제곱(2차 다항)하여 새로운 특성으로 추가 (특성 하나가 추가)\n",
        "from sklearn.preprocessing import PolynomialFeatures\n",
        "poly_features = PolynomialFeatures(degree=2, include_bias=False)\n",
        "X_poly = poly_features.fit_transform(X)\n",
        "X[0]"
      ],
      "metadata": {
        "colab": {
          "base_uri": "https://localhost:8080/"
        },
        "id": "u6HeaC3luq0f",
        "outputId": "97ce78fe-f71e-4632-b215-da6877142bd1"
      },
      "execution_count": 71,
      "outputs": [
        {
          "output_type": "execute_result",
          "data": {
            "text/plain": [
              "array([-0.75275929])"
            ]
          },
          "metadata": {},
          "execution_count": 71
        }
      ]
    },
    {
      "cell_type": "code",
      "source": [
        "X_poly[0]"
      ],
      "metadata": {
        "colab": {
          "base_uri": "https://localhost:8080/"
        },
        "id": "DOlkSOizvKYQ",
        "outputId": "ed30f0a4-cdff-4204-88a3-7dd10c1a7b61"
      },
      "execution_count": 72,
      "outputs": [
        {
          "output_type": "execute_result",
          "data": {
            "text/plain": [
              "array([-0.75275929,  0.56664654])"
            ]
          },
          "metadata": {},
          "execution_count": 72
        }
      ]
    },
    {
      "cell_type": "code",
      "source": [
        "lin_reg = LinearRegression()\n",
        "lin_reg.fit(X_poly, y)\n",
        "lin_reg.intercept_, lin_reg.coef_"
      ],
      "metadata": {
        "colab": {
          "base_uri": "https://localhost:8080/"
        },
        "id": "pXc4bHTKvRUv",
        "outputId": "6efa9bd9-92eb-480f-b896-005b8902cf47"
      },
      "execution_count": 73,
      "outputs": [
        {
          "output_type": "execute_result",
          "data": {
            "text/plain": [
              "(array([1.78134581]), array([[0.93366893, 0.56456263]]))"
            ]
          },
          "metadata": {},
          "execution_count": 73
        }
      ]
    },
    {
      "cell_type": "code",
      "source": [
        "X_new=np.linspace(-3, 3, 100).reshape(100, 1)\n",
        "X_new_poly = poly_features.transform(X_new)\n",
        "y_new = lin_reg.predict(X_new_poly)\n",
        "plt.plot(X, y, \"b.\")\n",
        "plt.plot(X_new, y_new, \"r-\", linewidth=2, label=\"Predictions\")\n",
        "plt.xlabel(\"$x_1$\", fontsize=18)\n",
        "plt.ylabel(\"$y$\", rotation=0, fontsize=18)\n",
        "plt.legend(loc=\"upper left\", fontsize=14)\n",
        "plt.axis([-3, 3, 0, 10])\n",
        "\n",
        "plt.show()"
      ],
      "metadata": {
        "colab": {
          "base_uri": "https://localhost:8080/",
          "height": 295
        },
        "id": "kzyqpmcivaRZ",
        "outputId": "1e3c6bc4-aaf3-4b50-b6f4-26dcfa87e6a5"
      },
      "execution_count": 74,
      "outputs": [
        {
          "output_type": "display_data",
          "data": {
            "text/plain": [
              "<Figure size 432x288 with 1 Axes>"
            ],
            "image/png": "[encoded data removed]"
          },
          "metadata": {
            "needs_background": "light"
          }
        }
      ]
    },
    {
      "cell_type": "markdown",
      "source": [
        "* 특성이 여러개 인 경우\n",
        "    * 특성 사이의 관계를 찾을 수 있다. (일반 선형 회귀 모델과의 차이)\n",
        "    * `PolynomialFeatures`가 주어진 차수까지 특성 간의 모든 교차항을 추가함\n",
        "        * 주어진 특성들의 거듭제곱과 특성들 사이의 곱셈을 실행하여 특성을 추가하는 기능\n",
        "        * `degree=d`하이퍼파라미터 지정\n",
        "        * n=2, d=3: $(x_1+x_2)^2 + (x_1+x_2)^3$의 항목에 해당하는 7개의 특성 추가  \n",
        "\n",
        "$$x_1^2,\\,\\, x_1 x_2,\\,\\, x_2^2,\\,\\, x_1^3,\\,\\, x_1^2 x_2,\\,\\, x_1 x_2^2,\\,\\, x_2^3$$\n",
        "\n"
      ],
      "metadata": {
        "id": "3mVeYrv9wlRb"
      }
    },
    {
      "cell_type": "markdown",
      "source": [
        "## 4-4. 학습 곡선\n",
        "* 고차 다항 회귀 사용 시\n",
        "    * 선형 회귀에 비해 훨씬 더 많은 훈련 데이터에 맞추려 한다.\n",
        "![ScreenShot](https://formal.hknu.ac.kr/handson-ml2/slides/images/ch04/homl04-08.png)\n",
        "    "
      ],
      "metadata": {
        "id": "971wxRcJxfFP"
      }
    },
    {
      "cell_type": "markdown",
      "source": [
        "> 다항 회귀 모델의 차수에 따라 훈련된 모델이 훈련 세트에 과소 또는 과대 적합될 수 있다.\n"
      ],
      "metadata": {
        "id": "4RWIq0JL1tuf"
      }
    },
    {
      "cell_type": "markdown",
      "source": [
        "#### 교차 검증 vs. 학습 곡선\n",
        "* 교차 검증\n",
        "    * 과소적합: 훈련 세트와 교차 검증 점수 모두 낮은 경우\n",
        "    * 과대접합: 훈련 세트에 대한 검증은 우수하지만 교차 검증 점수가 낮은 경우\n",
        "* 학습 곡선 살피기\n",
        "    * **학습 곡선**: 훈련 세트와 검증 세트에 대한 모델 성능을 비교하는 그래프\n",
        "        * 훈련 세트와 검증 세트의 모델 성능을 훈련 세트 크기 (또는 훈련 반복)의 함수로 나타낸다\n",
        "        * 훈련 세트에서 크기가 다른 서브 세트를 만들어 모델을 여러 번 훈련\n",
        "    * 학습 곡선의 모양에 따라 과소적합/과대적합 판정 가능"
      ],
      "metadata": {
        "id": "4hOkGJcR2H3X"
      }
    },
    {
      "cell_type": "code",
      "source": [
        "# 훈련 데이터에서 모델의 학습 곡선을 그리는 함수 정의\n",
        "from sklearn.metrics import mean_squared_error\n",
        "from sklearn.model_selection import train_test_split\n",
        "\n",
        "def plot_learning_curves(model, X, y):\n",
        "    X_train, X_val, y_train, y_val = train_test_split(X, y, test_size=0.2, random_state=10)\n",
        "    train_errors, val_errors = [], []\n",
        "    for m in range(1, len(X_train)):\n",
        "        model.fit(X_train[:m], y_train[:m])\n",
        "        y_train_predict = model.predict(X_train[:m])\n",
        "        y_val_predict = model.predict(X_val)\n",
        "        train_errors.append(mean_squared_error(y_train[:m], y_train_predict))\n",
        "        val_errors.append(mean_squared_error(y_val, y_val_predict))\n",
        "    plt.plot(np.sqrt(train_errors), \"r-+\", linewidth=2, label=\"train\")\n",
        "    plt.plot(np.sqrt(val_errors), \"b-\", linewidth=3, label=\"validation\")\n",
        "    plt.legend(loc=\"upper right\", fontsize=14)\n",
        "    plt.xlabel(\"Training set size\", fontsize=14)\n",
        "    plt.ylabel(\"RMSE\", fontsize=14)"
      ],
      "metadata": {
        "id": "Uv_F7MxI3TjM"
      },
      "execution_count": 75,
      "outputs": []
    },
    {
      "cell_type": "code",
      "source": [
        "# 선형 모델에 대한 학습곡선\n",
        "lin_reg = LinearRegression()\n",
        "plot_learning_curves(lin_reg, X, y)\n",
        "plt.axis([0, 80, 0, 3])\n",
        "plt.show()"
      ],
      "metadata": {
        "colab": {
          "base_uri": "https://localhost:8080/",
          "height": 291
        },
        "id": "oZ-SP3as54eJ",
        "outputId": "6d5f6407-9c86-4f02-df43-0754bf22a573"
      },
      "execution_count": 76,
      "outputs": [
        {
          "output_type": "display_data",
          "data": {
            "text/plain": [
              "<Figure size 432x288 with 1 Axes>"
            ],
            "image/png": "[encoded data removed]"
          },
          "metadata": {
            "needs_background": "light"
          }
        }
      ]
    },
    {
      "cell_type": "code",
      "source": [
        "from sklearn.pipeline import Pipeline\n",
        "\n",
        "polynomial_regression = Pipeline([\n",
        "    (\"poly_features\", PolynomialFeatures(degree=10, include_bias=False)),\n",
        "    (\"lin_reg\", LinearRegression()),\n",
        "])\n",
        "\n",
        "plot_learning_curves(polynomial_regression, X, y)\n",
        "plt.axis([0, 80, 0, 3])\n",
        "plt.show()"
      ],
      "metadata": {
        "colab": {
          "base_uri": "https://localhost:8080/",
          "height": 291
        },
        "id": "76BrQJkv6ST1",
        "outputId": "c111d42f-ae4e-4b7e-9f43-d43763315619"
      },
      "execution_count": 77,
      "outputs": [
        {
          "output_type": "display_data",
          "data": {
            "text/plain": [
              "<Figure size 432x288 with 1 Axes>"
            ],
            "image/png": "[encoded data removed]"
          },
          "metadata": {
            "needs_background": "light"
          }
        }
      ]
    },
    {
      "cell_type": "markdown",
      "source": [
        "#### 학습 곡선 비교\n",
        "* 훈련 데이터의 오차가 선형 회귀 모델보다 훨씬 낮다\n",
        "* 두 곡선 사이에 공간이 있다\n",
        "    * 훈련 데이터에서의 모델 성능이 검증 데이터에서보다 훨씬 낫다\n",
        "    * 과대적합 모델의 특징\n",
        "    * 훈련세트의 크기가 커질수록 두 곡선이 점점 가까워진다.\n",
        "\n",
        "> 과대적합 모델을 개선하기 위해서는 훈련 오차에 근접할 때까지 더 많은 훈련 데이터를 추가한다"
      ],
      "metadata": {
        "id": "5_6rhJTg7CTS"
      }
    },
    {
      "cell_type": "markdown",
      "source": [
        "### 편향/분산 트레이드 오프\n",
        "* 모델의 일반화 오차는 세 가지 다른 종류의 오차의 합으로 표현\n",
        "* **편향**\n",
        "    * 잘못된 가정으로 나온 오차\n",
        "    * 편향이 큰 모델은 훈련 데이터에 과소적합되기 쉽다\n",
        "* **분산**\n",
        "    * 훈련 데이터에 있는 작은 변동에 모델이 과도하게 민감하기 때문에 발생\n",
        "    * 자유도가 높은 모델(고차 다항 회귀 모델)이 높은 분산을 갖기 쉬워 과대적합된다.\n",
        "* **줄일 수 없는 오차**\n",
        "    * 데이터 자체의 잡음\n",
        "    * 데이터에서 잡음을 제거한다.\n",
        "        * 센서 같은 데이터 소스를 고친다\n",
        "        * 이상치를 감지해 제거\n",
        "\n",
        "> 모델의 복잡도가 커지면 분산이 늘어나고 편향이 줄어든다. 반대로 모델의 복잡도가 줄어들면 편향이 커지고 분산이 작아진다. (**트레이드오프**)"
      ],
      "metadata": {
        "id": "XNxBqq167lzn"
      }
    },
    {
      "cell_type": "markdown",
      "source": [
        "## 4-5. 규제 선형 모델\n",
        "* 과대적합을 감소시키는 방법: **모델 규제**\n",
        "* **자유도**(degree of freedom): 학습 모델 결정에 영향을 주는 요소(특성)들의 수\n",
        "    * 단순 선형 회귀의 경우: 특성 수\n",
        "    * 다항 선형 회귀의 경우: 차수\n",
        "* **규제**(regularization): 자유도 제한\n",
        "    * 단순 선형 회귀 모델에 대한 규제: 가중치 역할 제한\n",
        "    * 다항 선형 회귀 모델에 대한 규제: 차수 줄이기\n",
        "* 가중치 역할 규제 선형 회귀 모델\n",
        "    * 릿지 회귀\n",
        "    * 라쏘 회귀\n",
        "    * 엘라스틱넷\n",
        "* 규제 적용 주의사항\n",
        "    * 규제항은 훈련 과정에만 사용된다.\n",
        "    * 테스트 과정에는 다른 기준으로 성능을 평가한다.\n",
        "        * 훈련과정: 비용 최소화 목표\n",
        "        * 테스트과정: 최종 목표에 따른 성능 평가\n"
      ],
      "metadata": {
        "id": "PA_rJT8K9LUq"
      }
    },
    {
      "cell_type": "markdown",
      "source": [
        "### 4-5-1. 릿지 회귀 (Ridge)\n",
        "* 티호노프 규제 (Tikhonov)\n",
        "* 규제가 추가된 선형 회귀 버전\n",
        "* 가중치 제곱의 합이 특정 값 이하가 되도록 규제\n",
        "* 규제항이 비용함수에 추가된다.\n",
        "$$J(\\theta) = \\textrm{MSE}(\\theta) + \\alpha \\, \\frac{1}{2} \\sum_{i=1}^{n}\\theta_i^2$$\n",
        "    * $α$(알파): 규제 강도를 지정하는 하이퍼파라미터\n",
        "    * $α = 0$: 단순 선형 회귀\n",
        "    * $α$가 커질수록 가중치의 역할이 줄어듦\n",
        "        * 비용을 줄이기 위해 가중치를 작게 유지하는 방향으로 학습\n",
        "    * 주의사항: 훈련 세트에 대한 특성 스케일링 전처리 실행 후 적용\n",
        "* 모델의 가중치가 가능한 한 작게 유지되도록 한다.\n"
      ],
      "metadata": {
        "id": "4pSlwESA-J6O"
      }
    },
    {
      "cell_type": "code",
      "source": [
        "np.random.seed(42)\n",
        "m = 20\n",
        "X = 3 * np.random.rand(m, 1)\n",
        "y = 1 + 0.5 * X * np.random.randn(m, 1) / 1.5\n",
        "X_new = np.linspace(0, 3, 100).reshape(100, 1)"
      ],
      "metadata": {
        "id": "EJ5QWQrrAaOR"
      },
      "execution_count": 78,
      "outputs": []
    },
    {
      "cell_type": "code",
      "source": [
        "from sklearn.linear_model import Ridge\n",
        "ridge_reg = Ridge(alpha=1, solver=\"cholesky\", random_state=42)\n",
        "ridge_reg.fit(X, y)\n",
        "ridge_reg.predict([[1.5]])"
      ],
      "metadata": {
        "colab": {
          "base_uri": "https://localhost:8080/"
        },
        "id": "dvwQx3VAAoGj",
        "outputId": "d330c279-e45a-474d-8673-a7bdf7bf3ec0"
      },
      "execution_count": 79,
      "outputs": [
        {
          "output_type": "execute_result",
          "data": {
            "text/plain": [
              "array([[0.81231746]])"
            ]
          },
          "metadata": {},
          "execution_count": 79
        }
      ]
    },
    {
      "cell_type": "code",
      "source": [
        "ridge_reg = Ridge(alpha=1, solver=\"sag\", random_state=42)\n",
        "ridge_reg.fit(X, y)\n",
        "ridge_reg.predict([[1.5]])"
      ],
      "metadata": {
        "colab": {
          "base_uri": "https://localhost:8080/"
        },
        "id": "2I0f20TyA07B",
        "outputId": "2e677ea1-7990-4ea0-ee6f-2f7d2ee41214"
      },
      "execution_count": 80,
      "outputs": [
        {
          "output_type": "execute_result",
          "data": {
            "text/plain": [
              "array([[0.81231657]])"
            ]
          },
          "metadata": {},
          "execution_count": 80
        }
      ]
    },
    {
      "cell_type": "code",
      "source": [
        "from sklearn.linear_model import Ridge\n",
        "from sklearn.preprocessing import StandardScaler\n",
        "\n",
        "def plot_model(model_class, polynomial, alphas, **model_kargs):\n",
        "    for alpha, style in zip(alphas, (\"b-\", \"g--\", \"r:\")):\n",
        "        model = model_class(alpha, **model_kargs) if alpha > 0 else LinearRegression()\n",
        "        if polynomial:\n",
        "            model = Pipeline([\n",
        "                    (\"poly_features\", PolynomialFeatures(degree=10, include_bias=False)),\n",
        "                    (\"std_scaler\", StandardScaler()),\n",
        "                    (\"regul_reg\", model),\n",
        "                ])\n",
        "        model.fit(X, y)\n",
        "        y_new_regul = model.predict(X_new)\n",
        "        lw = 2 if alpha > 0 else 1\n",
        "        plt.plot(X_new, y_new_regul, style, linewidth=lw, label=r\"$\\alpha = {}$\".format(alpha))\n",
        "    plt.plot(X, y, \"b.\", linewidth=3)\n",
        "    plt.legend(loc=\"upper left\", fontsize=15)\n",
        "    plt.xlabel(\"$x_1$\", fontsize=18)\n",
        "    plt.axis([0, 3, 0, 4])\n",
        "\n",
        "plt.figure(figsize=(8,4))\n",
        "plt.subplot(121)\n",
        "plot_model(Ridge, polynomial=False, alphas=(0, 10, 100), random_state=42)\n",
        "plt.ylabel(\"$y$\", rotation=0, fontsize=18)\n",
        "plt.subplot(122)\n",
        "plot_model(Ridge, polynomial=True, alphas=(0, 10**-5, 1), random_state=42)\n",
        "\n",
        "plt.show()"
      ],
      "metadata": {
        "colab": {
          "base_uri": "https://localhost:8080/",
          "height": 295
        },
        "id": "maD7mfucBHdH",
        "outputId": "b7a82219-8609-451f-b768-7c606d5e5f9f"
      },
      "execution_count": 81,
      "outputs": [
        {
          "output_type": "display_data",
          "data": {
            "text/plain": [
              "<Figure size 576x288 with 2 Axes>"
            ],
            "image/png": "[encoded data removed]"
          },
          "metadata": {
            "needs_background": "light"
          }
        }
      ]
    },
    {
      "cell_type": "code",
      "source": [
        "sgd_reg = SGDRegressor(penalty=\"l2\")    # 벡터의 노름의 제곱을 2로 나눈 규제항 추가가\n",
        "sgd_reg.fit(X, y.ravel())\n",
        "sgd_reg.predict([[1.5]])"
      ],
      "metadata": {
        "colab": {
          "base_uri": "https://localhost:8080/"
        },
        "id": "XkF7MmxJk4Jr",
        "outputId": "10026ba5-aaba-4824-f507-7f1a662416d0"
      },
      "execution_count": 82,
      "outputs": [
        {
          "output_type": "execute_result",
          "data": {
            "text/plain": [
              "array([0.71880698])"
            ]
          },
          "metadata": {},
          "execution_count": 82
        }
      ]
    },
    {
      "cell_type": "markdown",
      "source": [
        "### 4-5-2. 라쏘 회귀"
      ],
      "metadata": {
        "id": "QSBAMis8lnoZ"
      }
    },
    {
      "cell_type": "markdown",
      "source": [
        "* 릿지 회귀처럼 비용 함수에 규제항을 더함\n",
        "    * 가중치 벡터의 $l_1$ 노름을 사용\n",
        "$$J(\\theta) = \\textrm{MSE}(\\theta) + \\alpha \\, \\sum_{i=1}^{n}\\mid\\theta_i\\mid$$\n",
        "    * $\\alpha$\n",
        "        * 하이퍼파라미터로 지정\n",
        "        * 규제 강도 지정\n",
        "        * $\\alpha = 0$이면 규제가 전혀 없는 기본 선형 회귀\n",
        "    * $\\theta_i$: 덜 중요한 특성을 무시하기 위해 $|\\theta_i|$가 0에 수렴하도록 학습 유도\n",
        "    * $\\theta_0$는 규제하지 않음\n",
        "* 덜 중요한 특성의 가중치를 제거하려고 한다.\n",
        "* 가중치의 절대값의 합이 특정 값 이하가 되도록 규제\n",
        "* 자동으로 특성 선택을 하고 **희소 모델**(sparse model)을 생성"
      ],
      "metadata": {
        "id": "vq-7sUv9lwSa"
      }
    },
    {
      "cell_type": "code",
      "source": [
        "from sklearn.linear_model import Lasso\n",
        "\n",
        "plt.figure(figsize=(8,4))\n",
        "plt.subplot(121)\n",
        "plot_model(Lasso, polynomial=False, alphas=(0, 0.1, 1), random_state=42)\n",
        "plt.ylabel(\"$y$\", rotation=0, fontsize=18)\n",
        "plt.subplot(122)\n",
        "plot_model(Lasso, polynomial=True, alphas=(0, 10**-7, 1), random_state=42)\n",
        "\n",
        "plt.show()"
      ],
      "metadata": {
        "colab": {
          "base_uri": "https://localhost:8080/",
          "height": 352
        },
        "id": "4Fpi6QeBtcoW",
        "outputId": "a5614752-ff6e-4363-c770-4429ba4474e8"
      },
      "execution_count": 84,
      "outputs": [
        {
          "output_type": "stream",
          "name": "stderr",
          "text": [
            "/usr/local/lib/python3.7/dist-packages/sklearn/linear_model/_coordinate_descent.py:648: ConvergenceWarning: Objective did not converge. You might want to increase the number of iterations, check the scale of the features or consider increasing regularisation. Duality gap: 9.174e-01, tolerance: 3.568e-04\n",
            "  coef_, l1_reg, l2_reg, X, y, max_iter, tol, rng, random, positive\n"
          ]
        },
        {
          "output_type": "display_data",
          "data": {
            "text/plain": [
              "<Figure size 576x288 with 2 Axes>"
            ],
            "image/png": "[encoded data removed]"
          },
          "metadata": {
            "needs_background": "light"
          }
        }
      ]
    },
    {
      "cell_type": "code",
      "source": [
        "from sklearn.linear_model import Lasso\n",
        "lasso_reg = Lasso(alpha=0.1)\n",
        "lasso_reg.fit(X, y)\n",
        "lasso_reg.predict([[1.5]])"
      ],
      "metadata": {
        "id": "HpMXeKGD4ScC",
        "colab": {
          "base_uri": "https://localhost:8080/"
        },
        "outputId": "f7fe38c0-2b11-4d8f-f98a-01b10c754694"
      },
      "execution_count": 85,
      "outputs": [
        {
          "output_type": "execute_result",
          "data": {
            "text/plain": [
              "array([0.82698362])"
            ]
          },
          "metadata": {},
          "execution_count": 85
        }
      ]
    },
    {
      "cell_type": "markdown",
      "source": [
        "### 4-5-3. 엘라스틱넷\n",
        "* 릿지 회귀와 라쏘 회귀를 절충한 모델\n",
        "$$J(\\theta) = \\textrm{MSE}(\\theta) + r\\, \\alpha \\, \\sum_{i=1}^{n}\\mid\\theta_i\\mid + \\,\\frac{1-r}{2}\\, \\alpha\\, \\sum_{i=1}^{n}\\theta_i^2$$\n",
        "    * $r$을 이용하여 릿지 규제와 라쏘 규제를 적절하게 조절\n",
        "        * $r$: 혼합비율\n",
        "        * $r=0$: 릿지 회귀\n",
        "        * $r=1$: 라쏘 회귀"
      ],
      "metadata": {
        "id": "O9aQNFK35aQL"
      }
    },
    {
      "cell_type": "code",
      "source": [
        "from sklearn.linear_model import ElasticNet\n",
        "elastic_net = ElasticNet(alpha=0.1, l1_ratio=0.5, random_state=42)\n",
        "elastic_net.fit(X, y)\n",
        "elastic_net.predict([[1.5]])"
      ],
      "metadata": {
        "colab": {
          "base_uri": "https://localhost:8080/"
        },
        "id": "x_IHaXQ06C6u",
        "outputId": "1b42a765-6223-423c-afb5-463ebc4238ba"
      },
      "execution_count": 86,
      "outputs": [
        {
          "output_type": "execute_result",
          "data": {
            "text/plain": [
              "array([0.81969978])"
            ]
          },
          "metadata": {},
          "execution_count": 86
        }
      ]
    },
    {
      "cell_type": "markdown",
      "source": [
        "#### 규제의 사용 방법\n",
        "* 대부분의 경우 약간이라도 규제 사용 추천\n",
        "* 릿지 규제가 기본\n",
        "* 유용한 속성이 많지 않다고 판단되는 경우\n",
        "    * 라쏘 규제나 엘라스틱넷 활용\n",
        "    * 불필요한 속성의 가중치를 0으로 만들기 때문\n",
        "* 특성 수가 훈련 샘플 수보다 크거나 특성 몇 개가 강하게 연관되어 있는 경우\n",
        "    * 라쏘 규제는 적절하지 않음\n",
        "    * 엘라스틱넷 활용"
      ],
      "metadata": {
        "id": "9IjeuLnM6S42"
      }
    },
    {
      "cell_type": "markdown",
      "source": [
        "### 4-5-4. 조기 종료\n",
        "* **조기 종료**: 검증 에러가 최솟값에 도달하면 바로 훈련을 중지시키는 것\n",
        "* 반복 훈련 과정 중에 모델이 훈련 데이터에 점점 더 익숙해져서 과대적합 발생 가능\n",
        "* 반복 훈련을 적절한 시기에 종료\n",
        "* 반복훈련 종료 기준: 검증 데이터에 대한 손실이 줄어 들다가 다시 커지는 순간\n",
        "* 매우 효과적이고 간단한 규제\n"
      ],
      "metadata": {
        "id": "KPZENfJA6njl"
      }
    },
    {
      "cell_type": "code",
      "source": [
        "np.random.seed(42)\n",
        "m=100\n",
        "X = 6 * np.random.rand(m, 1) - 3\n",
        "y = 2 + X + 0.5 * X**2 + np.random.randn(m,1)\n",
        "\n",
        "X_train, X_val, y_train, y_val = train_test_split(X[:50], y[:50].ravel(), test_size=0.5, random_state=10)"
      ],
      "metadata": {
        "id": "T6XSvaMv7Kbu"
      },
      "execution_count": 87,
      "outputs": []
    },
    {
      "cell_type": "code",
      "source": [
        "from copy import deepcopy\n",
        "\n",
        "poly_scaler = Pipeline([\n",
        "        (\"poly_features\", PolynomialFeatures(degree=90, include_bias=False)),\n",
        "        (\"std_scaler\", StandardScaler())\n",
        "    ])\n",
        "\n",
        "X_train_poly_scaled = poly_scaler.fit_transform(X_train)\n",
        "X_val_poly_scaled = poly_scaler.transform(X_val)\n",
        "\n",
        "sgd_reg = SGDRegressor(max_iter=1, tol=-np.infty, warm_start=True,\n",
        "                       penalty=None, learning_rate=\"constant\", eta0=0.0005, random_state=42)\n",
        "\n",
        "minimum_val_error = float(\"inf\")\n",
        "best_epoch = None\n",
        "best_model = None\n",
        "for epoch in range(1000):\n",
        "    sgd_reg.fit(X_train_poly_scaled, y_train)  # 중지된 곳에서 다시 시작합니다\n",
        "    y_val_predict = sgd_reg.predict(X_val_poly_scaled)\n",
        "    val_error = mean_squared_error(y_val, y_val_predict)\n",
        "    if val_error < minimum_val_error:\n",
        "        minimum_val_error = val_error\n",
        "        best_epoch = epoch\n",
        "        best_model = deepcopy(sgd_reg)"
      ],
      "metadata": {
        "id": "vDAZQrXJ7fyG"
      },
      "execution_count": 89,
      "outputs": []
    },
    {
      "cell_type": "code",
      "source": [
        "sgd_reg = SGDRegressor(max_iter=1, tol=-np.infty, warm_start=True,\n",
        "                       penalty=None, learning_rate=\"constant\", eta0=0.0005, random_state=42)\n",
        "\n",
        "n_epochs = 500\n",
        "train_errors, val_errors = [], []\n",
        "for epoch in range(n_epochs):\n",
        "    sgd_reg.fit(X_train_poly_scaled, y_train)\n",
        "    y_train_predict = sgd_reg.predict(X_train_poly_scaled)\n",
        "    y_val_predict = sgd_reg.predict(X_val_poly_scaled)\n",
        "    train_errors.append(mean_squared_error(y_train, y_train_predict))\n",
        "    val_errors.append(mean_squared_error(y_val, y_val_predict))\n",
        "\n",
        "best_epoch = np.argmin(val_errors)\n",
        "best_val_rmse = np.sqrt(val_errors[best_epoch])\n",
        "\n",
        "plt.annotate('Best model',\n",
        "             xy=(best_epoch, best_val_rmse),\n",
        "             xytext=(best_epoch, best_val_rmse + 1),\n",
        "             ha=\"center\",\n",
        "             arrowprops=dict(facecolor='black', shrink=0.05),\n",
        "             fontsize=16,\n",
        "            )\n",
        "\n",
        "best_val_rmse -= 0.03  # just to make the graph look better\n",
        "plt.plot([0, n_epochs], [best_val_rmse, best_val_rmse], \"k:\", linewidth=2)\n",
        "plt.plot(np.sqrt(val_errors), \"b-\", linewidth=3, label=\"Validation set\")\n",
        "plt.plot(np.sqrt(train_errors), \"r--\", linewidth=2, label=\"Training set\")\n",
        "plt.legend(loc=\"upper right\", fontsize=14)\n",
        "plt.xlabel(\"Epoch\", fontsize=14)\n",
        "plt.ylabel(\"RMSE\", fontsize=14)\n",
        "\n",
        "plt.show()"
      ],
      "metadata": {
        "colab": {
          "base_uri": "https://localhost:8080/",
          "height": 286
        },
        "id": "0E-23GO98h1a",
        "outputId": "38539b5a-d7e3-4fbf-ffbc-56f21657eae1"
      },
      "execution_count": 91,
      "outputs": [
        {
          "output_type": "display_data",
          "data": {
            "text/plain": [
              "<Figure size 432x288 with 1 Axes>"
            ],
            "image/png": "[encoded data removed]"
          },
          "metadata": {
            "needs_background": "light"
          }
        }
      ]
    },
    {
      "cell_type": "code",
      "source": [
        "best_epoch, best_model"
      ],
      "metadata": {
        "colab": {
          "base_uri": "https://localhost:8080/"
        },
        "id": "ycYQe7QF8qix",
        "outputId": "d7550182-4458-4937-be11-08d7b5510dfa"
      },
      "execution_count": 92,
      "outputs": [
        {
          "output_type": "execute_result",
          "data": {
            "text/plain": [
              "(239,\n",
              " SGDRegressor(eta0=0.0005, learning_rate='constant', max_iter=1, penalty=None,\n",
              "              random_state=42, tol=-inf, warm_start=True))"
            ]
          },
          "metadata": {},
          "execution_count": 92
        }
      ]
    },
    {
      "cell_type": "markdown",
      "source": [
        "* 확률적 경사 하강법, 미니배치 경사 하가법의 경우 손실 곡선이 매끄럽지 않고 진동 발생\n",
        "    * 검증 오차가 한동안 최솟값보다 높게 유지될 때 반복 훈련을 멈추고 검증 오차가 최소였을 때의 모델 파라미터 확인"
      ],
      "metadata": {
        "id": "-YO8bRlV9Atf"
      }
    },
    {
      "cell_type": "markdown",
      "source": [
        "## 4-6. 로지스틱 회귀 (Logistic regression)\n",
        "* 로지스틱 회귀와 소프트맥스 회귀를 이용하여 분류 모델 학습\n",
        "    * 이진 분류: 로지스틱 회귀\n",
        "    * 다중 클래스 분류: 소프트 맥스 회귀 사용\n",
        "\n"
      ],
      "metadata": {
        "id": "dHfnqtVr9pib"
      }
    },
    {
      "cell_type": "markdown",
      "source": [
        "### 4-6-1. 확률 추정\n",
        "* 특성과 가중치의 곱한 값들을 더한 결과에 **시그모이드 함수**를 적용한 결과 이용\n",
        "* 로지스틱 회귀 모델에서 샘플 $x$에 대한 예측값\n",
        "$$\\hat p = h_\\theta (\\mathbf x) = \\sigma(\\theta^T \\, \\mathbf{x}_b^T)$$\n",
        "* **시그모이드 함수**\n",
        "$$\\sigma(t) = \\frac{1}{1 + e^{-t}}$$\n",
        "![ScreenShot](https://formal.hknu.ac.kr/handson-ml2/slides/images/ch04/homl04-12.png)\n",
        "* 로지스틱 회귀 모델의 예측값\n",
        "$$\\hat y = \n",
        "\\begin{cases}\n",
        "0 & \\text{if}\\,\\, \\hat p < 0.5 \\\\\n",
        "1 & \\text{if}\\,\\, \\hat p \\ge 0.5\n",
        "\\end{cases}$$\n",
        "    * $\\theta^T \\, \\mathbf{x}_b^T \\ge 0$: 양성 클래스(1)\n",
        "    * $\\theta^T \\, \\mathbf{x}_b^T < 0$: 음성 클래스(0)\n"
      ],
      "metadata": {
        "id": "JvEu66jc_USv"
      }
    },
    {
      "cell_type": "markdown",
      "source": [
        "### 4-6-2. 훈련과 비용함수\n",
        "* 로지스틱 회귀 모델을 경사하강법을 이용하여 학습\n",
        "* 비용함수: 로그 손실(log loss)함수 사용\n",
        "$$J(\\theta) = \n",
        "- \\frac{1}{m}\\, \\sum_{i=0}^{m-1}\\, [y^{(i)}\\, \\log(\\,\\hat p^{(i)}\\,) + (1-y^{(i)})\\, \\log(\\,1 - \\hat p^{(i)}\\,)]$$\n",
        "* 이 비용함수에 대해 경사 하강법 적용\n",
        "* 로그 손실 함수: 하나의 샘프에 대한 아래의 값의 의미 이해 중요\n",
        "$$- [y^{(i)}\\, \\log(\\,\\hat p^{(i)}\\,) + (1-y^{(i)})\\, \\log(\\,1 - \\hat p^{(i)}\\,)]$$\n",
        "* 틀린 예측을 하면 값이 커짐\n"
      ],
      "metadata": {
        "id": "TWiSQ4_b-mLU"
      }
    },
    {
      "cell_type": "markdown",
      "source": [
        "### 4-6-3. 결정 경계\n",
        "* 사이킷런에서 제공하는 붓꽃 데이터셋 활용\n",
        "    * 4개의 특성 사용\n",
        "        * 꽃받침 길이\n",
        "        * 꽃받침 너비\n",
        "        * 꽃잎 길이\n",
        "        * 꽃잎 너비\n",
        "    * 샘플 타깃\n",
        "        * 0: Iris-Setosa\n",
        "        * 1: Iris-Versicolor\n",
        "        * 2: Iris-Virginica"
      ],
      "metadata": {
        "id": "Hau45wPXKh9T"
      }
    },
    {
      "cell_type": "code",
      "source": [
        "from sklearn import datasets\n",
        "iris = datasets.load_iris()\n",
        "list(iris.keys())"
      ],
      "metadata": {
        "colab": {
          "base_uri": "https://localhost:8080/"
        },
        "id": "tPr8t83OK-Ce",
        "outputId": "3d455c8a-f02f-4ae4-8490-a328404df35e"
      },
      "execution_count": 93,
      "outputs": [
        {
          "output_type": "execute_result",
          "data": {
            "text/plain": [
              "['data',\n",
              " 'target',\n",
              " 'frame',\n",
              " 'target_names',\n",
              " 'DESCR',\n",
              " 'feature_names',\n",
              " 'filename',\n",
              " 'data_module']"
            ]
          },
          "metadata": {},
          "execution_count": 93
        }
      ]
    },
    {
      "cell_type": "code",
      "source": [
        "print(iris.DESCR)"
      ],
      "metadata": {
        "colab": {
          "base_uri": "https://localhost:8080/"
        },
        "id": "9YoHVYcMLMR_",
        "outputId": "995cf291-1fac-4299-c456-9149c0ccf46e"
      },
      "execution_count": 94,
      "outputs": [
        {
          "output_type": "stream",
          "name": "stdout",
          "text": [
            ".. _iris_dataset:\n",
            "\n",
            "Iris plants dataset\n",
            "--------------------\n",
            "\n",
            "**Data Set Characteristics:**\n",
            "\n",
            "    :Number of Instances: 150 (50 in each of three classes)\n",
            "    :Number of Attributes: 4 numeric, predictive attributes and the class\n",
            "    :Attribute Information:\n",
            "        - sepal length in cm\n",
            "        - sepal width in cm\n",
            "        - petal length in cm\n",
            "        - petal width in cm\n",
            "        - class:\n",
            "                - Iris-Setosa\n",
            "                - Iris-Versicolour\n",
            "                - Iris-Virginica\n",
            "                \n",
            "    :Summary Statistics:\n",
            "\n",
            "    ============== ==== ==== ======= ===== ====================\n",
            "                    Min  Max   Mean    SD   Class Correlation\n",
            "    ============== ==== ==== ======= ===== ====================\n",
            "    sepal length:   4.3  7.9   5.84   0.83    0.7826\n",
            "    sepal width:    2.0  4.4   3.05   0.43   -0.4194\n",
            "    petal length:   1.0  6.9   3.76   1.76    0.9490  (high!)\n",
            "    petal width:    0.1  2.5   1.20   0.76    0.9565  (high!)\n",
            "    ============== ==== ==== ======= ===== ====================\n",
            "\n",
            "    :Missing Attribute Values: None\n",
            "    :Class Distribution: 33.3% for each of 3 classes.\n",
            "    :Creator: R.A. Fisher\n",
            "    :Donor: Michael Marshall (MARSHALL%PLU@io.arc.nasa.gov)\n",
            "    :Date: July, 1988\n",
            "\n",
            "The famous Iris database, first used by Sir R.A. Fisher. The dataset is taken\n",
            "from Fisher's paper. Note that it's the same as in R, but not as in the UCI\n",
            "Machine Learning Repository, which has two wrong data points.\n",
            "\n",
            "This is perhaps the best known database to be found in the\n",
            "pattern recognition literature.  Fisher's paper is a classic in the field and\n",
            "is referenced frequently to this day.  (See Duda & Hart, for example.)  The\n",
            "data set contains 3 classes of 50 instances each, where each class refers to a\n",
            "type of iris plant.  One class is linearly separable from the other 2; the\n",
            "latter are NOT linearly separable from each other.\n",
            "\n",
            ".. topic:: References\n",
            "\n",
            "   - Fisher, R.A. \"The use of multiple measurements in taxonomic problems\"\n",
            "     Annual Eugenics, 7, Part II, 179-188 (1936); also in \"Contributions to\n",
            "     Mathematical Statistics\" (John Wiley, NY, 1950).\n",
            "   - Duda, R.O., & Hart, P.E. (1973) Pattern Classification and Scene Analysis.\n",
            "     (Q327.D83) John Wiley & Sons.  ISBN 0-471-22361-1.  See page 218.\n",
            "   - Dasarathy, B.V. (1980) \"Nosing Around the Neighborhood: A New System\n",
            "     Structure and Classification Rule for Recognition in Partially Exposed\n",
            "     Environments\".  IEEE Transactions on Pattern Analysis and Machine\n",
            "     Intelligence, Vol. PAMI-2, No. 1, 67-71.\n",
            "   - Gates, G.W. (1972) \"The Reduced Nearest Neighbor Rule\".  IEEE Transactions\n",
            "     on Information Theory, May 1972, 431-433.\n",
            "   - See also: 1988 MLC Proceedings, 54-64.  Cheeseman et al\"s AUTOCLASS II\n",
            "     conceptual clustering system finds 3 classes in the data.\n",
            "   - Many, many more ...\n"
          ]
        }
      ]
    },
    {
      "cell_type": "code",
      "source": [
        "X = iris[\"data\"][:, 3:] # 꽃잎 너비\n",
        "y = (iris[\"target\"] == 2).astype(int)   # Iris virginica면 1 아니면 0"
      ],
      "metadata": {
        "id": "niA1j2EzLPEe"
      },
      "execution_count": 101,
      "outputs": []
    },
    {
      "cell_type": "code",
      "source": [
        "from sklearn.linear_model import LogisticRegression\n",
        "log_reg = LogisticRegression(solver=\"lbfgs\", random_state=42)\n",
        "log_reg.fit(X, y)"
      ],
      "metadata": {
        "colab": {
          "base_uri": "https://localhost:8080/"
        },
        "id": "3nJZqmn7LfgM",
        "outputId": "08e83212-1e7b-4663-aa45-db1f90197128"
      },
      "execution_count": 102,
      "outputs": [
        {
          "output_type": "execute_result",
          "data": {
            "text/plain": [
              "LogisticRegression(random_state=42)"
            ]
          },
          "metadata": {},
          "execution_count": 102
        }
      ]
    },
    {
      "cell_type": "code",
      "source": [
        "X_new = np.linspace(0, 3, 1000).reshape(-1, 1)\n",
        "y_proba = log_reg.predict_proba(X_new)\n",
        "\n",
        "plt.plot(X_new, y_proba[:, 1], \"g-\", linewidth=2, label=\"Iris virginica\")\n",
        "plt.plot(X_new, y_proba[:, 0], \"b--\", linewidth=2, label=\"Not Iris virginica\")"
      ],
      "metadata": {
        "colab": {
          "base_uri": "https://localhost:8080/",
          "height": 287
        },
        "id": "NoldonWQLruL",
        "outputId": "cec8a698-579b-4b54-fd62-a1f0d5fe5f45"
      },
      "execution_count": 103,
      "outputs": [
        {
          "output_type": "execute_result",
          "data": {
            "text/plain": [
              "[<matplotlib.lines.Line2D at 0x7fd96a811510>]"
            ]
          },
          "metadata": {},
          "execution_count": 103
        },
        {
          "output_type": "display_data",
          "data": {
            "text/plain": [
              "<Figure size 432x288 with 1 Axes>"
            ],
            "image/png": "[encoded data removed]"
          },
          "metadata": {
            "needs_background": "light"
          }
        }
      ]
    },
    {
      "cell_type": "code",
      "source": [
        "X_new = np.linspace(0, 3, 1000).reshape(-1, 1)\n",
        "y_proba = log_reg.predict_proba(X_new)\n",
        "decision_boundary = X_new[y_proba[:, 1] >= 0.5][0]\n",
        "\n",
        "plt.figure(figsize=(8, 3))\n",
        "plt.plot(X[y==0], y[y==0], \"bs\")\n",
        "plt.plot(X[y==1], y[y==1], \"g^\")\n",
        "plt.plot([decision_boundary, decision_boundary], [-1, 2], \"k:\", linewidth=2)\n",
        "plt.plot(X_new, y_proba[:, 1], \"g-\", linewidth=2, label=\"Iris virginica\")\n",
        "plt.plot(X_new, y_proba[:, 0], \"b--\", linewidth=2, label=\"Not Iris virginica\")\n",
        "plt.text(decision_boundary+0.02, 0.15, \"Decision  boundary\", fontsize=14, color=\"k\", ha=\"center\")\n",
        "plt.arrow(decision_boundary[0], 0.08, -0.3, 0, head_width=0.05, head_length=0.1, fc='b', ec='b')\n",
        "plt.arrow(decision_boundary[0], 0.92, 0.3, 0, head_width=0.05, head_length=0.1, fc='g', ec='g')\n",
        "plt.xlabel(\"Petal width (cm)\", fontsize=14)\n",
        "plt.ylabel(\"Probability\", fontsize=14)\n",
        "plt.legend(loc=\"center left\", fontsize=14)\n",
        "plt.axis([0, 3, -0.02, 1.02])\n",
        "\n",
        "plt.show()"
      ],
      "metadata": {
        "colab": {
          "base_uri": "https://localhost:8080/",
          "height": 234
        },
        "id": "_nfk-nDtMOKh",
        "outputId": "98c92c72-79c5-4b24-cf5f-3eb3ac49b926"
      },
      "execution_count": 105,
      "outputs": [
        {
          "output_type": "display_data",
          "data": {
            "text/plain": [
              "<Figure size 576x216 with 1 Axes>"
            ],
            "image/png": "[encoded data removed]"
          },
          "metadata": {
            "needs_background": "light"
          }
        }
      ]
    },
    {
      "cell_type": "code",
      "source": [
        "decision_boundary"
      ],
      "metadata": {
        "colab": {
          "base_uri": "https://localhost:8080/"
        },
        "id": "3BeE08HcMVYQ",
        "outputId": "d63ea743-9a71-41bc-9816-9a48978352b2"
      },
      "execution_count": 106,
      "outputs": [
        {
          "output_type": "execute_result",
          "data": {
            "text/plain": [
              "array([1.66066066])"
            ]
          },
          "metadata": {},
          "execution_count": 106
        }
      ]
    },
    {
      "cell_type": "code",
      "source": [
        "log_reg.predict([[1.7], [1.5]])"
      ],
      "metadata": {
        "colab": {
          "base_uri": "https://localhost:8080/"
        },
        "id": "AezLK4IIMZVA",
        "outputId": "fbf8813e-e0ed-4787-d3f1-e0e6e8d57c89"
      },
      "execution_count": 108,
      "outputs": [
        {
          "output_type": "execute_result",
          "data": {
            "text/plain": [
              "array([1, 0])"
            ]
          },
          "metadata": {},
          "execution_count": 108
        }
      ]
    },
    {
      "cell_type": "markdown",
      "source": [
        "#### 로지스틱 회귀 규제하기\n",
        "* 하이퍼파라미터 `penalty`와 `C`이용\n",
        "* `penalty`\n",
        "    * l1, l2, elasticnet 세 개중 하나 사용\n",
        "    * 기본은 l2\n",
        "    * elasticnet을 선택한 경우 l1_ration옵션 값을 지정해서 사용\n",
        "* `C`\n",
        "    * 릿지 규제 정도를 지정하는 $α$의 역수에 해당\n",
        "    * 0에 가까울수록 강한 규제"
      ],
      "metadata": {
        "id": "vpjwtXzrOPg1"
      }
    },
    {
      "cell_type": "markdown",
      "source": [
        "### 4-6-4. 소프트맥스 회귀\n",
        "* 로지스틱 회귀 모델을 일반화하여 다중 클래스 분류를 지원하도록 한 회귀 모델\n",
        "* **다항 로지스틱 회귀**라고도 불림\n"
      ],
      "metadata": {
        "id": "T2fA9by_MbdA"
      }
    },
    {
      "cell_type": "markdown",
      "source": [
        "#### 소프트맥스 회귀 학습 아이디어\n",
        "* 샘플 $x$이 주어졌을 때 각각의 분류 클래스 $k$에 대한 점수 $s_k(X)$계산\n",
        "$$s_k(\\mathbf x) = (\\theta^{(k)})^T\\, \\mathbf{x}_b^T$$\n",
        "* 소프트맥스 함수를 이용하여 각 클래스 $k$에 속할 확률 $\\hat{p}_k$를 계산\n",
        "$$\\hat p_k = \n",
        "\\frac{\\exp(s_k(\\mathbf x))}{\\sum_{j=0}^{K-1}\\exp(s_j(\\mathbf x))}$$\n",
        "* 추저 확률이 가장 높은 클래스 선택\n",
        "$$\\hat y = \n",
        "\\mathrm{argmax}_k s_k(\\mathbf x)$$"
      ],
      "metadata": {
        "id": "GAbQ7YdsPNDN"
      }
    },
    {
      "cell_type": "markdown",
      "source": [
        "* 소프트 맥스 회귀는 다중 출력 분류 지원 못함.\n",
        "    * 하나의 사진에서 여러 사람의 얼굴 인식 불가능능"
      ],
      "metadata": {
        "id": "OQx7xZBLPqbx"
      }
    },
    {
      "cell_type": "markdown",
      "source": [
        "#### 소프트맥스 회귀 비용함수\n",
        "* 각 분류 클래스 $k$에 대한 적절한 가중치 벡터 $\\theta_k$를 학습해 나가야 함\n",
        "* 비용함수: 크로스 엔트로피 비용함수 사용 \n",
        "$$J(\\Theta) = \n",
        "- \\frac{1}{m}\\, \\sum_{i=0}^{m-1}\\sum_{k=0}^{K-1} y^{(i)}_k\\, \\log(\\hat{p}_k^{(i)})$$\n",
        "* 이 비용함수에 대해 경사 하강법 적용\n",
        "    * $K = 2$이면 로지스틱 회귀의 로그 손실 함수와 일치\n",
        "    * 주어진 샘플의 타깃 클래스를 제대로 예측할 경우 높은 확률값 계산"
      ],
      "metadata": {
        "id": "sszP2gCoP1yR"
      }
    },
    {
      "cell_type": "markdown",
      "source": [
        "#### 멀티 클래스 분류: 소프트맥스 회귀 활용\n",
        "* 붓꼬을 세개의 클래스로 분류하기\n",
        "* 사이킷런의 LogisticRegression예측기 활용\n",
        "    * `multi_class`하이퍼파라미터 값을 `multinomial`로 지정\n",
        "* 꽃잎의 너비와 길이를 기준으로 붓꽃 클래스 분류\n",
        "    * 결정경계: 배경색으로 구분\n",
        "    * 곡선: Iris-Versicolor클래스에 속할 확률"
      ],
      "metadata": {
        "id": "0Q69IIWAQUjy"
      }
    },
    {
      "cell_type": "code",
      "source": [
        "X = iris[\"data\"][:, (2, 3)] # 꽃잎 길이, 꽃잎 너비\n",
        "y = iris[\"target\"]\n",
        "\n",
        "softmax_reg = LogisticRegression(multi_class=\"multinomial\", solver=\"lbfgs\", C=10, random_state=42)\n",
        "softmax_reg.fit(X, y)"
      ],
      "metadata": {
        "colab": {
          "base_uri": "https://localhost:8080/"
        },
        "id": "n1J3-2bjRttX",
        "outputId": "1ba8c107-5faf-4303-e4df-88165e3c5f80"
      },
      "execution_count": 109,
      "outputs": [
        {
          "output_type": "execute_result",
          "data": {
            "text/plain": [
              "LogisticRegression(C=10, multi_class='multinomial', random_state=42)"
            ]
          },
          "metadata": {},
          "execution_count": 109
        }
      ]
    },
    {
      "cell_type": "code",
      "source": [
        "x0, x1 = np.meshgrid(\n",
        "    np.linspace(0, 8, 500).reshape(-1, 1),\n",
        "    np.linspace(0, 3.5, 200).reshape(-1, 1),\n",
        ")\n",
        "X_new = np.c_[x0.ravel(), x1.ravel()]\n",
        "\n",
        "y_proba = softmax_reg.predict_proba(X_new)\n",
        "y_predict = softmax_reg.predict(X_new)\n",
        "\n",
        "zz1 = y_proba[:, 1].reshape(x0.shape)\n",
        "zz = y_predict.reshape(x0.shape)\n",
        "\n",
        "plt.figure(figsize=(10, 4))\n",
        "plt.plot(X[y==2, 0], X[y==2, 1], \"g^\", label=\"Iris virginica\")\n",
        "plt.plot(X[y==1, 0], X[y==1, 1], \"bs\", label=\"Iris versicolor\")\n",
        "plt.plot(X[y==0, 0], X[y==0, 1], \"yo\", label=\"Iris setosa\")\n",
        "\n",
        "from matplotlib.colors import ListedColormap\n",
        "custom_cmap = ListedColormap(['#fafab0','#9898ff','#a0faa0'])\n",
        "\n",
        "plt.contourf(x0, x1, zz, cmap=custom_cmap)\n",
        "contour = plt.contour(x0, x1, zz1, cmap=plt.cm.brg)\n",
        "plt.clabel(contour, inline=1, fontsize=12)\n",
        "plt.xlabel(\"Petal length\", fontsize=14)\n",
        "plt.ylabel(\"Petal width\", fontsize=14)\n",
        "plt.legend(loc=\"center left\", fontsize=14)\n",
        "plt.axis([0, 7, 0, 3.5])\n",
        "\n",
        "plt.show()"
      ],
      "metadata": {
        "colab": {
          "base_uri": "https://localhost:8080/",
          "height": 291
        },
        "id": "DSSE7LIvSFi_",
        "outputId": "18beecda-f2cb-4410-e2dd-2b63994c3763"
      },
      "execution_count": 112,
      "outputs": [
        {
          "output_type": "display_data",
          "data": {
            "text/plain": [
              "<Figure size 720x288 with 1 Axes>"
            ],
            "image/png": "[encoded data removed]"
          },
          "metadata": {
            "needs_background": "light"
          }
        }
      ]
    },
    {
      "cell_type": "code",
      "source": [
        "softmax_reg.predict([[5, 2]])"
      ],
      "metadata": {
        "colab": {
          "base_uri": "https://localhost:8080/"
        },
        "id": "UYjLVGMfTVTQ",
        "outputId": "fd8ac557-d16e-44c3-cf61-6449311b3b18"
      },
      "execution_count": 113,
      "outputs": [
        {
          "output_type": "execute_result",
          "data": {
            "text/plain": [
              "array([2])"
            ]
          },
          "metadata": {},
          "execution_count": 113
        }
      ]
    },
    {
      "cell_type": "code",
      "source": [
        "softmax_reg.predict_proba([[5, 2]]) # 꽃잎 길이 5, 너비 2인 클래스 94.2% Iris-Virginica"
      ],
      "metadata": {
        "colab": {
          "base_uri": "https://localhost:8080/"
        },
        "id": "pb0jPMhPTsqW",
        "outputId": "4adda6d0-2fff-4ac0-8466-9ecaf7ae2a50"
      },
      "execution_count": 116,
      "outputs": [
        {
          "output_type": "execute_result",
          "data": {
            "text/plain": [
              "array([[6.38014896e-07, 5.74929995e-02, 9.42506362e-01]])"
            ]
          },
          "metadata": {},
          "execution_count": 116
        }
      ]
    }
  ]
}