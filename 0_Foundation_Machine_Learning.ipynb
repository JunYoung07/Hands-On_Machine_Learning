{
  "nbformat": 4,
  "nbformat_minor": 0,
  "metadata": {
    "colab": {
      "provenance": [],
      "collapsed_sections": [],
      "authorship_tag": "ABX9TyPWVMbEA/s74WvE/YjNZeFK",
      "include_colab_link": true
    },
    "kernelspec": {
      "name": "python3",
      "display_name": "Python 3"
    },
    "language_info": {
      "name": "python"
    }
  },
  "cells": [
    {
      "cell_type": "markdown",
      "metadata": {
        "id": "view-in-github",
        "colab_type": "text"
      },
      "source": [
        "<a href=\"https://colab.research.google.com/github/JunYoung07/Hands-On_Machine_Learning/blob/main/0_Foundation_Machine_Learning.ipynb\" target=\"_parent\"><img src=\"https://colab.research.google.com/assets/colab-badge.svg\" alt=\"Open In Colab\"/></a>"
      ]
    },
    {
      "cell_type": "markdown",
      "source": [
        "# Chapter 1. 한눈에 보는 머신러닝"
      ],
      "metadata": {
        "id": "VN-iZ7QdGMTu"
      }
    },
    {
      "cell_type": "markdown",
      "source": [
        "## 1-1. 머신러닝이란"
      ],
      "metadata": {
        "id": "Hp-xIBONGWtJ"
      }
    },
    {
      "cell_type": "markdown",
      "source": [
        "*  명시적인 프로그래밍 없이 컴퓨터가 학습하는 능력을 갖추게 하는 연구 분야 \n",
        "*  데이터에서부터 학습하도록 컴퓨터를 프로그래밍하는 과학(또는 예술)  \n",
        " > 어떤 작업 T에 대한 컴퓨터 프로그램의 성능을 P로 측정했을 때 경험 E로 인해 성능이 향상됐다면, 이 컴퓨터 프로그램은 작업 T와 성능 측정 P에 대해 경험 E로 학습한 것. \n",
        "\n",
        "* **훈련 세트**(training set): 시스템이 학습하는 데 사용하는 샘플\n",
        "* **훈련 사례, 샘플**(training instance): 각 훈련 데이터\n",
        "* **훈련데이터**(training data): 위 사례의 경험 E\n",
        "* **정확도**(accuracy): 성능 측정 (분류 작업에 자주 사용)\n"
      ],
      "metadata": {
        "id": "KRg3b5rxHOoz"
      }
    },
    {
      "cell_type": "markdown",
      "source": [
        "## 1-2. 왜 머신러닝을 사용하는가?\n"
      ],
      "metadata": {
        "id": "XnO0_z0aHf66"
      }
    },
    {
      "cell_type": "markdown",
      "source": [
        "* 전통적인 프로그래밍 기법을 사용해 스팸필터 만들기\n",
        "    1. 스팸에 어떤 단어들이 주로 나타나는 지 살펴본다. (단어, 이름, 메일주소,,,)\n",
        "    2. 발견한 패턴을 감지하는 알고리즘 작성 후 패턴 발견 시 스팸으로 분류\n",
        "    3. 프로그램을 테스트하고 충분한 성능이 나올 때 까지 1단계와 2단계 반복"
      ],
      "metadata": {
        "id": "IlZqWX3fIsq2"
      }
    },
    {
      "cell_type": "markdown",
      "source": [
        "![ScreenShot](https://t1.daumcdn.net/cfile/tistory/9959C3405B3374CE30)"
      ],
      "metadata": {
        "id": "n975JToNNTNb"
      }
    },
    {
      "cell_type": "markdown",
      "source": [
        "* 머신러닝 기법에 기반을 둔 스팸 필터\n",
        "    * 스팸에 자주 나타나는 패턴을 감지하여 어떤 단어와 구절이 스팸 메일을 판단하는 데 좋은 기준인 지 자동으로 학습\n"
      ],
      "metadata": {
        "id": "i0Jr4QNzNt7C"
      }
    },
    {
      "cell_type": "markdown",
      "source": [
        "![ScreenShot](https://2482909075-files.gitbook.io/~/files/v0/b/gitbook-x-prod.appspot.com/o/spaces%2F-M6u_cUpNfA1vOaTcVSD%2Fuploads%2Fgit-blob-b57af7ec9025a24dc369fea076413fec262afe7b%2Fwhy-machine-learning_02.png?alt=media)"
      ],
      "metadata": {
        "id": "368m5yePOZgB"
      }
    },
    {
      "cell_type": "markdown",
      "source": [
        "![ScreenShot](https://2482909075-files.gitbook.io/~/files/v0/b/gitbook-x-prod.appspot.com/o/spaces%2F-M6u_cUpNfA1vOaTcVSD%2Fuploads%2Fgit-blob-99fa45b263e06e5535e056aeb7a178a4a78f4530%2Fwhy-machine-learning_03.png?alt=media)"
      ],
      "metadata": {
        "id": "9pt8SzUwOd_h"
      }
    },
    {
      "cell_type": "markdown",
      "source": [
        "> 머신러닝 기반의 경우 새로운 규칙을 추가할 필요 없이 자동으로 인식하고 분류해준다."
      ],
      "metadata": {
        "id": "9pd5fDQmPE7y"
      }
    },
    {
      "cell_type": "markdown",
      "source": [
        "* 머신러닝이 유용한 경우\n",
        "    * 기존 솔루션으로는 많은 수동 조정과 규칙이 필요한 문제\n",
        "    * 전통적인 방식으로는 해결 방법이 없는 복잡한 문제\n",
        "    * 유동적인 환경(머신러닝 시스템은 새로운 데이터에 적응할 수 있다.)\n",
        "    * 복잡한 문제와 대량의 데이터에서 통찰 얻기\n",
        "* **데이터 마이닝**: 머신러닝 기술을 적용하여 대용량의 데이터를 분석해 겉으로는 보이지 않던 패턴을 발견하는 작업"
      ],
      "metadata": {
        "id": "l6eKrQq_PO7S"
      }
    },
    {
      "cell_type": "markdown",
      "source": [
        "## 1-4. 머신러닝 시스템의 종류"
      ],
      "metadata": {
        "id": "9KmfB9Y0P4tO"
      }
    },
    {
      "cell_type": "markdown",
      "source": [
        "* 사람의 감독하에 훈련하는 것인지 그렇지 않은 것인지(지도, 비지도, 준지도, 강화 학습)\n",
        "* 실시간으로 점진적인 학습을 하는지 아닌지(온라인 학습과 배치 학습)\n",
        "* 단순하게 알고 있는 데이터 포인트와 새 데이터 포인트를 비교하는 것인지 아니면 과학자들이 하는 것처럼 훈련 데이터셋에서 패턴을 발견하여 예측 모델을 만드는지(사례 기반 학습과 모델 기반 학습)"
      ],
      "metadata": {
        "id": "jARkOO6BQpsM"
      }
    },
    {
      "cell_type": "markdown",
      "source": [
        "### 1-4-1. 지도학습과 비지도 학습\n",
        "> 학습하는 동안의 감독 형태나 정보량"
      ],
      "metadata": {
        "id": "8ta8chiqRt9D"
      }
    },
    {
      "cell_type": "markdown",
      "source": [
        "#### 지도학습 (Supervised learning)\n",
        "* 알고리즘에 주입하는 훈련 데이터에 레이블(label)이라는 원하는 답이 포함\n",
        "* 분류(Classification)가 전형적인 지도 학습 작업\n",
        "* 예측 변수(predictor value)라 부르는 특성(feature)를 사용해 타깃(target)수치를 예측하는 것 -> 회귀(Regression)\n",
        "    * 속성(attribute): 머신러닝의 데이터 타입 (주행거리)\n",
        "    * 특성(feature): 속성과 값이 합쳐진 것 (주행거리=1500)\n",
        "* 일부 회귀 알고리즘은 분류에 사용가능 (반대로도 가능)\n",
        "    * 로지스틱 회귀: 클래스에 속할 확률을 출력"
      ],
      "metadata": {
        "id": "aHxEawXtSZ4s"
      }
    },
    {
      "cell_type": "markdown",
      "source": [
        "* 중요한 지도학습 알고리즘\n",
        "    * k-최근접 이웃 (k-nearest neighbors)\n",
        "    * 선형 회귀 (linear regression)\n",
        "    * 로지스틱 회귀 (logistic regression)\n",
        "    * 서포트 벡터 머신 (support vector machine)\n",
        "    * 결정 트리 (decision tree)와 랜덤 포레스트 (random forest)\n",
        "    * 신경망 (neural networks)"
      ],
      "metadata": {
        "id": "_9pMDOARTl0b"
      }
    },
    {
      "cell_type": "markdown",
      "source": [
        "#### 비지도 학습 (unsupervised learning)\n",
        "* 훈련 데이터에 레이블이 없는 것\n",
        "* 시스템이 아무런 도움 없이 학습해야 한다."
      ],
      "metadata": {
        "id": "ie1INbhUUKSG"
      }
    },
    {
      "cell_type": "markdown",
      "source": [
        "* 중요한 비지도 학습 알고리즘\n",
        "    * 군집 (Clustering)\n",
        "        * k-평균 (k-means)\n",
        "        * DBSCAN\n",
        "        * 계층 군집 분석 (hierarchical cluster analysis)\n",
        "    * 이상치 탐지 (outlier detection)와 특이치 탐지 (novelty detection)\n",
        "        * 원-클래스 (one-class SVM)\n",
        "        * 아이솔레이션 포레스트 (isolation forest)\n",
        "    * 시각화 (visualization)와 차원 축소 (dimensionality reduction)\n",
        "        * 주성분 분석 (principal component analysis)\n",
        "        * 커널 (kernel)PCA\n",
        "        * 지역적 선형 임베딩 (locally-linear embedding)\n",
        "        * t-SNE (t-distributed stochastic neighbor embedding)\n",
        "    * 연관 규칙 학습 (association rule learning)\n",
        "        * 어프라이어리 (Apriori)\n",
        "        * 이클렛 (Eclat)"
      ],
      "metadata": {
        "id": "CIsZAR59UTvm"
      }
    },
    {
      "cell_type": "markdown",
      "source": [
        "#### 준지도 학습 (Semisupervised learning)\n",
        "* 데이터의 일부만 레이블이 있는 것\n",
        "* 대부분의 준지도 학습 알고리즘은 지도 학습과 비지도 학습의 조합으로 이루어짐\n",
        "    * 심층 신회 신경만 (deep belief network): 제하된 볼츠만 머신이라는 비지도 학습에 기초"
      ],
      "metadata": {
        "id": "Ak16MfviVc2Q"
      }
    },
    {
      "cell_type": "markdown",
      "source": [
        "#### 강화 학습 (Reinforcement learning)\n",
        "* **에이전트**: 학습하는 시스템\n",
        "* 환경(environment)을 관찰해서 행동(action)을 실행하고 결과로 **보상**(reward)혹은 **벌점**(penalty)을 받는 것\n",
        "* **정책**(policy): 시간이 지나면서 가장 큰 보상을 얻기 위한 최상의 전략"
      ],
      "metadata": {
        "id": "mVVnfTbmXcev"
      }
    },
    {
      "cell_type": "markdown",
      "source": [
        "![ScreeenShot](https://blog.kakaocdn.net/dn/efV5EL/btqCO1QgkC1/1p7K6JmbdcPsrckiHhtXKK/img.png)"
      ],
      "metadata": {
        "id": "hqenUHKsYUZK"
      }
    },
    {
      "cell_type": "markdown",
      "source": [
        "### 1-4-2. 배치학습과 온라인 학습\n",
        "> 입력 데이터의 스트림(stream)으로부터 점진적으로 학습할 수 있는 지"
      ],
      "metadata": {
        "id": "5yq1urkcYibC"
      }
    },
    {
      "cell_type": "markdown",
      "source": [
        "#### 배치 학습\n",
        "* 시스템이 점진적으로 학습할 수 없다\n",
        "* 가용한 데이터를 모두 사용해 훈련\n",
        "* 시간과 자원을 많이 소모하므로 보통 오프라인에서 수행\n",
        "* **오프라인 학습**(offline learning): 시스템을 훈련시킨 후 제품 시스템에 적용하면 더이상의 학습이 필요 없는 것"
      ],
      "metadata": {
        "id": "DTngPZ0xYvgg"
      }
    },
    {
      "cell_type": "markdown",
      "source": [
        "* 새로운 데이터를 학습한 경우\n",
        "    * 전체 데이터를 사용해 시스템의 새로운 버전을 처음부터 다시 훈련\n",
        "    * 이전 시스템을 중지시키고 새 시스템으로 교체\n"
      ],
      "metadata": {
        "id": "axkwMdcRZyEt"
      }
    },
    {
      "cell_type": "markdown",
      "source": [
        "#### 온라인 학습\n",
        "* 데이터를 순차적으로 한 개씩 혹은 미니배치(mini-batch)라 부르는 작은 묶음 단위로 주입하여 시스템 훈련\n",
        "* 학습 단계가 빠르고 비용이 적게 들어 시스템은 데이터가 도착하는 대로 즉시 학습할 수 있다.\n",
        "* 연속적으로 데이터를 받고 빠른 변화에 스스로 적응해야 하는 시스템에 적합\n",
        "* 학습이 끝난 데이터는 더는 필요하지 않으므로 버린다. (공간의 절약)"
      ],
      "metadata": {
        "id": "qemi8TgqaUix"
      }
    },
    {
      "cell_type": "markdown",
      "source": [
        "* **외부 메모리(out-of-core)** 학습: 컴퓨터 한 대의 메인 메모리에 들어갈 수 없는 아주 큰 데이터셋을 학습하는 시스템에도 온라인 학습 알고리즘 사용\n",
        "> 외부 에모리 학습은 보통 오프라인으로 실행 -> 온라인 학습이란 이름이 혼란을 주지만 **점진적 학슴**(incremental learning)이라고 생각한다."
      ],
      "metadata": {
        "id": "QO603ypMHuY4"
      }
    },
    {
      "cell_type": "markdown",
      "source": [
        "* **학습률**(learning rate): 변화하는 데이터에 얼마나 빠르게 적응할 것인 지\n",
        "    * 학습률이 높은 경우 시스템이 데이터에 바르게 적응하지만 예전 데이터를 금방 잊어버린다.\n",
        "    * 학습률이 낮은 경우 시스템의 관성이 더 커져서 더 느리게 학습 된다. 새로운 데이터에 있는 잡음이나 대표성 없는 데이터 포인트에 덜 민감하다.\n",
        "    "
      ],
      "metadata": {
        "id": "VIbHjpZOIRpW"
      }
    },
    {
      "cell_type": "markdown",
      "source": [
        "* 온라인 학습의 문제점\n",
        "    * 나쁜 데이터가 주입 되었을 때 시스템 성능이 점진적으로 감소"
      ],
      "metadata": {
        "id": "znhuH0TBIp5u"
      }
    },
    {
      "cell_type": "markdown",
      "source": [
        "### 1-4-3. 사례 기반 학습과 모델 기반 학습\n",
        "> 어떻게 **일반화**(generalize)되는가에 따라 분류\n",
        "* 일반화: 훈련 데이터로 학습하고 훈련 데이터에서는 본 적이 없는 **새로운 데이터에서 좋은 예측**을 만드는 것"
      ],
      "metadata": {
        "id": "bZ_LxrBiIv4G"
      }
    },
    {
      "cell_type": "markdown",
      "source": [
        "#### 사례 기반 학습 (instance-based learning)\n",
        "* 시스템이 훈련 샘플을 기억함으로써 학습하는 것\n",
        "* 유사도(similarity)를 측정(measure)해 새로운 데이터와 학습한 샘플을 비교하는 방식으로 일반화\n",
        "    * 새로운 샘플은 가장 비슷한 샘플 중 다수가 삼각형이므로 삼각형 클래스로 분류\n"
      ],
      "metadata": {
        "id": "6R68mwfSI7b0"
      }
    },
    {
      "cell_type": "markdown",
      "source": [
        "![ScreenShot](https://t1.daumcdn.net/cfile/tistory/994BB8505B72775C0B)"
      ],
      "metadata": {
        "id": "NliXvyI1RA1V"
      }
    },
    {
      "cell_type": "markdown",
      "source": [
        "#### 모델 기반 학습 (model-based learning)\n",
        "* 샘플들의 모델을 만들어 예측(prediction)에 사용하는 것\n"
      ],
      "metadata": {
        "id": "HsCIcWeHRLBf"
      }
    },
    {
      "cell_type": "markdown",
      "source": [
        "##### (Example) 더 나은 삶의 지표 (Better Life Index)\n",
        "![ScreenShot](https://tensorflowkorea.files.wordpress.com/2018/05/e18489e185b3e1848fe185b3e18485e185b5e186abe18489e185a3e186ba-2018-05-24-e1848be185a9e18492e185ae-6-35-00.png?w=625)\n",
        "![ScreenShot](http://formal.hknu.ac.kr/handson-ml2/slides/images/homl01-17.png)\n",
        "* 데이터가 흩어져있지만(무작위성) 삶의 만족도는 국가의 1인당 GDP가 증가할수록 선형으로 올라감\n",
        "* 데이터를 대표하는 **모델 선택**(model selection)\n",
        "    * **선형 모델**(linear model)"
      ],
      "metadata": {
        "id": "B38hTmTjSz6B"
      }
    },
    {
      "cell_type": "markdown",
      "source": [
        "* 선형 모델:\n",
        "$$삶의 만족도 = θ_0 + θ_1 × 1인당 GDP$$\n",
        "$$θ_0, θ_1: 모델 파라미터$$\n",
        "$$θ_0: 기울기$$\n",
        "$$θ_1: 편향(절편)$$\n",
        "    * 두 개의 모델 파라미터(model parameter) $θ_0, θ_1$를 가진다. (모델을 사용하기 전에 $θ_0, θ_1$를 정의해야 한다.)  \n",
        "![ScreenShot](http://formal.hknu.ac.kr/handson-ml2/slides/images/homl01-18.png)\n"
      ],
      "metadata": {
        "id": "iWfEu8s-Socx"
      }
    },
    {
      "cell_type": "markdown",
      "source": [
        "* 모델이 최상의 성능을 내도록 하는 값을 알아내는 방법: 측정 지표\n",
        "    * **효용함수**(utility function): 모델이 얼마나 좋은 지 측정 (**적합도 함수**(fitness function))\n",
        "    * **비용함수**(cost function): 모델이 얼마나 나쁜 지 측정"
      ],
      "metadata": {
        "id": "DgBuoLwfV95P"
      }
    },
    {
      "cell_type": "markdown",
      "source": [
        "* 선형 회귀(linear regression) 알고리즘\n",
        "    * 훈련 데이터에 가장 잘 맞는 선형 모델의 파라미터를 찾는다. (**훈련**시킨다)\n",
        "    "
      ],
      "metadata": {
        "id": "iWZi-I6zXV2T"
      }
    },
    {
      "cell_type": "code",
      "source": [
        "import os\n",
        "datapath = os.path.join(\"datasets\", \"lifesat\", \"\")\n",
        "\n",
        "%matplotlib inline\n",
        "import matplotlib as mpl\n",
        "mpl.rc('axes', labelsize=14)\n",
        "mpl.rc('xtick', labelsize=12)\n",
        "mpl.rc('ytick', labelsize=12)"
      ],
      "metadata": {
        "id": "bP7dENJ3ZDLY"
      },
      "execution_count": null,
      "outputs": []
    },
    {
      "cell_type": "code",
      "source": [
        "# 데이터 다운로드\n",
        "import urllib.request\n",
        "DOWNLOAD_ROOT = \"https://raw.githubusercontent.com/rickiepark/handson-ml2/master/\"\n",
        "os.makedirs(datapath, exist_ok=True)\n",
        "for filename in (\"oecd_bli_2015.csv\", \"gdp_per_capita.csv\"):\n",
        "    print(\"Downloading\", filename)\n",
        "    url = DOWNLOAD_ROOT + \"datasets/lifesat/\" + filename\n",
        "    urllib.request.urlretrieve(url, datapath + filename)"
      ],
      "metadata": {
        "colab": {
          "base_uri": "https://localhost:8080/"
        },
        "id": "cI-wVYW6Y-fz",
        "outputId": "f944fd5d-b096-4ecb-984f-71fd0f56ddd6"
      },
      "execution_count": null,
      "outputs": [
        {
          "output_type": "stream",
          "name": "stdout",
          "text": [
            "Downloading oecd_bli_2015.csv\n",
            "Downloading gdp_per_capita.csv\n"
          ]
        }
      ]
    },
    {
      "cell_type": "code",
      "source": [
        "# OECD의 삶의 만족도 데이터와 IMF의 1인당 GDP 데이터 합치기\n",
        "def prepare_country_stats(oecd_bli, gdp_per_capita):\n",
        "    oecd_bli = oecd_bli[oecd_bli[\"INEQUALITY\"]==\"TOT\"]\n",
        "    oecd_bli = oecd_bli.pivot(index=\"Country\", columns=\"Indicator\", values=\"Value\")\n",
        "    gdp_per_capita.rename(columns={\"2015\": \"GDP per capita\"}, inplace=True)\n",
        "    gdp_per_capita.set_index(\"Country\", inplace=True)\n",
        "    full_country_stats = pd.merge(left=oecd_bli, right=gdp_per_capita,\n",
        "                                  left_index=True, right_index=True)\n",
        "    full_country_stats.sort_values(by=\"GDP per capita\", inplace=True)\n",
        "    remove_indices = [0, 1, 6, 8, 33, 34, 35]\n",
        "    keep_indices = list(set(range(36)) - set(remove_indices))\n",
        "    return full_country_stats[[\"GDP per capita\", 'Life satisfaction']].iloc[keep_indices]\n"
      ],
      "metadata": {
        "id": "y2-_W_csasHc"
      },
      "execution_count": null,
      "outputs": []
    },
    {
      "cell_type": "code",
      "source": [
        "# 사이킷런을 이용한 선형 모델의 훈련과 실행\n",
        "import matplotlib.pyplot as plt\n",
        "import numpy as np\n",
        "import pandas as pd\n",
        "import sklearn.linear_model\n",
        "\n",
        "# 데이터 적재\n",
        "oecd_bli = pd.read_csv(datapath + \"oecd_bli_2015.csv\", thousands=',')\n",
        "gdp_per_capita = pd.read_csv(datapath + \"gdp_per_capita.csv\", thousands=',', delimiter='\\t',\n",
        "                             encoding='latin1', na_values='n/a')\n",
        "\n",
        "# 데이터 준비\n",
        "country_stats = prepare_country_stats(oecd_bli, gdp_per_capita)\n",
        "X = np.c_[country_stats[\"GDP per capita\"]]      # np.c_ : 주어진 행렬에 열 추가 // np.r_ : 주어진 행렬에 행 추가\n",
        "y = np.c_[country_stats[\"Life satisfaction\"]]\n",
        "\n",
        "# 데이터 시각화\n",
        "country_stats.plot(kind='scatter', x=\"GDP per capita\", y='Life satisfaction')    # scatter: 산점도\n",
        "plt.show()\n",
        "\n",
        "# 선형 모델 선택\n",
        "model = sklearn.linear_model.LinearRegression()\n",
        "\n",
        "# 모델 훈련\n",
        "model.fit(X, y)\n",
        "\n",
        "# 키프로스에 대한 예측 만들기\n",
        "X_new = [[22587]]   # 키프로스 1인당 GDP\n",
        "print(model.predict(X_new))"
      ],
      "metadata": {
        "colab": {
          "base_uri": "https://localhost:8080/",
          "height": 303
        },
        "id": "_U3R_wQ0X6pR",
        "outputId": "44188f4a-8775-4818-9320-c698c880987f"
      },
      "execution_count": null,
      "outputs": [
        {
          "output_type": "display_data",
          "data": {
            "text/plain": [
              "<Figure size 432x288 with 1 Axes>"
            ],
            "image/png": "[encoded data removed]"
          },
          "metadata": {
            "needs_background": "light"
          }
        },
        {
          "output_type": "stream",
          "name": "stdout",
          "text": [
            "[[5.96242338]]\n"
          ]
        }
      ]
    },
    {
      "cell_type": "markdown",
      "source": [
        "* 더 좋은 예측을 위해서\n",
        "    * 더 많은 특성(고용률, 건강, 대기오염,,,)\n",
        "    * 좋은 훈련데이터를 더 많이 수집\n",
        "    * 더 강력한 모델(다항 회귀 모델) 사용"
      ],
      "metadata": {
        "id": "dlE64Q6KYxC4"
      }
    },
    {
      "cell_type": "markdown",
      "source": [
        "1. 데이터를 분석\n",
        "2. 모델을 선택\n",
        "3. 훈련 데이터로 모델을 훈련(학습 알고리즘이 비용 함수를 최소화하는 모델 파라미터 찾기)\n",
        "4. 마지막으로 새로운 데이터에 모델을 적용해 예측(추론)을 하고 모델이 일반화되길 기대한다."
      ],
      "metadata": {
        "id": "uIQuNC8edwLf"
      }
    },
    {
      "cell_type": "markdown",
      "source": [
        "## 1-5. 머신러닝의 주요 도전 과제"
      ],
      "metadata": {
        "id": "G1OWspTzeBAO"
      }
    },
    {
      "cell_type": "markdown",
      "source": [
        "* **나쁜 알고리즘**\n",
        "* **나쁜 데이터**"
      ],
      "metadata": {
        "id": "RUp-34ydeJPN"
      }
    },
    {
      "cell_type": "markdown",
      "source": [
        "### 1-5-1. 충분하지 않은 양의 훈련 데이터\n",
        "* 대부분의 머신러닝 알고리즘이 잘 작동하려면 데이터가 많아야 한다.\n",
        "    * 간단한 문제라도 수천 개의 데이터가 필요\n",
        "    * 이미지나 음성인식 같은 문제는 수백만 개가 필요\n",
        "    * 데이터가 부족하면 알고리즘 성능 향상 어려움"
      ],
      "metadata": {
        "id": "MsmiDAg9eOlC"
      }
    },
    {
      "cell_type": "markdown",
      "source": [
        "### 1-5-2. 대표성 없는 훈련 데이터\n",
        "* 일반화가 잘 되기 위해서 일반화하기 원하는 새로운 사례를 훈련 데이터가 잘 대표하는 것이 중요\n",
        "* **샘플링 잡음**(sampling noise): 우연에 의한 대표성이 없는 데이터\n",
        "* **샘플링 편향**(sampling bias): 표본 추출 방법이 잘못된 대표성이 없는 데이터\n"
      ],
      "metadata": {
        "id": "pb9bzcQvke7U"
      }
    },
    {
      "cell_type": "markdown",
      "source": [
        "### 1-5-3. 낮은 품질의 데이터\n",
        "* 훈련 데이터에 에러, 이상치, 잡음으로 가득한 경우 머신러닝 시스템에 내재된 패턴을 찾기 어렵다.\n",
        "* 훈련 데이터를 정제한다.\n",
        "    * 일부 샘플이 이상치라는 게 명확한 경우 그것들을 무시하거나 수동으로 고쳐준다.\n",
        "    * 일부 샘플에 특성이 누락된 경우\n",
        "        1. 해당 특성을 제외\n",
        "        2. 해당 샘플을 제외\n",
        "        3. 누락된 값을 채움\n",
        "        4. 해당 특성을 넣은 경우와 뺀 경우 모델을 훈련"
      ],
      "metadata": {
        "id": "cHR--L0Lw-aQ"
      }
    },
    {
      "cell_type": "markdown",
      "source": [
        "### 1-5-4. 관련 없는 특성\n",
        "* **특성 공학**(feature engineering): 훈련에 사용할 좋은 특성을 찾는 일\n",
        "    * **특성 선택**(feature selection): 가지고 있는 특성중에서 훈련에 가장 유용한 특성 선택\n",
        "    * **특성 추출**(feature extraction): 특성을 결합하여 더 유용한 특성을 만든다.\n",
        "    * 새로운 데이터를 수집해 새 특성을 만든다."
      ],
      "metadata": {
        "id": "0BGeuDxcyG49"
      }
    },
    {
      "cell_type": "markdown",
      "source": [
        "### 1-5-5. 훈련 데이터 과대 적합\n",
        "* **과대적합**:훈련 세트에 특화되어 일반화 성능이 떨어지는 현상 (과도하게 일반화)\n",
        "* 과대적합은 데이터에 있는 잡음의 양에 비해 모델이 너무 복잡할 때 발생\n",
        "    * 파라미터 수가 적은 모델을 선택\n",
        "    * 훈련 데이터에 있는 특성 수를 줄인다.\n",
        "    * 모델에 제약을 가하여 단순화\n",
        "    * 훈련 데이터를 더 많이 모은다.\n",
        "    * 훈련 데이터의 잡음을 줄인다.(오류 데이터 수정, 이상치 제거)\n",
        "* **규제**(regularization): 모델을 단순하게 하고 과대적합의 위험을 감소시키기 위해 모델에 제약을 가하는 것.  \n",
        "\n",
        "> 데이터에 완벽히 맞추는 것과 일반화를 위해 단순한 모델을 유지하는 것 사이의 올바른 균형을 찾는 것이 좋다."
      ],
      "metadata": {
        "id": "Ejtsk8kjyu3T"
      }
    },
    {
      "cell_type": "markdown",
      "source": [
        "![ScreenShot](http://formal.hknu.ac.kr/handson-ml2/slides/images/homl01-23.png)"
      ],
      "metadata": {
        "id": "In7DJD_p17AL"
      }
    },
    {
      "cell_type": "markdown",
      "source": [
        "* **하이퍼파라미터**(hyperparameter): 학습 알고리즘의 파라미터(학습하는 동안 규제의 양 결정) "
      ],
      "metadata": {
        "id": "TW8dq5wI2ebV"
      }
    },
    {
      "cell_type": "markdown",
      "source": [
        "### 1-5-6. 훈련 데이터 과소적합\n",
        "* **과소적합**(underfitting): 모델이 너무 단순해서 데이터의 내재된 구조를 학습하지 못하는 것\n",
        "    * 모델 파라미터가 더 많은 강력한 모델 선택\n",
        "    * 학습 알고리즘에 더 좋은 특성을 제공 (특성 공학)\n",
        "    * 모델의 제약을 줄인다. (규제 하이퍼파라미터를 감소)"
      ],
      "metadata": {
        "id": "G6pzfVn23FMS"
      }
    },
    {
      "cell_type": "markdown",
      "source": [
        "## 1-6. 테스트와 검증"
      ],
      "metadata": {
        "id": "I52A1a0l3p4o"
      }
    },
    {
      "cell_type": "markdown",
      "source": [
        "> 새로운 샘플에 실제로 적용해보기"
      ],
      "metadata": {
        "id": "_2IVR4y44MNC"
      }
    },
    {
      "cell_type": "markdown",
      "source": [
        "#### **검증**\n",
        "* 훈련된 모델의 성늘 평가: 테스트 세트 활용\n",
        "* 전체 데이터 셋을 훈련세트(80%)와 테스트 세트(20%)로 구분\n",
        "    * 훈련 세트: 모델 훈련용\n",
        "    * 테스트 세트: 모델 테스트용\n",
        "    * 데이터셋이 매우 크면 테스트 세트 비율을 낮출 수 있음\n",
        "* 검증 기준: **일반화 오차**\n",
        "    * 새로운 샘플에 대한 오류비율\n",
        "    * 학습된 모델의 일반화 성능의 기준\n",
        "* 과대접합: 훈련 오차에 비해 일반화 오차가 높은 경우\n"
      ],
      "metadata": {
        "id": "ASbCbTLt4Xj4"
      }
    },
    {
      "cell_type": "markdown",
      "source": [
        "### 1-6-1. 하이퍼파라미터 튜닝과 모델 선택\n",
        "* **하이퍼파라미터**(hyper-parameter)\n",
        "    * 알고리즘 학습 모델 지정에 사용하는 파라미터\n",
        "    * 훈련 과정에 변하는 파라미터가 아님\n",
        "    * 하이퍼파라미터를 조절하면서 가장 좋은 성능의 모델 선정"
      ],
      "metadata": {
        "id": "PfNeveJA5MpE"
      }
    },
    {
      "cell_type": "markdown",
      "source": [
        "* **교차 검증**\n",
        "    * 예비표본(홀드아웃 holdout)검증\n",
        "        * 예비표본(검증세트 validation set): 훈련 세트의 일부로 만들어진 데이터셋\n",
        "        * 다양한 하이퍼파라미터 값을 후보 모델 평가용으로 예비 표본을 검증세트로 활용하는 기법\n",
        "    * 교차 검증\n",
        "        * 여러 개의 검증세트를 사용한 반복적인 예비표본 검증 적용 기법\n",
        "        * 장점: 교차 검증 후 모든 모델의 평가를 평균하면 훨씬 정확한 성능 측정 가능\n",
        "        * 단점: 훈련 시간이 검증 세트의 개수에 비례해 늘어남"
      ],
      "metadata": {
        "id": "Ol6ohxgE5-71"
      }
    },
    {
      "cell_type": "markdown",
      "source": [
        "* **데이터 불일치**\n",
        "    * 모델 훈련에 사용된 데이터가 실전에 사용되는 데이터를 완벽하게 대변하지 못하는 경우 발생\n",
        "    * 예제: 꽃 이름 확인 알고리즘\n",
        "        * 인터넷으로 구한 꽃사진으로 모델 훈련\n",
        "        * 직접 촬영한 사진으로 진행한 성능측정이 낮게 나오면 데이터 불일치 가능성 높음 \n",
        "    * 데이터 불일치 여부 확인법\n",
        "        * 훈련-개발 세트(train-dev set): 인터넷에서 다운로드한 꽃사진의 일부\n",
        "        * 나머지 꽃사진으로 모델 훈련 후, 훈련-개발 세트를 이용한 성능 평가 진행\n",
        "        * 데이터 불일치 발생: 성능 평가가 좋지만 직접 촬영한 사진으로 구성된 검증 세트에 대한 성능이 좋지 않은 경우"
      ],
      "metadata": {
        "id": "W9vR5-wxD9Lz"
      }
    },
    {
      "cell_type": "markdown",
      "source": [
        "* **공짜 점심 없음**(No free lunch)\n",
        "    * 주어진 데이터셋에 가장 적절한 모델을 미리 알 수 없음\n",
        "    * 다양한 모델과 다양한 하이퍼파라미터 튜닝을 통해 확인해야함."
      ],
      "metadata": {
        "id": "tghZDwJjFcnn"
      }
    },
    {
      "cell_type": "code",
      "source": [],
      "metadata": {
        "id": "Ei9-X0P-E8s9"
      },
      "execution_count": null,
      "outputs": []
    }
  ]
}